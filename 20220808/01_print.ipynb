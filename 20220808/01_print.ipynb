{
 "cells": [
  {
   "cell_type": "code",
   "execution_count": 1,
   "id": "d5213297",
   "metadata": {},
   "outputs": [],
   "source": [
    "# '#'으로 시작하면 1줄 주석 => 컴파일러(번역)나 인터프리터(통역)가 번역하지 않는다. => 코드 설명\n",
    "# ''' 부터 ''' 사이에 코딩하면 여러 줄 주석을 지정하 수 있다."
   ]
  },
  {
   "cell_type": "code",
   "execution_count": 9,
   "id": "85615d3d",
   "metadata": {},
   "outputs": [
    {
     "name": "stdout",
     "output_type": "stream",
     "text": [
      "Hello Python\n",
      "안녕 파이썬\n",
      "제2외국어를 배운 호랑이가 \"야옹\" 했습니다.\n",
      "제2외국어를 배운 고양이가 '어흥' 했습니다.\n",
      "제2외국어를 배운 호랑이가 '야옹' 했습니다.\n",
      "제2외국어를 배운 고양이가 \"어흥\" 했습니다.\n"
     ]
    }
   ],
   "source": [
    "# 파이썬은 문자열 데이터를 표현할 때 큰따옴표나 작은따옴표로 묶어주면 된다. => 짝만 맞춰주면 된다.\n",
    "print(\"Hello Python\")\n",
    "print('안녕 파이썬')\n",
    "print('제2외국어를 배운 호랑이가 \"야옹\" 했습니다.')\n",
    "print(\"제2외국어를 배운 고양이가 '어흥' 했습니다.\")\n",
    "print('제2외국어를 배운 호랑이가 \\'야옹\\' 했습니다.')\n",
    "print(\"제2외국어를 배운 고양이가 \\\"어흥\\\" 했습니다.\")"
   ]
  },
  {
   "cell_type": "code",
   "execution_count": null,
   "id": "c693ed5c",
   "metadata": {},
   "outputs": [],
   "source": []
  }
 ],
 "metadata": {
  "kernelspec": {
   "display_name": "Python 3",
   "language": "python",
   "name": "python3"
  },
  "language_info": {
   "codemirror_mode": {
    "name": "ipython",
    "version": 3
   },
   "file_extension": ".py",
   "mimetype": "text/x-python",
   "name": "python",
   "nbconvert_exporter": "python",
   "pygments_lexer": "ipython3",
   "version": "3.6.8"
  }
 },
 "nbformat": 4,
 "nbformat_minor": 5
}
