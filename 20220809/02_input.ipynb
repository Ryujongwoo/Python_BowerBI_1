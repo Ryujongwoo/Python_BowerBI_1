{
 "cells": [
  {
   "cell_type": "markdown",
   "id": "f5394db6",
   "metadata": {},
   "source": [
    "# 변수(variable)\n",
    "변수는 처리할 데이터(상수, constant)를 저장하는 기억 장소를 말한다.  \n",
    "\n",
    "변수명 작성방법  \n",
    "영문자(대소문자를 구분한다), 숫자, 특수문자('_'만 사용 가능)를 사용할 수 있으며 반드시 문자로 시작해야  \n",
    "하고 예약어(파이썬과 약속된 단어 => 명령어, 함수)는 사용할 수 없다."
   ]
  },
  {
   "cell_type": "markdown",
   "id": "2e78db50",
   "metadata": {},
   "source": [
    "파이썬은 C/C++, JAVA와 같이 변수 선언시 변수의 자료형을 지정하지 않는다.  \n",
    "파이썬은 변수에 저장되는 데이터 타입에 따라 자동으로 변수의 자료형이 결정된다.\n",
    "'='는 같다라는 의미로 사용되지 않고 '=' 오른쪽의 데이터를 '=' 왼쪽의 기억 장소에 저장하라는 의미로  \n",
    "사용된다. => 대입문, 할당문, 배정문  \n",
    "'=='와 같이 2개를 연속해서 사용해야 같다로 인식한다."
   ]
  },
  {
   "cell_type": "code",
   "execution_count": 11,
   "id": "f8fc93fc",
   "metadata": {},
   "outputs": [
    {
     "name": "stdout",
     "output_type": "stream",
     "text": [
      "홍길동\n",
      "<class 'str'>\n",
      "100\n",
      "<class 'int'>\n",
      "3.141592\n",
      "<class 'float'>\n",
      "True\n",
      "<class 'bool'>\n"
     ]
    }
   ],
   "source": [
    "a = '홍길동'\n",
    "print(a)\n",
    "# type() 함수는 인수로 지정된 기억 장소의 자료형을 얻어온다.\n",
    "print(type(a)) # <class 'str'>\n",
    "a = 100\n",
    "print(a)\n",
    "print(type(a)) # <class 'int'>\n",
    "a = 3.141592\n",
    "print(a)\n",
    "print(type(a))\n",
    "# True => 참, False => 거짓, 반드시 첫 문자만 대문자로 나머지는 소문자로 작성해야 한다.\n",
    "a = True\n",
    "print(a)\n",
    "print(type(a))"
   ]
  },
  {
   "cell_type": "code",
   "execution_count": 13,
   "id": "032d223b",
   "metadata": {},
   "outputs": [
    {
     "name": "stdout",
     "output_type": "stream",
     "text": [
      "True\n"
     ]
    },
    {
     "ename": "NameError",
     "evalue": "name 'a' is not defined",
     "output_type": "error",
     "traceback": [
      "\u001b[1;31m---------------------------------------------------------------------------\u001b[0m",
      "\u001b[1;31mNameError\u001b[0m                                 Traceback (most recent call last)",
      "\u001b[1;32m<ipython-input-13-465e0893af60>\u001b[0m in \u001b[0;36m<module>\u001b[1;34m\u001b[0m\n\u001b[0;32m      2\u001b[0m \u001b[0mprint\u001b[0m\u001b[1;33m(\u001b[0m\u001b[0ma\u001b[0m\u001b[1;33m)\u001b[0m\u001b[1;33m\u001b[0m\u001b[1;33m\u001b[0m\u001b[0m\n\u001b[0;32m      3\u001b[0m \u001b[1;32mdel\u001b[0m \u001b[0ma\u001b[0m\u001b[1;33m\u001b[0m\u001b[1;33m\u001b[0m\u001b[0m\n\u001b[1;32m----> 4\u001b[1;33m \u001b[0mprint\u001b[0m\u001b[1;33m(\u001b[0m\u001b[0ma\u001b[0m\u001b[1;33m)\u001b[0m\u001b[1;33m\u001b[0m\u001b[1;33m\u001b[0m\u001b[0m\n\u001b[0m",
      "\u001b[1;31mNameError\u001b[0m: name 'a' is not defined"
     ]
    }
   ],
   "source": [
    "# 더 이상 사용할 필요가 없는 기억 장소는 del 명령으로 메모리에서 제거할 수 있다.\n",
    "print(a)\n",
    "del a\n",
    "print(a)"
   ]
  },
  {
   "cell_type": "code",
   "execution_count": null,
   "id": "12f22cf2",
   "metadata": {},
   "outputs": [],
   "source": []
  },
  {
   "cell_type": "code",
   "execution_count": null,
   "id": "4f41a583",
   "metadata": {},
   "outputs": [],
   "source": []
  },
  {
   "cell_type": "code",
   "execution_count": null,
   "id": "7d9025ae",
   "metadata": {},
   "outputs": [],
   "source": []
  },
  {
   "cell_type": "code",
   "execution_count": null,
   "id": "d87a6e3a",
   "metadata": {},
   "outputs": [],
   "source": []
  },
  {
   "cell_type": "code",
   "execution_count": null,
   "id": "80b50f35",
   "metadata": {},
   "outputs": [],
   "source": []
  },
  {
   "cell_type": "code",
   "execution_count": null,
   "id": "bbe295d8",
   "metadata": {},
   "outputs": [],
   "source": []
  },
  {
   "cell_type": "code",
   "execution_count": null,
   "id": "a8fe7012",
   "metadata": {},
   "outputs": [],
   "source": []
  }
 ],
 "metadata": {
  "kernelspec": {
   "display_name": "Python 3",
   "language": "python",
   "name": "python3"
  },
  "language_info": {
   "codemirror_mode": {
    "name": "ipython",
    "version": 3
   },
   "file_extension": ".py",
   "mimetype": "text/x-python",
   "name": "python",
   "nbconvert_exporter": "python",
   "pygments_lexer": "ipython3",
   "version": "3.6.8"
  }
 },
 "nbformat": 4,
 "nbformat_minor": 5
}
