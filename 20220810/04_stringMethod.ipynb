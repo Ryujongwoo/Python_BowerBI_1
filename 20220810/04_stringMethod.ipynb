{
 "cells": [
  {
   "cell_type": "code",
   "execution_count": 4,
   "id": "c34a0cbc",
   "metadata": {},
   "outputs": [
    {
     "name": "stdout",
     "output_type": "stream",
     "text": [
      "33\n",
      "!\n",
      "!\n",
      "!\n"
     ]
    }
   ],
   "source": [
    "string = 'We are the champions, My friends!'\n",
    "# len() 함수는 인수로 지정한 문자열을 구성하는 문자의 개수를 얻어온다.\n",
    "print(len(string))\n",
    "print(string[32])\n",
    "print(string[-1])\n",
    "print(string[len(string) - 1])"
   ]
  },
  {
   "cell_type": "code",
   "execution_count": 10,
   "id": "b23da76d",
   "metadata": {},
   "outputs": [
    {
     "name": "stdout",
     "output_type": "stream",
     "text": [
      "4\n",
      "1\n",
      "0\n"
     ]
    }
   ],
   "source": [
    "string = 'We are the champions, My friends!'\n",
    "# count() 메소드는 인수로 지정한 문자열의 전체 출현 횟수를 얻어온다.\n",
    "# count() 메소드의 인수로 지정한 문자열이 특정 문자열에 포함되어있나 알아낼 수 있다.\n",
    "# 실행 결과가 0이면 불포함, 1이면 포함, 2이상이면 중복해서 포함\n",
    "print(string.count('e'))\n",
    "print(string.count('We'))\n",
    "print(string.count('we'))"
   ]
  },
  {
   "cell_type": "code",
   "execution_count": 13,
   "id": "31d6fb5e",
   "metadata": {},
   "outputs": [
    {
     "name": "stdout",
     "output_type": "stream",
     "text": [
      "1\n",
      "0\n"
     ]
    },
    {
     "ename": "ValueError",
     "evalue": "substring not found",
     "output_type": "error",
     "traceback": [
      "\u001b[1;31m---------------------------------------------------------------------------\u001b[0m",
      "\u001b[1;31mValueError\u001b[0m                                Traceback (most recent call last)",
      "\u001b[1;32m<ipython-input-13-0612a1782045>\u001b[0m in \u001b[0;36m<module>\u001b[1;34m\u001b[0m\n\u001b[0;32m      4\u001b[0m \u001b[0mprint\u001b[0m\u001b[1;33m(\u001b[0m\u001b[0mstring\u001b[0m\u001b[1;33m.\u001b[0m\u001b[0mindex\u001b[0m\u001b[1;33m(\u001b[0m\u001b[1;34m'e'\u001b[0m\u001b[1;33m)\u001b[0m\u001b[1;33m)\u001b[0m\u001b[1;33m\u001b[0m\u001b[1;33m\u001b[0m\u001b[0m\n\u001b[0;32m      5\u001b[0m \u001b[0mprint\u001b[0m\u001b[1;33m(\u001b[0m\u001b[0mstring\u001b[0m\u001b[1;33m.\u001b[0m\u001b[0mindex\u001b[0m\u001b[1;33m(\u001b[0m\u001b[1;34m'We'\u001b[0m\u001b[1;33m)\u001b[0m\u001b[1;33m)\u001b[0m\u001b[1;33m\u001b[0m\u001b[1;33m\u001b[0m\u001b[0m\n\u001b[1;32m----> 6\u001b[1;33m \u001b[0mprint\u001b[0m\u001b[1;33m(\u001b[0m\u001b[0mstring\u001b[0m\u001b[1;33m.\u001b[0m\u001b[0mindex\u001b[0m\u001b[1;33m(\u001b[0m\u001b[1;34m'we'\u001b[0m\u001b[1;33m)\u001b[0m\u001b[1;33m)\u001b[0m\u001b[1;33m\u001b[0m\u001b[1;33m\u001b[0m\u001b[0m\n\u001b[0m",
      "\u001b[1;31mValueError\u001b[0m: substring not found"
     ]
    }
   ],
   "source": [
    "string = 'We are the champions, My friends!'\n",
    "# index() 메소드는 인수로 지정한 문자열이 최초로 출현하는 인덱스를 얻어온다.\n",
    "# index() 메소드는 인수로 지정한 문자열이 특정 문자열에 포함되어있나 알아낼 수 있다.\n",
    "# 실행 결과가 0이상이면 포함, 에러가 발생되면 불포함\n",
    "print(string.index('e'))\n",
    "print(string.index('We'))\n",
    "print(string.index('we'))"
   ]
  },
  {
   "cell_type": "code",
   "execution_count": 15,
   "id": "ef76fa4d",
   "metadata": {},
   "outputs": [
    {
     "name": "stdout",
     "output_type": "stream",
     "text": [
      "1\n",
      "0\n",
      "-1\n"
     ]
    }
   ],
   "source": [
    "string = 'We are the champions, My friends!'\n",
    "# find() 메소드는 인수로 지정한 문자열이 최초로 출현하는 인덱스를 얻어온다.\n",
    "# find() 메소드는 인수로 지정한 문자열이 특정 문자열에 포함되어있나 알아낼 수 있다.\n",
    "# 실행 결과가 0이상이면 포함, -1은 불포함\n",
    "print(string.find('e'))\n",
    "print(string.find('We'))\n",
    "print(string.find('we'))"
   ]
  },
  {
   "cell_type": "code",
   "execution_count": 18,
   "id": "fabe331f",
   "metadata": {},
   "outputs": [
    {
     "name": "stdout",
     "output_type": "stream",
     "text": [
      "TJOEUNIT GOOD\n",
      "tjoeunit good\n",
      "Tjoeunit Good\n"
     ]
    }
   ],
   "source": [
    "string = 'TjoeunIT good'\n",
    "# upper() 메소드는 문자열을 무조건 대문자로 변환한다.\n",
    "print(string.upper())\n",
    "# lower() 메소드는 문자열을 무조건 소문자로 변환한다.\n",
    "print(string.lower())\n",
    "# title() 메소드는 문자열을 구성하는 각 단어의 첫 문자만 대문자로 변환한다.\n",
    "print(string.title())"
   ]
  },
  {
   "cell_type": "code",
   "execution_count": 23,
   "id": "c51d6dd8",
   "metadata": {},
   "outputs": [
    {
     "name": "stdout",
     "output_type": "stream",
     "text": [
      "    TjoeunIT    \n",
      "16\n",
      "TjoeunIT    \n",
      "12\n",
      "    TjoeunIT\n",
      "12\n",
      "TjoeunIT\n",
      "8\n"
     ]
    }
   ],
   "source": [
    "string = '    TjoeunIT    '\n",
    "print(string)\n",
    "print(len(string))\n",
    "# lstrip() 메소드는 문자열 왼쪽(앞)의 불필요한 공백을 제거한다.\n",
    "print(string.lstrip())\n",
    "print(len(string.lstrip()))\n",
    "# rstrip() 메소드는 문자열 오른쪽(뒤)의 불필요한 공백을 제거한다.\n",
    "print(string.rstrip())\n",
    "print(len(string.rstrip()))\n",
    "# strip() 메소드는 문자열 앞, 뒤의 불필요한 공백을 제거한다.\n",
    "print(string.strip())\n",
    "print(len(string.strip()))"
   ]
  },
  {
   "cell_type": "code",
   "execution_count": 26,
   "id": "108b1e61",
   "metadata": {},
   "outputs": [
    {
     "name": "stdout",
     "output_type": "stream",
     "text": [
      "We are the champions, My friends!\n",
      "We are the champions, Your friends!\n",
      "W2 ar2 th2 champions, My fri2nds!\n"
     ]
    }
   ],
   "source": [
    "string = 'We are the champions, My friends!'\n",
    "# replace() 메소드는 특정 문자열을 지정한 문자열로 일괄적으로 치환한다.\n",
    "print(string)\n",
    "print(string.replace('My', 'Your'))\n",
    "print(string.replace('e', '2'))"
   ]
  },
  {
   "cell_type": "code",
   "execution_count": 32,
   "id": "a2dc0786",
   "metadata": {},
   "outputs": [
    {
     "name": "stdout",
     "output_type": "stream",
     "text": [
      "T/j/o/e/u/n/I/T\n",
      "T j o e u n I T\n",
      "T\n",
      "j\n",
      "o\n",
      "e\n",
      "u\n",
      "n\n",
      "I\n",
      "T\n",
      "T~(^^!)j~(^^!)o~(^^!)e~(^^!)u~(^^!)n~(^^!)I~(^^!)T\n"
     ]
    }
   ],
   "source": [
    "string = 'TjoeunIT'\n",
    "# join() 메소드는 인수로 지정한 문자열을 구성하는 문자 사이사이에 특정 문자열을 삽입한다.\n",
    "print('/'.join(string))\n",
    "print(' '.join(string))\n",
    "print('\\n'.join(string))\n",
    "print('~(^^!)'.join(string))"
   ]
  },
  {
   "cell_type": "markdown",
   "id": "ad918f7c",
   "metadata": {},
   "source": [
    "문자열 메소드 응용"
   ]
  },
  {
   "cell_type": "code",
   "execution_count": 37,
   "id": "3cd665c7",
   "metadata": {},
   "outputs": [
    {
     "name": "stdout",
     "output_type": "stream",
     "text": [
      "www.tjoeun.com\n",
      "tjmoeun\n"
     ]
    }
   ],
   "source": [
    "# strip() 메소드의 새로운 발견 => strip() 메소드가 꼭 공백만 제거하는 것은 아니다.\n",
    "# strip() 메소드의 인수로 아무것도 지정하지 않으면 공백이 기본값으로 사용되서 공백이 제거되지만\n",
    "# 인수를 지정하면 인수로 지정한 문자가 문자열 앞, 뒤에 나타나지 않을 때 까지 제거한다.\n",
    "# 인수로 입력한 문자열의 순서와 제거하는 순서는 아무런 상관이 없다.\n",
    "print('www.tjoeun.com')\n",
    "print('www.tjmoeun.com'.strip('o.mwc'))"
   ]
  },
  {
   "cell_type": "code",
   "execution_count": 41,
   "id": "88ac9b9b",
   "metadata": {},
   "outputs": [
    {
     "name": "stdout",
     "output_type": "stream",
     "text": [
      "www.tjoeun.com\n"
     ]
    }
   ],
   "source": [
    "# 문자열 중간의 특정 문자를 제거하려면 replace() 메소드를 사용하면 된다.\n",
    "print('w w w . t           j o e u n . c o m'.replace(' ', ''))"
   ]
  },
  {
   "cell_type": "code",
   "execution_count": 46,
   "id": "dc5ded18",
   "metadata": {},
   "outputs": [
    {
     "name": "stdout",
     "output_type": "stream",
     "text": [
      "주민등록번호: 830422-1185600\n",
      "830422-1\n",
      "830422-1******\n",
      "830422-1******\n"
     ]
    }
   ],
   "source": [
    "# 주민등록번호를 입력받아 성별 뒤의 모든 문자를 '*'이 출력되게 한다.\n",
    "# 830422-1185600 => 830422-1******\n",
    "jumin = input('주민등록번호: ')\n",
    "print(jumin[0:8])\n",
    "print(jumin[0:8] + '******')\n",
    "print(jumin[0:8] + '*' * 6)"
   ]
  },
  {
   "cell_type": "code",
   "execution_count": 54,
   "id": "779e3538",
   "metadata": {},
   "outputs": [
    {
     "name": "stdout",
     "output_type": "stream",
     "text": [
      "코드: 123-1-5467564\n",
      "123-\n",
      "1-5467564\n",
      "-5467564\n",
      "123-*-5467564\n"
     ]
    }
   ],
   "source": [
    "# 코드를 입력받아서 '-'와 '-' 사이의 모든 문자를 '*'이 출력되게 한다.\n",
    "# 1234-****-7890\n",
    "# 12-***-567890\n",
    "# 123456-*-1245\n",
    "code = input('코드: ')\n",
    "count = len(code)\n",
    "start = code[:code.find('-') + 1]\n",
    "print(start)\n",
    "code = code[code.find('-') + 1:]\n",
    "print(code)\n",
    "end = code[code.find('-'):]\n",
    "print(end)\n",
    "print(start + '*' * (count - len(start) - len(end)) + end)"
   ]
  },
  {
   "cell_type": "code",
   "execution_count": 56,
   "id": "77032b82",
   "metadata": {},
   "outputs": [
    {
     "name": "stdout",
     "output_type": "stream",
     "text": [
      "코드: 123-1-5467564\n",
      "123-\n",
      "-5467564\n",
      "123-*-5467564\n"
     ]
    }
   ],
   "source": [
    "# index() 메소드와 find() 메소드는 앞에서부터 찾지만 rindex() 메소드와 rfind() 메소드는 뒤에서 부터 찾는다.\n",
    "code = input('코드: ')\n",
    "count = len(code)\n",
    "start = code[:code.find('-') + 1]\n",
    "print(start)\n",
    "end = code[code.rfind('-'):]\n",
    "print(end)\n",
    "print(start + '*' * (count - len(start) - len(end)) + end)"
   ]
  },
  {
   "cell_type": "code",
   "execution_count": 64,
   "id": "1cb7637e",
   "metadata": {},
   "outputs": [
    {
     "name": "stdout",
     "output_type": "stream",
     "text": [
      "                     hello                        world                        \n",
      "hello                        world\n",
      "helloworld\n",
      "['hello', 'world']\n",
      "hello world\n"
     ]
    }
   ],
   "source": [
    "string = '                     hello                        world                        '\n",
    "print(string)\n",
    "print(string.strip())\n",
    "print(string.replace(' ', ''))\n",
    "print(string.split())\n",
    "print(' '.join(string.split()))"
   ]
  },
  {
   "cell_type": "code",
   "execution_count": 66,
   "id": "94f6fd67",
   "metadata": {},
   "outputs": [
    {
     "name": "stdout",
     "output_type": "stream",
     "text": [
      "코드: 123-1-5467564\n",
      "['123', '1', '5467564']\n",
      "123-*-5467564\n"
     ]
    }
   ],
   "source": [
    "code = input('코드: ')\n",
    "code = code.split('-')\n",
    "print(code)\n",
    "print(code[0] + '-' + '*' * len(code[1]) + '-' + code[2])"
   ]
  },
  {
   "cell_type": "code",
   "execution_count": null,
   "id": "c9e6dfbc",
   "metadata": {},
   "outputs": [],
   "source": []
  },
  {
   "cell_type": "code",
   "execution_count": null,
   "id": "50d2cccd",
   "metadata": {},
   "outputs": [],
   "source": []
  },
  {
   "cell_type": "code",
   "execution_count": null,
   "id": "705b9046",
   "metadata": {},
   "outputs": [],
   "source": []
  }
 ],
 "metadata": {
  "kernelspec": {
   "display_name": "Python 3",
   "language": "python",
   "name": "python3"
  },
  "language_info": {
   "codemirror_mode": {
    "name": "ipython",
    "version": 3
   },
   "file_extension": ".py",
   "mimetype": "text/x-python",
   "name": "python",
   "nbconvert_exporter": "python",
   "pygments_lexer": "ipython3",
   "version": "3.6.8"
  }
 },
 "nbformat": 4,
 "nbformat_minor": 5
}
