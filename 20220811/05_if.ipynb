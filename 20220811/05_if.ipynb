{
 "cells": [
  {
   "cell_type": "markdown",
   "id": "0b830769",
   "metadata": {},
   "source": [
    "# if 명령의 형식\n",
    "\n",
    "if 조건식:  \n",
    "&nbsp;&nbsp;&nbsp;&nbsp;조건식이 참일 경우 실행할 문장  \n",
    "&nbsp;&nbsp;&nbsp;&nbsp;...  \n",
    "else:  \n",
    "&nbsp;&nbsp;&nbsp;&nbsp;조건식이 거짓일 경우 실행할 문장  \n",
    "&nbsp;&nbsp;&nbsp;&nbsp;...  \n",
    "\n",
    "※ 조건식을 만족하지 않을 때 아무런 일도 할 필요가 없다면 else 이하를 생략한다."
   ]
  },
  {
   "cell_type": "markdown",
   "id": "1c2fad2a",
   "metadata": {},
   "source": [
    "# 관계 연산자\n",
    "&nbsp;<&nbsp; : 작다, 미만  \n",
    "&nbsp;<= : 작거나 같다, 이하  \n",
    "&nbsp;>&nbsp; : 크다, 초과  \n",
    "&nbsp;>= : 크거나 같다, 이상  \n",
    "&nbsp;== : 같다  \n",
    "&nbsp;!= : 같지 않다  "
   ]
  },
  {
   "cell_type": "markdown",
   "id": "6db1a537",
   "metadata": {},
   "source": [
    "# 논리 연산자\n",
    "&nbsp;and : 논리곱, 두 조건이 모두 참일 경우에만 참, ~이고, ~이면서, ~중에서  \n",
    "&nbsp;or&nbsp; : 논리합, 두 조건 중에서 한 개 이상 참일 경우에 참, ~또는, ~이거나  \n",
    "&nbsp;not : 논리 부정, 참은 거짓으로 거짓은 참으로 변경한다.  \n",
    "<img src=\"./andOrNot.png\" align=\"left\" width=\"800\">"
   ]
  },
  {
   "cell_type": "markdown",
   "id": "4d9227a1",
   "metadata": {},
   "source": [
    "# 연산자 우선순위\n",
    "단항 연산자 => 이항 연산자 => 삼항 연산자 => 대입 연산자('='와 같이 사용한다.)  \n",
    "이항 연산자: () => ** => *, /, // % => +, - => 관계 연산자(동순위) => 논리 연산자(not => and => or)"
   ]
  },
  {
   "cell_type": "code",
   "execution_count": 5,
   "id": "e0c258ab",
   "metadata": {},
   "outputs": [
    {
     "name": "stdout",
     "output_type": "stream",
     "text": [
      "나이를 입력하세요: 17\n",
      "투표권이 없습니다.\n"
     ]
    }
   ],
   "source": [
    "# 나이를 입력받아 투표권이 있나 없나 판단한다.\n",
    "age = int(input('나이를 입력하세요: '))\n",
    "if age >= 18:\n",
    "    print('투표권이 있습니다.')\n",
    "else:\n",
    "    print('투표권이 없습니다.')"
   ]
  },
  {
   "cell_type": "code",
   "execution_count": 18,
   "id": "191ca168",
   "metadata": {},
   "outputs": [
    {
     "name": "stdout",
     "output_type": "stream",
     "text": [
      "주민등록번호를 \"-\"없이 입력하세요: 8304221185600\n",
      "1\n",
      "<class 'str'>\n",
      "남자\n",
      "남자\n",
      "남자\n",
      "남자\n",
      "남자\n",
      "남자\n"
     ]
    }
   ],
   "source": [
    "# 주민등록번호를 입력받아 성별을 판단한다.\n",
    "jumin = input('주민등록번호를 \"-\"없이 입력하세요: ')\n",
    "print(jumin[6])\n",
    "print(type(jumin[6]))\n",
    "\n",
    "# 문자열로 비교\n",
    "if jumin[6] == '1':\n",
    "    print('남자')\n",
    "else:\n",
    "    print('여자')\n",
    "\n",
    "if jumin[6] == '1' or jumin[6] == '3' or jumin[6] == '5':\n",
    "    print('남자')\n",
    "else:\n",
    "    print('여자')\n",
    "    \n",
    "if jumin[6] in ['1', '3', '5']:\n",
    "    print('남자')\n",
    "else:\n",
    "    print('여자')\n",
    "    \n",
    "# 숫자로 비교\n",
    "if int(jumin[6]) == 1 or int(jumin[6]) == 3 or int(jumin[6]) == 5:\n",
    "    print('남자')\n",
    "else:\n",
    "    print('여자')\n",
    "    \n",
    "if int(jumin[6]) not in [2, 4, 6]:\n",
    "    print('남자')\n",
    "else:\n",
    "    print('여자')\n",
    "    \n",
    "# 성별이 홀수면 남자, 짝수면 여자\n",
    "if int(jumin[6]) % 2 == 1:\n",
    "    print('남자')\n",
    "else:\n",
    "    print('여자')"
   ]
  },
  {
   "cell_type": "code",
   "execution_count": 3,
   "id": "f522c2e3",
   "metadata": {},
   "outputs": [
    {
     "name": "stdout",
     "output_type": "stream",
     "text": [
      "주민등록번호를 \"-\"없이 입력하세요: 8304221185600\n",
      "83\n",
      "1983년생\n",
      "당신의 출생년도는 1983년 이고 나이는 만 39세 입니다.\n",
      "2023-08-11 21:04:48.646004\n",
      "2023\n"
     ]
    }
   ],
   "source": [
    "# 주민등록번호를 입력받아 만 나이를 출력한다.\n",
    "jumin = input('주민등록번호를 \"-\"없이 입력하세요: ')\n",
    "print(jumin[:2])\n",
    "year = int(jumin[:2])\n",
    "\n",
    "# 성별이 2이하이면 1900년대에 그렇치 않으면 2000년대에 태어났다.\n",
    "if jumin[6] <= '2':\n",
    "    # year = year + 1900\n",
    "    # 대입 연산자\n",
    "    # '='와 같이 사용하는 연산자를 말하며 연산자 우선순위가 가장 늦다. => +=, -=, *=, /=, //=, %=, ...\n",
    "    year += 1900\n",
    "else:\n",
    "    year = year + 2000\n",
    "print('{}년생'.format(year))\n",
    "\n",
    "print('당신의 출생년도는 {}년 이고 나이는 만 {}세 입니다.'.format(year, 2022 - year))\n",
    "\n",
    "from datetime import datetime as dt\n",
    "now = dt.now()\n",
    "print(now)\n",
    "print(now.year)\n",
    "print('당신의 출생년도는 {}년 이고 나이는 만 {}세 입니다.'.format(year, now.year - year))"
   ]
  },
  {
   "cell_type": "code",
   "execution_count": null,
   "id": "19b4d2c0",
   "metadata": {},
   "outputs": [],
   "source": []
  },
  {
   "cell_type": "code",
   "execution_count": null,
   "id": "af5c6c3e",
   "metadata": {},
   "outputs": [],
   "source": []
  },
  {
   "cell_type": "code",
   "execution_count": null,
   "id": "8b6f64e8",
   "metadata": {},
   "outputs": [],
   "source": []
  },
  {
   "cell_type": "code",
   "execution_count": null,
   "id": "40372891",
   "metadata": {},
   "outputs": [],
   "source": []
  },
  {
   "cell_type": "code",
   "execution_count": null,
   "id": "a8ae5e47",
   "metadata": {},
   "outputs": [],
   "source": []
  },
  {
   "cell_type": "code",
   "execution_count": null,
   "id": "025566b3",
   "metadata": {},
   "outputs": [],
   "source": []
  },
  {
   "cell_type": "code",
   "execution_count": null,
   "id": "52dc492f",
   "metadata": {},
   "outputs": [],
   "source": []
  }
 ],
 "metadata": {
  "kernelspec": {
   "display_name": "Python 3",
   "language": "python",
   "name": "python3"
  },
  "language_info": {
   "codemirror_mode": {
    "name": "ipython",
    "version": 3
   },
   "file_extension": ".py",
   "mimetype": "text/x-python",
   "name": "python",
   "nbconvert_exporter": "python",
   "pygments_lexer": "ipython3",
   "version": "3.6.8"
  }
 },
 "nbformat": 4,
 "nbformat_minor": 5
}
