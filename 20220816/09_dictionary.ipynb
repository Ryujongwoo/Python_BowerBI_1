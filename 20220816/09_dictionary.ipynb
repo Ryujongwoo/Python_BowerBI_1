{
 "cells": [
  {
   "cell_type": "markdown",
   "id": "f44a3464",
   "metadata": {},
   "source": [
    "# 딕셔너리 만들기\n",
    "딕셔너리 key와 value가 1:1로 대응되는 관계를 나타는 자료형으로 key와 key에 할당되는 데이터(value)가 한 쌍이 되는 자료형이다.  \n",
    "딕셔너리는 {}로 감싸주고 {key: value, key: value, ...}와 같은 형태를 가진다.  \n",
    "key는 일반적으로 string 타입을 사용하고 value는 저장할 데이터를 적는다."
   ]
  },
  {
   "cell_type": "code",
   "execution_count": 4,
   "id": "fabae340",
   "metadata": {},
   "outputs": [
    {
     "name": "stdout",
     "output_type": "stream",
     "text": [
      "<class 'dict'>\n",
      "{}\n",
      "<class 'dict'>\n",
      "{}\n"
     ]
    }
   ],
   "source": [
    "# 빈 딕셔너리 만들기\n",
    "a = {}\n",
    "print(type(a))\n",
    "print(a)\n",
    "# 빈 딕셔너리는 생성자 함수를 사용해서도 만들 수 있다.\n",
    "b = dict()\n",
    "print(type(b))\n",
    "print(b)"
   ]
  },
  {
   "cell_type": "code",
   "execution_count": 7,
   "id": "60319658",
   "metadata": {},
   "outputs": [
    {
     "name": "stdout",
     "output_type": "stream",
     "text": [
      "<class 'dict'>\n",
      "{'name': '홍길동', 'age': 20, 'phone': '010-1234-5678'}\n"
     ]
    }
   ],
   "source": [
    "# 초기값을 가지는 딕셔너리\n",
    "a = {'name': '홍길동', 'age': 20, 'phone': '010-1234-5678'}\n",
    "print(type(a))\n",
    "print(a)"
   ]
  },
  {
   "cell_type": "markdown",
   "id": "0933729e",
   "metadata": {},
   "source": [
    "딕셔너리에 데이터 추가 및 수정하기"
   ]
  },
  {
   "cell_type": "code",
   "execution_count": 10,
   "id": "a2c38f7e",
   "metadata": {},
   "outputs": [
    {
     "name": "stdout",
     "output_type": "stream",
     "text": [
      "{'name': '홍길동', 'age': 20, 'phone': '010-1234-5678'}\n",
      "{'name': '홍길동', 'age': 20, 'phone': '010-1234-5678', 'gender': '여자'}\n",
      "{'name': '홍길동', 'age': 20, 'phone': '010-1234-5678', 'gender': '남자'}\n"
     ]
    }
   ],
   "source": [
    "a = {'name': '홍길동', 'age': 20, 'phone': '010-1234-5678'}\n",
    "print(a)\n",
    "\n",
    "# 딕셔너리는 존재하지 않는 key에 데이터를 할당하면 데이터가 추가되고 존재하는 key에 데이터를 할당하면\n",
    "# 데이터가 수정된다.\n",
    "# 딕셔너리이름['key'] = value\n",
    "a['gender'] = '여자' # 추가\n",
    "print(a)\n",
    "a['gender'] = '남자' # 수정\n",
    "print(a)"
   ]
  },
  {
   "cell_type": "markdown",
   "id": "93731277",
   "metadata": {},
   "source": [
    "딕셔너리에 저장된 데이터 제거하기"
   ]
  },
  {
   "cell_type": "code",
   "execution_count": 14,
   "id": "d69d64d3",
   "metadata": {},
   "outputs": [
    {
     "name": "stdout",
     "output_type": "stream",
     "text": [
      "{'name': '홍길동', 'age': 20, 'phone': '010-1234-5678', 'gender': '남자'}\n",
      "{'name': '홍길동', 'age': 20, 'phone': '010-1234-5678'}\n",
      "{}\n"
     ]
    },
    {
     "ename": "NameError",
     "evalue": "name 'a' is not defined",
     "output_type": "error",
     "traceback": [
      "\u001b[1;31m---------------------------------------------------------------------------\u001b[0m",
      "\u001b[1;31mNameError\u001b[0m                                 Traceback (most recent call last)",
      "\u001b[1;32m<ipython-input-14-768181606ca6>\u001b[0m in \u001b[0;36m<module>\u001b[1;34m\u001b[0m\n\u001b[0;32m     12\u001b[0m \u001b[1;31m# del 명령으로 딕셔너리 자체를 제거할 수 있다.\u001b[0m\u001b[1;33m\u001b[0m\u001b[1;33m\u001b[0m\u001b[1;33m\u001b[0m\u001b[0m\n\u001b[0;32m     13\u001b[0m \u001b[1;32mdel\u001b[0m \u001b[0ma\u001b[0m\u001b[1;33m\u001b[0m\u001b[1;33m\u001b[0m\u001b[0m\n\u001b[1;32m---> 14\u001b[1;33m \u001b[0mprint\u001b[0m\u001b[1;33m(\u001b[0m\u001b[0ma\u001b[0m\u001b[1;33m)\u001b[0m\u001b[1;33m\u001b[0m\u001b[1;33m\u001b[0m\u001b[0m\n\u001b[0m",
      "\u001b[1;31mNameError\u001b[0m: name 'a' is not defined"
     ]
    }
   ],
   "source": [
    "a = {'name': '홍길동', 'age': 20, 'phone': '010-1234-5678', 'gender': '남자'}\n",
    "print(a)\n",
    "\n",
    "# del 딕셔너리이름['key']\n",
    "del a['gender']\n",
    "print(a)\n",
    "\n",
    "# clear() 메소드로 딕셔너리에 저장된 모든 데이터를 제거할 수 있다.\n",
    "a.clear()\n",
    "print(a)\n",
    "\n",
    "# del 명령으로 딕셔너리 자체를 제거할 수 있다.\n",
    "del a\n",
    "print(a)"
   ]
  },
  {
   "cell_type": "code",
   "execution_count": null,
   "id": "f6d80c06",
   "metadata": {},
   "outputs": [],
   "source": []
  },
  {
   "cell_type": "code",
   "execution_count": null,
   "id": "373619e4",
   "metadata": {},
   "outputs": [],
   "source": []
  },
  {
   "cell_type": "code",
   "execution_count": null,
   "id": "6a81b7a7",
   "metadata": {},
   "outputs": [],
   "source": []
  }
 ],
 "metadata": {
  "kernelspec": {
   "display_name": "Python 3",
   "language": "python",
   "name": "python3"
  },
  "language_info": {
   "codemirror_mode": {
    "name": "ipython",
    "version": 3
   },
   "file_extension": ".py",
   "mimetype": "text/x-python",
   "name": "python",
   "nbconvert_exporter": "python",
   "pygments_lexer": "ipython3",
   "version": "3.6.8"
  }
 },
 "nbformat": 4,
 "nbformat_minor": 5
}
