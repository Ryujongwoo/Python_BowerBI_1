{
 "cells": [
  {
   "cell_type": "markdown",
   "id": "3f03ad78",
   "metadata": {},
   "source": [
    "# while\n",
    "while은 조건이 참인동안 반복하고 조건이 거짓이 되는 순간 반복이 종료된다.  \n",
    "while의 최초 진입 조건이 거짓이면 while 블록을 한 번도 실행하지 않는다.  \n",
    "for는 반복 횟수가 알려진 경우 사용하고 while은 반복을 하기는 해야겠는데 몇 번 반복해야하는지 모를때 사용한다.\n",
    "\n",
    "***\n",
    "while 조건식:  \n",
    "&nbsp;&nbsp;&nbsp;&nbsp;조건이 참일 경우 실행할 문장  \n",
    "&nbsp;&nbsp;&nbsp;&nbsp;..."
   ]
  },
  {
   "cell_type": "code",
   "execution_count": 6,
   "id": "821c517d",
   "metadata": {},
   "outputs": [
    {
     "name": "stdout",
     "output_type": "stream",
     "text": [
      "55\n"
     ]
    }
   ],
   "source": [
    "# 1 ~ 10의 합계\n",
    "# 변수는 선언시 반드시 초기화 시켜야 한다.\n",
    "i = 0 # 1 ~ 10까지 1씩 증가시키는 변수\n",
    "total = 0 # 1 ~ 10까지의 합계를 기억할 변수\n",
    "while i < 10:\n",
    "    i += 1\n",
    "    total += i\n",
    "# ===== while i < 10\n",
    "print(total)"
   ]
  },
  {
   "cell_type": "code",
   "execution_count": 7,
   "id": "d568ad8c",
   "metadata": {},
   "outputs": [
    {
     "name": "stdout",
     "output_type": "stream",
     "text": [
      "55\n"
     ]
    }
   ],
   "source": [
    "i = 0\n",
    "total = 0\n",
    "# 의도적으로 무한 루프를 발행시키려면 조건을 항상 참이되도록 하면된다.\n",
    "# 의도적으로 발생시킨 무한 루프는 반드시 break를 이용해서 무한 루프를 탈출시키는 처리를 해야한다.\n",
    "while True: # 의도한 무한 루프\n",
    "    i += 1\n",
    "    total += i\n",
    "    if i == 10:\n",
    "        # break는 제어문(if는 제외)의 작업 블록을 탈출시킨다.\n",
    "        break\n",
    "    # ===== if i == 10:\n",
    "# ===== while i < 10\n",
    "print(total)"
   ]
  },
  {
   "cell_type": "code",
   "execution_count": 8,
   "id": "10df5f84",
   "metadata": {},
   "outputs": [
    {
     "name": "stdout",
     "output_type": "stream",
     "text": [
      "1\n",
      "3\n",
      "5\n",
      "7\n",
      "9\n"
     ]
    }
   ],
   "source": [
    "# break 명령은 반복 범위에 남아있는 문장들을 실행하지 않고 반복을 탈출하고\n",
    "# continue 명령은 반복 범위에 남아있는 문장들을 실행하지 않고 다음 반복을 실행한다.\n",
    "i = 0\n",
    "while i < 10:\n",
    "    i += 1\n",
    "    if i % 2 == 0:\n",
    "        continue\n",
    "    # =====\n",
    "    print(i)"
   ]
  },
  {
   "cell_type": "code",
   "execution_count": null,
   "id": "680455d4",
   "metadata": {},
   "outputs": [],
   "source": []
  },
  {
   "cell_type": "code",
   "execution_count": null,
   "id": "cc9dcd00",
   "metadata": {},
   "outputs": [],
   "source": []
  },
  {
   "cell_type": "code",
   "execution_count": null,
   "id": "cadb46f1",
   "metadata": {},
   "outputs": [],
   "source": []
  }
 ],
 "metadata": {
  "kernelspec": {
   "display_name": "Python 3",
   "language": "python",
   "name": "python3"
  },
  "language_info": {
   "codemirror_mode": {
    "name": "ipython",
    "version": 3
   },
   "file_extension": ".py",
   "mimetype": "text/x-python",
   "name": "python",
   "nbconvert_exporter": "python",
   "pygments_lexer": "ipython3",
   "version": "3.6.8"
  }
 },
 "nbformat": 4,
 "nbformat_minor": 5
}
