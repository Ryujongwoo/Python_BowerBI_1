{
 "cells": [
  {
   "cell_type": "code",
   "execution_count": 1,
   "id": "469a1275",
   "metadata": {},
   "outputs": [],
   "source": [
    "import random"
   ]
  },
  {
   "cell_type": "code",
   "execution_count": 29,
   "id": "e7b9124f",
   "metadata": {},
   "outputs": [
    {
     "name": "stdout",
     "output_type": "stream",
     "text": [
      "45\n",
      "32\n",
      "14\n",
      "1등 번호: [27, 28, 40, 35, 45, 32], 보너스 번호: 14\n"
     ]
    }
   ],
   "source": [
    "# 로또 번호를 기억할 빈 리스트를 만든다.\n",
    "lotto = list()\n",
    "while True:\n",
    "    # 1 ~ 45 사이의 난수를 발생시킨다.\n",
    "    number = random.randint(1, 45)\n",
    "    # print(number)\n",
    "    # 리스트에 중복되는 번호가 없으면 발생된 난수를 리스트에 추가한다.\n",
    "    if number not in lotto:\n",
    "        lotto.append(number)\n",
    "    # =====\n",
    "    # 리스트에 숫자가 6개 저장되면 무한 루프를 탈출시킨다.\n",
    "    if len(lotto) == 6:\n",
    "        break\n",
    "    # =====\n",
    "# =====\n",
    "# print('1등 번호: {}'.format(lotto))\n",
    "\n",
    "# 보너스 번호\n",
    "while True:\n",
    "    bonus = random.randint(1, 45)\n",
    "    print(bonus)\n",
    "    # 보너스 번호가 1등 번호에 없으면 무한 루프를 탈출시킨다.\n",
    "    if bonus not in lotto:\n",
    "        break\n",
    "    # =====\n",
    "# =====\n",
    "print('1등 번호: {}, 보너스 번호: {}'.format(lotto, bonus))"
   ]
  },
  {
   "cell_type": "code",
   "execution_count": null,
   "id": "65380cc9",
   "metadata": {},
   "outputs": [],
   "source": []
  }
 ],
 "metadata": {
  "kernelspec": {
   "display_name": "Python 3",
   "language": "python",
   "name": "python3"
  },
  "language_info": {
   "codemirror_mode": {
    "name": "ipython",
    "version": 3
   },
   "file_extension": ".py",
   "mimetype": "text/x-python",
   "name": "python",
   "nbconvert_exporter": "python",
   "pygments_lexer": "ipython3",
   "version": "3.6.8"
  }
 },
 "nbformat": 4,
 "nbformat_minor": 5
}
