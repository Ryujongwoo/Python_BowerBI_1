{
 "cells": [
  {
   "cell_type": "code",
   "execution_count": 1,
   "id": "0bce9122",
   "metadata": {},
   "outputs": [],
   "source": [
    "import random"
   ]
  },
  {
   "cell_type": "code",
   "execution_count": 8,
   "id": "18508a88",
   "metadata": {},
   "outputs": [
    {
     "name": "stdout",
     "output_type": "stream",
     "text": [
      "26\n",
      "14\n",
      "1등 번호: {33, 43, 12, 16, 26, 31}, 보너스 번호: 14\n"
     ]
    }
   ],
   "source": [
    "# 로또 번호를 기억할 빈 set를 만든다.\n",
    "lotto = set()\n",
    "while True:\n",
    "    number = random.randint(1, 45)\n",
    "    # print(number)\n",
    "    # 리스트는 중복을 확인하는 if가 필요했지만 set은 중복 데이터를 허용하지 않기 때문에\n",
    "    # if가 필요없다.\n",
    "    lotto.add(number)\n",
    "    # set에 숫자가 6개 저장되면 무한 루프를 탈출시킨다.\n",
    "    if len(lotto) == 6:\n",
    "        break\n",
    "    # =====\n",
    "# =====\n",
    "# print('1등 번호: {}'.format(lotto))\n",
    "\n",
    "# 보너스 번호\n",
    "while True:\n",
    "    bonus = random.randint(1, 45)\n",
    "    print(bonus)\n",
    "    if bonus not in lotto:\n",
    "        break\n",
    "    # =====\n",
    "# =====\n",
    "print('1등 번호: {}, 보너스 번호: {}'.format(lotto, bonus))"
   ]
  }
 ],
 "metadata": {
  "kernelspec": {
   "display_name": "Python 3",
   "language": "python",
   "name": "python3"
  },
  "language_info": {
   "codemirror_mode": {
    "name": "ipython",
    "version": 3
   },
   "file_extension": ".py",
   "mimetype": "text/x-python",
   "name": "python",
   "nbconvert_exporter": "python",
   "pygments_lexer": "ipython3",
   "version": "3.6.8"
  }
 },
 "nbformat": 4,
 "nbformat_minor": 5
}
