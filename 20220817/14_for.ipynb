{
 "cells": [
  {
   "cell_type": "markdown",
   "id": "bb0bdec5",
   "metadata": {},
   "source": [
    "# for\n",
    "for 변수 in 리스트(튜플, 딕셔너리, set):  \n",
    "&nbsp;&nbsp;&nbsp;&nbsp;반복할 문장  \n",
    "&nbsp;&nbsp;&nbsp;&nbsp;...\n",
    "***\n",
    "for 명령을 제어하는 변수에 in 뒤의 리스트, 튜플, 딕셔너리, set에 저장된 데이터가 처음부터 마지막까지  \n",
    "차례대로 대입되며 반복한다."
   ]
  },
  {
   "cell_type": "markdown",
   "id": "556ff3c9",
   "metadata": {},
   "source": [
    "# range() 함수\n",
    "range() 함수는 지정한 초기치, 최종치, 증가치에 따른 숫자 리스트를 만든다.\n",
    "***\n",
    "형식  \n",
    "range([초기치, ]최종치[, 증가치])  \n",
    "초기치와 증가치는 생략할 수 있고 초기치가 생략되면 0이 증가치가 생략되면 1이 기본값으로 사용된다.  \n",
    "즉, range(0, 10, 1)과 range(10)은 같은 표현이다."
   ]
  },
  {
   "cell_type": "code",
   "execution_count": 6,
   "id": "ce0416d5",
   "metadata": {},
   "outputs": [
    {
     "name": "stdout",
     "output_type": "stream",
     "text": [
      "[0, 1, 2, 3, 4, 5, 6, 7, 8, 9]\n",
      "[0, 1, 2, 3, 4, 5, 6, 7, 8, 9]\n",
      "[0, 2, 4, 6, 8]\n",
      "[1, 3, 5, 7, 9]\n",
      "[9, 8, 7, 6, 5, 4, 3, 2, 1, 0]\n"
     ]
    }
   ],
   "source": [
    "# range() 함수는 초기치 부터 증가치 만큼 증가하며 최종치를 넘지않는 숫자 리스트를 만든다.\n",
    "# range() 함수가 실행된 결과 리스트는 list() 생성자 함수를 사용해서 확인한다.\n",
    "print(list(range(0, 10, 1)))\n",
    "print(list(range(10)))\n",
    "print(list(range(0, 10, 2)))\n",
    "print(list(range(1, 10, 2)))\n",
    "print(list(range(9, -1, -1)))"
   ]
  },
  {
   "cell_type": "markdown",
   "id": "6b0cfe5b",
   "metadata": {},
   "source": [
    "range() 함수와 같이 사용하는 for  \n",
    "range() 함수를 실행해서 생성된 숫자 리스트의 0번째 인덱스의 값부터 마지막 인덱스의 값까지 차례대로  \n",
    "변수에 저장하며 반복한다."
   ]
  },
  {
   "cell_type": "code",
   "execution_count": 7,
   "id": "e73eeeab",
   "metadata": {},
   "outputs": [
    {
     "name": "stdout",
     "output_type": "stream",
     "text": [
      "[0, 1, 2, 3, 4]\n"
     ]
    }
   ],
   "source": [
    "print(list(range(5)))\n",
    "for i in range(5): # for i in [0, 1, 2, 3, 4]:\n",
    "    print(i)"
   ]
  },
  {
   "cell_type": "code",
   "execution_count": null,
   "id": "27d20f30",
   "metadata": {},
   "outputs": [],
   "source": []
  },
  {
   "cell_type": "code",
   "execution_count": null,
   "id": "6d857cba",
   "metadata": {},
   "outputs": [],
   "source": []
  },
  {
   "cell_type": "code",
   "execution_count": null,
   "id": "ede28efe",
   "metadata": {},
   "outputs": [],
   "source": []
  },
  {
   "cell_type": "code",
   "execution_count": null,
   "id": "e102a01e",
   "metadata": {},
   "outputs": [],
   "source": []
  }
 ],
 "metadata": {
  "kernelspec": {
   "display_name": "Python 3",
   "language": "python",
   "name": "python3"
  },
  "language_info": {
   "codemirror_mode": {
    "name": "ipython",
    "version": 3
   },
   "file_extension": ".py",
   "mimetype": "text/x-python",
   "name": "python",
   "nbconvert_exporter": "python",
   "pygments_lexer": "ipython3",
   "version": "3.6.8"
  }
 },
 "nbformat": 4,
 "nbformat_minor": 5
}
