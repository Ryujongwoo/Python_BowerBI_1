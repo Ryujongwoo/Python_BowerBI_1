{
 "cells": [
  {
   "cell_type": "markdown",
   "id": "8273b3c6",
   "metadata": {},
   "source": [
    "# for\n",
    "for 변수 in 리스트(튜플, 딕셔너리, set):  \n",
    "&nbsp;&nbsp;&nbsp;&nbsp;반복할 문장  \n",
    "&nbsp;&nbsp;&nbsp;&nbsp;...\n",
    "***\n",
    "for 명령을 제어하는 변수에 in 뒤의 리스트, 튜플, 딕셔너리, set에 저장된 데이터가 처음부터 마지막까지  \n",
    "차례대로 대입되며 반복한다."
   ]
  },
  {
   "cell_type": "markdown",
   "id": "94f0ddfe",
   "metadata": {},
   "source": [
    "# range() 함수\n",
    "range() 함수는 지정한 초기치, 최종치, 증가치에 따른 숫자 리스트를 만든다.\n",
    "***\n",
    "형식  \n",
    "range([초기치, ]최종치[, 증가치])  \n",
    "초기치와 증가치는 생략할 수 있고 초기치가 생략되면 0이 증가치가 생략되면 1이 기본값으로 사용된다.  \n",
    "즉, range(0, 10, 1)과 range(10)은 같은 표현이다."
   ]
  },
  {
   "cell_type": "code",
   "execution_count": 1,
   "id": "9d213b69",
   "metadata": {},
   "outputs": [
    {
     "name": "stdout",
     "output_type": "stream",
     "text": [
      "[0, 1, 2, 3, 4, 5, 6, 7, 8, 9]\n",
      "[0, 1, 2, 3, 4, 5, 6, 7, 8, 9]\n",
      "[0, 2, 4, 6, 8]\n",
      "[1, 3, 5, 7, 9]\n",
      "[9, 8, 7, 6, 5, 4, 3, 2, 1, 0]\n"
     ]
    }
   ],
   "source": [
    "# range() 함수는 초기치 부터 증가치 만큼 증가하며 최종치를 넘지않는 숫자 리스트를 만든다.\n",
    "# range() 함수가 실행된 결과 리스트는 list() 생성자 함수를 사용해서 확인한다.\n",
    "print(list(range(0, 10, 1)))\n",
    "print(list(range(10)))\n",
    "print(list(range(0, 10, 2)))\n",
    "print(list(range(1, 10, 2)))\n",
    "print(list(range(9, -1, -1)))"
   ]
  },
  {
   "cell_type": "markdown",
   "id": "1663d1ec",
   "metadata": {},
   "source": [
    "range() 함수와 같이 사용하는 for  \n",
    "range() 함수를 실행해서 생성된 숫자 리스트의 0번째 인덱스의 값부터 마지막 인덱스의 값까지 차례대로  \n",
    "변수에 저장하며 반복한다."
   ]
  },
  {
   "cell_type": "code",
   "execution_count": 2,
   "id": "1dbcbda1",
   "metadata": {},
   "outputs": [
    {
     "name": "stdout",
     "output_type": "stream",
     "text": [
      "[0, 1, 2, 3, 4]\n",
      "0\n",
      "1\n",
      "2\n",
      "3\n",
      "4\n"
     ]
    }
   ],
   "source": [
    "print(list(range(5)))\n",
    "for i in range(5): # for i in [0, 1, 2, 3, 4]:\n",
    "    print(i)"
   ]
  },
  {
   "cell_type": "code",
   "execution_count": 3,
   "id": "cb5ac74d",
   "metadata": {},
   "outputs": [
    {
     "name": "stdout",
     "output_type": "stream",
     "text": [
      "55\n"
     ]
    }
   ],
   "source": [
    "# 1 ~ 10의 합계 - while 사용\n",
    "i = 0\n",
    "total = 0\n",
    "while i < 10:\n",
    "    i += 1\n",
    "    total += i\n",
    "# =====\n",
    "print(total)"
   ]
  },
  {
   "cell_type": "code",
   "execution_count": 4,
   "id": "2f11df92",
   "metadata": {},
   "outputs": [
    {
     "name": "stdout",
     "output_type": "stream",
     "text": [
      "55\n"
     ]
    }
   ],
   "source": [
    "# 1 ~ 10의 합계 - for 사용\n",
    "total = 0\n",
    "for i in range(1, 11):\n",
    "    total += i\n",
    "# =====\n",
    "print(total)"
   ]
  },
  {
   "cell_type": "markdown",
   "id": "aa7e684b",
   "metadata": {},
   "source": [
    "주사위를 10번 굴려서 출현한 눈의 개수를 센다. => 변수 사용"
   ]
  },
  {
   "cell_type": "code",
   "execution_count": 31,
   "id": "7c30cc5b",
   "metadata": {},
   "outputs": [
    {
     "name": "stdout",
     "output_type": "stream",
     "text": [
      "1의 개수: 0개\n",
      "2의 개수: 1개\n",
      "3의 개수: 3개\n",
      "4의 개수: 3개\n",
      "5의 개수: 1개\n",
      "6의 개수: 2개\n"
     ]
    }
   ],
   "source": [
    "import random\n",
    "# 1에서 6사이의 주사위 눈의 개수를 기억할 변수 6개를 선언하고 각각 0으로 초기화시킨다.\n",
    "# 파이썬은 1줄에 1문장 코딩을 원칙으로 하지만 필요에 따라서 1줄에 2개 이상의 문장을 코딩하고싶으면\n",
    "# 문장과 문장을 ';'으로 구분하면 된다.\n",
    "num1 = 0; num2 = 0; num3 = 0; num4 = 0; num5 = 0; num6 = 0\n",
    "# 주사위를 10번 굴린다.\n",
    "for i in range(10):\n",
    "    # 주사위를 굴린다.\n",
    "    dice = random.randint(1, 6)\n",
    "    # print(dice)\n",
    "    # 주사위를 굴려 발생한 눈의 개수를 센다.\n",
    "    if dice == 1:\n",
    "        num1 += 1\n",
    "    elif dice == 2:\n",
    "        num2 += 1\n",
    "    elif dice == 3:\n",
    "        num3 += 1\n",
    "    elif dice == 4:\n",
    "        num4 += 1\n",
    "    elif dice == 5:\n",
    "        num5 += 1\n",
    "    else:\n",
    "        num6 += 1\n",
    "    # ===== if\n",
    "# ===== for\n",
    "# 주사위 눈의 개수를 출력한다.\n",
    "print('1의 개수: {}개'.format(num1))\n",
    "print('2의 개수: {}개'.format(num2))\n",
    "print('3의 개수: {}개'.format(num3))\n",
    "print('4의 개수: {}개'.format(num4))\n",
    "print('5의 개수: {}개'.format(num5))\n",
    "print('6의 개수: {}개'.format(num6))"
   ]
  },
  {
   "cell_type": "markdown",
   "id": "506161c1",
   "metadata": {},
   "source": [
    "주사위를 10번 굴려서 출현한 눈의 개수를 센다. => 리스트 사용"
   ]
  },
  {
   "cell_type": "code",
   "execution_count": 36,
   "id": "32784368",
   "metadata": {},
   "outputs": [
    {
     "name": "stdout",
     "output_type": "stream",
     "text": [
      "1의 개수: 2개\n",
      "2의 개수: 3개\n",
      "3의 개수: 0개\n",
      "4의 개수: 3개\n",
      "5의 개수: 0개\n",
      "6의 개수: 2개\n"
     ]
    }
   ],
   "source": [
    "import random\n",
    "# 1. 주사위 눈의 개수를 기억할 크기가 6인 리스트를 선언한다.\n",
    "# count = [0, 0, 0, 0, 0, 0]\n",
    "# 2. 빈 리스트를 선언하고 append() 메소드로 데이터를 넣어준다.\n",
    "# count = []\n",
    "# for i in range(6):\n",
    "    # count.append(0)\n",
    "# 3. 반복문을 사용해서 리스트를 선언한다.\n",
    "count = [0 for i in range(6)]\n",
    "# count[0] => 1의 개수, count[1] => 2의 개수, ..., count[5] => 6의 개수\n",
    "# print(count)\n",
    "for i in range(10):\n",
    "    dice = random.randint(1, 6)\n",
    "    if dice == 1:\n",
    "        count[0] += 1\n",
    "    elif dice == 2:\n",
    "        count[1] += 1\n",
    "    elif dice == 3:\n",
    "        count[2] += 1\n",
    "    elif dice == 4:\n",
    "        count[3] += 1\n",
    "    elif dice == 5:\n",
    "        count[4] += 1\n",
    "    else:\n",
    "        count[5] += 1\n",
    "print('1의 개수: {}개'.format(count[0]))\n",
    "print('2의 개수: {}개'.format(count[1]))\n",
    "print('3의 개수: {}개'.format(count[2]))\n",
    "print('4의 개수: {}개'.format(count[3]))\n",
    "print('5의 개수: {}개'.format(count[4]))\n",
    "print('6의 개수: {}개'.format(count[5]))"
   ]
  },
  {
   "cell_type": "code",
   "execution_count": 52,
   "id": "e105dd7a",
   "metadata": {},
   "outputs": [
    {
     "name": "stdout",
     "output_type": "stream",
     "text": [
      "1의 개수: 1개\n",
      "2의 개수: 1개\n",
      "3의 개수: 3개\n",
      "4의 개수: 0개\n",
      "5의 개수: 3개\n",
      "6의 개수: 2개\n"
     ]
    }
   ],
   "source": [
    "import random\n",
    "count = [0 for i in range(6)]\n",
    "for i in range(10):\n",
    "    dice = random.randint(1, 6)\n",
    "    print(dice)\n",
    "    count[dice - 1] += 1\n",
    "for i in range(len(count)):\n",
    "    print('{}의 개수: {}개'.format(i + 1, count[i]))"
   ]
  },
  {
   "cell_type": "code",
   "execution_count": null,
   "id": "ea055f40",
   "metadata": {},
   "outputs": [],
   "source": []
  },
  {
   "cell_type": "code",
   "execution_count": null,
   "id": "a776d8b0",
   "metadata": {},
   "outputs": [],
   "source": []
  },
  {
   "cell_type": "code",
   "execution_count": null,
   "id": "cdb7662d",
   "metadata": {},
   "outputs": [],
   "source": []
  },
  {
   "cell_type": "code",
   "execution_count": null,
   "id": "8b5a6dc4",
   "metadata": {},
   "outputs": [],
   "source": []
  },
  {
   "cell_type": "code",
   "execution_count": null,
   "id": "1201ec93",
   "metadata": {},
   "outputs": [],
   "source": []
  }
 ],
 "metadata": {
  "kernelspec": {
   "display_name": "Python 3",
   "language": "python",
   "name": "python3"
  },
  "language_info": {
   "codemirror_mode": {
    "name": "ipython",
    "version": 3
   },
   "file_extension": ".py",
   "mimetype": "text/x-python",
   "name": "python",
   "nbconvert_exporter": "python",
   "pygments_lexer": "ipython3",
   "version": "3.6.8"
  }
 },
 "nbformat": 4,
 "nbformat_minor": 5
}
