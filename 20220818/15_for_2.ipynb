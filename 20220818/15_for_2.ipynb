{
 "cells": [
  {
   "cell_type": "markdown",
   "id": "0d6749bc",
   "metadata": {},
   "source": [
    "리스트, 튜플, 딕셔너리, set과 함께 사용하는 for  \n",
    "리스트, 튜플, 딕셔너리, set의 0번째 인덱스 값을 변수에 저장하고 반복을 시작하고 마지막 값을 변수에  \n",
    "저장하고 반복한 후 종료한다.\n",
    "***\n",
    "for 변수 in 리스트 or 튜플 or 딕셔너리 or set 이름: # 인덱싱과 슬라이싱도 가능하다.  \n",
    "&nbsp;&nbsp;&nbsp;&nbsp;반복할 문장  \n",
    "&nbsp;&nbsp;&nbsp;&nbsp;..."
   ]
  },
  {
   "cell_type": "code",
   "execution_count": 7,
   "id": "5841c99b",
   "metadata": {},
   "outputs": [
    {
     "name": "stdout",
     "output_type": "stream",
     "text": [
      "['Life', 'is', 'too', 'Good']\n",
      "================================================================================\n",
      "Life\n",
      "is\n",
      "too\n",
      "Good\n",
      "================================================================================\n",
      "Life\n",
      "is\n",
      "too\n",
      "Good\n",
      "================================================================================\n",
      "is\n",
      "too\n"
     ]
    }
   ],
   "source": [
    "# 리스트와 함께 사용하는 for\n",
    "a = ['Life', 'is', 'too', 'Good']\n",
    "print(a)\n",
    "print('=' * 80)\n",
    "\n",
    "for i in a:\n",
    "    print(i)\n",
    "print('=' * 80)\n",
    "\n",
    "for i in range(len(a)):\n",
    "    print(a[i])\n",
    "print('=' * 80)\n",
    "\n",
    "for i in a[1:3]:\n",
    "    print(i)"
   ]
  },
  {
   "cell_type": "code",
   "execution_count": 9,
   "id": "901befb8",
   "metadata": {},
   "outputs": [
    {
     "name": "stdout",
     "output_type": "stream",
     "text": [
      "('Life', 'is', 'too', 'Good')\n",
      "================================================================================\n",
      "Life\n",
      "is\n",
      "too\n",
      "Good\n",
      "================================================================================\n",
      "Life\n",
      "is\n",
      "too\n",
      "Good\n",
      "================================================================================\n",
      "is\n",
      "too\n"
     ]
    }
   ],
   "source": [
    "# 튜플과 함께 사용하는 for\n",
    "a = 'Life', 'is', 'too', 'Good'\n",
    "print(a)\n",
    "print('=' * 80)\n",
    "\n",
    "for i in a:\n",
    "    print(i)\n",
    "print('=' * 80)\n",
    "\n",
    "for i in range(len(a)):\n",
    "    print(a[i])\n",
    "print('=' * 80)\n",
    "\n",
    "for i in a[1:3]:\n",
    "    print(i)"
   ]
  },
  {
   "cell_type": "code",
   "execution_count": 13,
   "id": "9bab040c",
   "metadata": {},
   "outputs": [
    {
     "name": "stdout",
     "output_type": "stream",
     "text": [
      "{'is', 'Good', 'Life', 'too'}\n",
      "================================================================================\n",
      "is\n",
      "Good\n",
      "Life\n",
      "too\n",
      "================================================================================\n"
     ]
    }
   ],
   "source": [
    "# set과 함께 사용하는 for\n",
    "a = {'Life', 'is', 'too', 'Good'}\n",
    "print(a)\n",
    "print('=' * 80)\n",
    "\n",
    "for i in a:\n",
    "    print(i)\n",
    "print('=' * 80)\n",
    "\n",
    "'''\n",
    "for i in range(len(a)):\n",
    "    print(a[i]) # set은 인덱싱을 사용할 수 없으므로 에러가 발생된다.\n",
    "print('=' * 80)\n",
    "\n",
    "for i in a[1:3]: # set은 슬라이싱을 사용할 수 없으므로 에러가 발생된다.\n",
    "    print(i)\n",
    "'''\n",
    "pass"
   ]
  },
  {
   "cell_type": "code",
   "execution_count": 15,
   "id": "5f69aac2",
   "metadata": {},
   "outputs": [
    {
     "name": "stdout",
     "output_type": "stream",
     "text": [
      "{'apple': 1000, 'banana': 3500, 'melon': 10000, 'mango': 5000}\n",
      "dict_keys(['apple', 'banana', 'melon', 'mango'])\n",
      "dict_values([1000, 3500, 10000, 5000])\n",
      "dict_items([('apple', 1000), ('banana', 3500), ('melon', 10000), ('mango', 5000)])\n"
     ]
    }
   ],
   "source": [
    "# 딕셔너리와 함께 사용하는 for\n",
    "a = {'apple': 1000, 'banana': 3500, 'melon': 10000, 'mango': 5000}\n",
    "print(a)\n",
    "print(a.keys())\n",
    "print(a.values())\n",
    "print(a.items())"
   ]
  },
  {
   "cell_type": "code",
   "execution_count": 19,
   "id": "9775aa69",
   "metadata": {},
   "outputs": [
    {
     "name": "stdout",
     "output_type": "stream",
     "text": [
      "apple\n",
      "banana\n",
      "melon\n",
      "mango\n",
      "================================================================================\n",
      "apple\n",
      "banana\n",
      "melon\n",
      "mango\n",
      "================================================================================\n",
      "1000\n",
      "3500\n",
      "10000\n",
      "5000\n",
      "================================================================================\n",
      "1000\n",
      "3500\n",
      "10000\n",
      "5000\n"
     ]
    }
   ],
   "source": [
    "for key in a: # 딕셔너리 이름만 쓰면 딕셔너리이름.keys()와 같은 의미로 사용된다.\n",
    "    print(key)\n",
    "print('=' * 80)\n",
    "\n",
    "for key in a.keys():\n",
    "    print(key)\n",
    "print('=' * 80)\n",
    "\n",
    "# 딕셔너리의 key 값을 이용해 value 얻어오기\n",
    "for key in a.keys():\n",
    "    print(a.get(key))\n",
    "print('=' * 80)\n",
    "\n",
    "for key in a.keys():\n",
    "    print(a[key])"
   ]
  },
  {
   "cell_type": "code",
   "execution_count": 20,
   "id": "48945af3",
   "metadata": {},
   "outputs": [
    {
     "name": "stdout",
     "output_type": "stream",
     "text": [
      "1000\n",
      "3500\n",
      "10000\n",
      "5000\n"
     ]
    }
   ],
   "source": [
    "for value in a.values():\n",
    "    print(value)"
   ]
  },
  {
   "cell_type": "code",
   "execution_count": 25,
   "id": "ba075e27",
   "metadata": {},
   "outputs": [
    {
     "name": "stdout",
     "output_type": "stream",
     "text": [
      "('apple', 1000)\n",
      "('banana', 3500)\n",
      "('melon', 10000)\n",
      "('mango', 5000)\n",
      "================================================================================\n",
      "apple은(는) 1,000원 입니다.\n",
      "banana은(는) 3,500원 입니다.\n",
      "melon은(는) 10,000원 입니다.\n",
      "mango은(는) 5,000원 입니다.\n",
      "================================================================================\n",
      "apple은(는) 1,000원 입니다.\n",
      "banana은(는) 3,500원 입니다.\n",
      "melon은(는) 10,000원 입니다.\n",
      "mango은(는) 5,000원 입니다.\n"
     ]
    }
   ],
   "source": [
    "for item in a.items():\n",
    "    print(item)\n",
    "print('=' * 80)\n",
    "\n",
    "# appel은 1,000원 입니다.\n",
    "for item in a.items():\n",
    "    print('{}은(는) {:,}원 입니다.'.format(item[0], item[1]))\n",
    "print('=' * 80)\n",
    "\n",
    "for key, value in a.items():\n",
    "    print('{}은(는) {:,}원 입니다.'.format(key, value))"
   ]
  },
  {
   "cell_type": "code",
   "execution_count": null,
   "id": "2f6a0f48",
   "metadata": {},
   "outputs": [],
   "source": []
  },
  {
   "cell_type": "code",
   "execution_count": null,
   "id": "0cba209d",
   "metadata": {},
   "outputs": [],
   "source": []
  },
  {
   "cell_type": "code",
   "execution_count": null,
   "id": "82e418ed",
   "metadata": {},
   "outputs": [],
   "source": []
  },
  {
   "cell_type": "code",
   "execution_count": null,
   "id": "2283dfa2",
   "metadata": {},
   "outputs": [],
   "source": []
  },
  {
   "cell_type": "code",
   "execution_count": null,
   "id": "a4e7dfe9",
   "metadata": {},
   "outputs": [],
   "source": []
  },
  {
   "cell_type": "code",
   "execution_count": null,
   "id": "c6ace632",
   "metadata": {},
   "outputs": [],
   "source": []
  }
 ],
 "metadata": {
  "kernelspec": {
   "display_name": "Python 3",
   "language": "python",
   "name": "python3"
  },
  "language_info": {
   "codemirror_mode": {
    "name": "ipython",
    "version": 3
   },
   "file_extension": ".py",
   "mimetype": "text/x-python",
   "name": "python",
   "nbconvert_exporter": "python",
   "pygments_lexer": "ipython3",
   "version": "3.6.8"
  }
 },
 "nbformat": 4,
 "nbformat_minor": 5
}
