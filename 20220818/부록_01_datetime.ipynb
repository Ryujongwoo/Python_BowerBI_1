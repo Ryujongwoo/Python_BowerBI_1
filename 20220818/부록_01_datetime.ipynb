{
 "cells": [
  {
   "cell_type": "markdown",
   "id": "83eb7a83",
   "metadata": {},
   "source": [
    "# datetime 모듈\n",
    "컴퓨터 시스템의 날짜와 시간을 얻어온다."
   ]
  },
  {
   "cell_type": "code",
   "execution_count": 1,
   "id": "824c083e",
   "metadata": {},
   "outputs": [
    {
     "name": "stdout",
     "output_type": "stream",
     "text": [
      "2023-08-11 20:56:55.330597\n"
     ]
    }
   ],
   "source": [
    "import datetime # datetime 모듈 전체를 import 한다.\n",
    "now = datetime.datetime.now()\n",
    "print(now)"
   ]
  },
  {
   "cell_type": "code",
   "execution_count": 2,
   "id": "e71766e1",
   "metadata": {},
   "outputs": [
    {
     "name": "stdout",
     "output_type": "stream",
     "text": [
      "2023-08-11 20:56:55.343536\n"
     ]
    }
   ],
   "source": [
    "from datetime import datetime # datetime 모듈에서 datetime 클래스만 import 한다.\n",
    "now2 = datetime.now()\n",
    "print(now2)"
   ]
  },
  {
   "cell_type": "code",
   "execution_count": 3,
   "id": "113366c7",
   "metadata": {},
   "outputs": [
    {
     "name": "stdout",
     "output_type": "stream",
     "text": [
      "2023-08-11 20:56:55.359492\n"
     ]
    }
   ],
   "source": [
    "from datetime import datetime as dt # datetime 클래스의 별명을 dt로 지정한다.\n",
    "now3 = dt.now()\n",
    "print(now3)"
   ]
  },
  {
   "cell_type": "markdown",
   "id": "0726ef31",
   "metadata": {},
   "source": [
    "날짜, 시간 데이터에서 년, 월, 일, 시, 분, 초, 밀리초, 마이크로초, 요일 추출하기"
   ]
  },
  {
   "cell_type": "code",
   "execution_count": 4,
   "id": "a3e9755d",
   "metadata": {},
   "outputs": [
    {
     "name": "stdout",
     "output_type": "stream",
     "text": [
      "2023-08-11 20:56:55.379440\n",
      "년: 2023\n",
      "월: 8\n",
      "일: 11\n",
      "시: 20\n",
      "분: 56\n",
      "초: 55\n",
      "마이크로초: 379440\n",
      "밀리초: 379\n",
      "요일: 4\n",
      "요일: 금\n"
     ]
    }
   ],
   "source": [
    "from datetime import datetime as dt\n",
    "today = dt.now()\n",
    "print(today)\n",
    "print('년: {}'.format(today.year))\n",
    "print('월: {}'.format(today.month))\n",
    "print('일: {}'.format(today.day))\n",
    "print('시: {}'.format(today.hour))\n",
    "print('분: {}'.format(today.minute))\n",
    "print('초: {}'.format(today.second))\n",
    "print('마이크로초: {}'.format(today.microsecond))\n",
    "print('밀리초: {}'.format(today.microsecond // 1000))\n",
    "# weekday() 메소드로 요일을 얻어올 수 있다. => 월(0), 화(1), 수(2), 목(3), 금(4), 토(5), 일(6)\n",
    "print('요일: {}'.format(today.weekday()))\n",
    "week = ['월', '화', '수', '목', '금', '토', '일']\n",
    "print('요일: {}'.format(week[today.weekday()]))"
   ]
  },
  {
   "cell_type": "markdown",
   "id": "358c2ce8",
   "metadata": {},
   "source": [
    "날짜, 시간 데이터 수정하기"
   ]
  },
  {
   "cell_type": "code",
   "execution_count": 5,
   "id": "6c2ce65b",
   "metadata": {},
   "outputs": [
    {
     "name": "stdout",
     "output_type": "stream",
     "text": [
      "2023-08-11 20:56:55.394399\n",
      "2023-08-11 20:56:55.394399\n",
      "2023-12-11 20:56:55.394399\n",
      "2023-08-25 20:56:55.394399\n",
      "2023-08-11 18:56:55.394399\n",
      "2023-08-11 20:20:55.394399\n",
      "2023-08-11 20:56:30.394399\n",
      "2023-08-11 20:56:55.111111\n"
     ]
    }
   ],
   "source": [
    "from datetime import datetime as dt\n",
    "today = dt.now()\n",
    "print(today)\n",
    "print(today.replace(year=2023))\n",
    "print(today.replace(month=12))\n",
    "print(today.replace(day=25))\n",
    "print(today.replace(hour=18))\n",
    "print(today.replace(minute=20))\n",
    "print(today.replace(second=30))\n",
    "print(today.replace(microsecond=111111))"
   ]
  },
  {
   "cell_type": "markdown",
   "id": "bb3d046e",
   "metadata": {},
   "source": [
    "날짜, 시간 데이터 만들기"
   ]
  },
  {
   "cell_type": "code",
   "execution_count": 6,
   "id": "77bd034e",
   "metadata": {},
   "outputs": [
    {
     "name": "stdout",
     "output_type": "stream",
     "text": [
      "2022-07-15 00:00:00\n",
      "<class 'datetime.datetime'>\n",
      "2023-08-11 18:20:00\n",
      "<class 'datetime.datetime'>\n",
      "2022-07-15 18:20:00\n",
      "<class 'datetime.datetime'>\n"
     ]
    }
   ],
   "source": [
    "from dateutil.parser import parse\n",
    "date = parse('2022-7-15')\n",
    "print(date)\n",
    "print(type(date))\n",
    "time = parse('18:20:00')\n",
    "print(time)\n",
    "print(type(time))\n",
    "day = parse('2022-7-15 18:20:00')\n",
    "print(day)\n",
    "print(type(day))"
   ]
  },
  {
   "cell_type": "markdown",
   "id": "def54092",
   "metadata": {},
   "source": [
    "두 날짜 데이터 사이의 차이 계산하기"
   ]
  },
  {
   "cell_type": "code",
   "execution_count": 7,
   "id": "4651e17b",
   "metadata": {},
   "outputs": [
    {
     "name": "stdout",
     "output_type": "stream",
     "text": [
      "2023-08-11 20:56:55.422326\n"
     ]
    }
   ],
   "source": [
    "start = dt.now()\n",
    "print(start)"
   ]
  },
  {
   "cell_type": "code",
   "execution_count": 8,
   "id": "ce0a7c6b",
   "metadata": {},
   "outputs": [
    {
     "name": "stdout",
     "output_type": "stream",
     "text": [
      "2023-08-11 20:56:55.442272\n"
     ]
    }
   ],
   "source": [
    "end = dt.now()\n",
    "print(end)"
   ]
  },
  {
   "cell_type": "code",
   "execution_count": 9,
   "id": "a866200f",
   "metadata": {},
   "outputs": [
    {
     "name": "stdout",
     "output_type": "stream",
     "text": [
      "0:00:00.019946\n",
      "0\n",
      "0\n",
      "19946\n",
      "0.019946\n"
     ]
    }
   ],
   "source": [
    "t = end - start\n",
    "print(t)\n",
    "print(t.days) # 두 날짜 데이터 사이의 일 단위 차이를 얻어온다.\n",
    "print(t.seconds) # 두 날짜 데이터 사이의 초 단위 차이를 얻어온다.\n",
    "print(t.microseconds) # 두 날짜 데이터 사이의 마이크로초 단위 차이를 얻어온다.\n",
    "print(t.total_seconds()) # 두 날짜 데이터 사이의 차이를 초 단위로 환산해서 얻어온다."
   ]
  },
  {
   "cell_type": "code",
   "execution_count": 10,
   "id": "1f6cbfc9",
   "metadata": {},
   "outputs": [
    {
     "name": "stdout",
     "output_type": "stream",
     "text": [
      "-393 days, 21:23:04.524816\n",
      "-33878215.475184\n"
     ]
    }
   ],
   "source": [
    "t = parse('2022-7-15 18:20:00') - dt.now()\n",
    "print(t)\n",
    "print(t.total_seconds())"
   ]
  },
  {
   "cell_type": "markdown",
   "id": "a321ec90",
   "metadata": {},
   "source": [
    "날짜, 시간 출력 서식 지정하기  \n",
    "날짜데이터.strftime('출력서식')"
   ]
  },
  {
   "cell_type": "code",
   "execution_count": 11,
   "id": "7965891b",
   "metadata": {},
   "outputs": [
    {
     "name": "stdout",
     "output_type": "stream",
     "text": [
      "2023-08-11 20:56:55.503108\n",
      "2023-08-11\n",
      "23-08-11\n",
      "2023-August-11\n",
      "2023-Aug-11\n",
      "August-11 2023\n",
      "Friday August-11 2023\n",
      "Fri August-11 2023\n",
      "2023년 08월 11일\n"
     ]
    }
   ],
   "source": [
    "today = dt.now()\n",
    "print(today)\n",
    "# %Y: 년도 4자리, %y: 년도 2자리, %m: 월(숫자), %B: 월(영어 => 전체), %b: 월(영어 => 앞 3글자)\n",
    "# %d: 일, %A: 요일(영어 => 전체), %a: 요일(영어 => 앞 3글자)\n",
    "print(today.strftime('%Y-%m-%d'))\n",
    "print(today.strftime('%y-%m-%d'))\n",
    "print(today.strftime('%Y-%B-%d'))\n",
    "print(today.strftime('%Y-%b-%d'))\n",
    "print(today.strftime('%B-%d %Y'))\n",
    "print(today.strftime('%A %B-%d %Y'))\n",
    "print(today.strftime('%a %B-%d %Y'))\n",
    "# print(today.strftime('%Y년 %m월 %d일'))\n",
    "# 날짜, 시간 서식에 한글을 넣었을 때 유니코드 문제로 에러가 발생되면 아래와 같이 작성한다.\n",
    "print(today.strftime('%Y년 %m월 %d일'.encode('unicode-escape').decode()).encode().decode('unicode-escape'))"
   ]
  },
  {
   "cell_type": "code",
   "execution_count": 12,
   "id": "d788ce72",
   "metadata": {},
   "outputs": [
    {
     "name": "stdout",
     "output_type": "stream",
     "text": [
      "2023-08-11 20:56:55.520063\n",
      "PM 08:56:55\n",
      "PM 08:56:55\n",
      "20시 56분 55초\n"
     ]
    }
   ],
   "source": [
    "today = dt.now()\n",
    "print(today)\n",
    "# %H: 시간(24시각), %I: 시간(12시각), %M: 분, %S: 초, %f: 마이크로초, %p: AM/PM\n",
    "print(today.strftime('%p %I:%M:%S'))\n",
    "print(today.strftime('%p %I:%M:%S'))\n",
    "# print(today.strftime('%H시 %M분 %S초'))\n",
    "print(today.strftime('%H시 %M분 %S초'.encode('unicode-escape').decode()).encode().decode('unicode-escape'))"
   ]
  },
  {
   "cell_type": "code",
   "execution_count": null,
   "id": "b9edd973",
   "metadata": {},
   "outputs": [],
   "source": []
  },
  {
   "cell_type": "code",
   "execution_count": null,
   "id": "31263c86",
   "metadata": {},
   "outputs": [],
   "source": []
  },
  {
   "cell_type": "code",
   "execution_count": null,
   "id": "8dbf5a16",
   "metadata": {},
   "outputs": [],
   "source": []
  }
 ],
 "metadata": {
  "kernelspec": {
   "display_name": "Python 3",
   "language": "python",
   "name": "python3"
  },
  "language_info": {
   "codemirror_mode": {
    "name": "ipython",
    "version": 3
   },
   "file_extension": ".py",
   "mimetype": "text/x-python",
   "name": "python",
   "nbconvert_exporter": "python",
   "pygments_lexer": "ipython3",
   "version": "3.6.8"
  }
 },
 "nbformat": 4,
 "nbformat_minor": 5
}
