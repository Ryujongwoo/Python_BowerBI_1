{
 "cells": [
  {
   "cell_type": "code",
   "execution_count": 1,
   "id": "a1b29125",
   "metadata": {},
   "outputs": [],
   "source": [
    "import random\n",
    "lotto = [i for i in range(1, 46)]"
   ]
  },
  {
   "cell_type": "code",
   "execution_count": 2,
   "id": "7599ce60",
   "metadata": {},
   "outputs": [
    {
     "name": "stdout",
     "output_type": "stream",
     "text": [
      "로또 복권 구매 금액을 입력하세요: 10000\n",
      "  1 game: 05 13 26 27 30 45 \n",
      "  2 game: 05 15 16 23 24 34 \n",
      "  3 game: 02 03 15 18 34 41 \n",
      "  4 game: 05 11 25 26 38 44 \n",
      "  5 game: 05 09 10 11 32 39 \n",
      "  6 game: 01 03 25 26 41 43 \n",
      "  7 game: 02 06 07 22 43 45 \n",
      "  8 game: 01 07 18 25 31 32 \n",
      "  9 game: 02 08 11 22 43 45 \n",
      " 10 game: 01 05 10 16 23 29 \n"
     ]
    }
   ],
   "source": [
    "# 로또 복권 구매 금액을 입력받아 입력받은 금액만큼 로또 번호를 출력하는 프로그램\n",
    "# 로또 복권 구매 금액을 입력받는다.\n",
    "money = int(input('로또 복권 구매 금액을 입력하세요: '))\n",
    "# 복권 구매 금액만큼 반복하며 로또 번호를 출력한다.\n",
    "for i in range(money // 1000):\n",
    "    random.shuffle(lotto)\n",
    "    print('{:3d} game: '.format(i + 1), end='')\n",
    "    # 자동으로 생성된 로또 번호를 오름차순으로 정렬한다.\n",
    "    result = lotto[:6]\n",
    "    result.sort()\n",
    "    for j in range(6):\n",
    "        print('{:02d} '.format(result[j]), end='')\n",
    "    print()"
   ]
  }
 ],
 "metadata": {
  "kernelspec": {
   "display_name": "Python 3",
   "language": "python",
   "name": "python3"
  },
  "language_info": {
   "codemirror_mode": {
    "name": "ipython",
    "version": 3
   },
   "file_extension": ".py",
   "mimetype": "text/x-python",
   "name": "python",
   "nbconvert_exporter": "python",
   "pygments_lexer": "ipython3",
   "version": "3.6.8"
  }
 },
 "nbformat": 4,
 "nbformat_minor": 5
}
