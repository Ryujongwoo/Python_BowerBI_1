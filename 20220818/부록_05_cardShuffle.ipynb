{
 "cells": [
  {
   "cell_type": "code",
   "execution_count": 1,
   "id": "48dd7905",
   "metadata": {},
   "outputs": [],
   "source": [
    "import random"
   ]
  },
  {
   "cell_type": "code",
   "execution_count": 2,
   "id": "0de00e71",
   "metadata": {},
   "outputs": [],
   "source": [
    "# 카드 출력에 사용할 숫자와 무늬를 기억하는 리스트를 만든다.\n",
    "number = ['A', '2', '3', '4', '5', '6', '7', '8', '9', '10', 'J', 'Q', 'K']\n",
    "symbol = ['♠', '◇', '♥', '♧']"
   ]
  },
  {
   "cell_type": "code",
   "execution_count": 3,
   "id": "647e3847",
   "metadata": {},
   "outputs": [
    {
     "name": "stdout",
     "output_type": "stream",
     "text": [
      "♠A  ♠2  ♠3  ♠4  ♠5  ♠6  ♠7  ♠8  ♠9  ♠10 ♠J  ♠Q  ♠K  \n",
      "◇A  ◇2  ◇3  ◇4  ◇5  ◇6  ◇7  ◇8  ◇9  ◇10 ◇J  ◇Q  ◇K  \n",
      "♥A  ♥2  ♥3  ♥4  ♥5  ♥6  ♥7  ♥8  ♥9  ♥10 ♥J  ♥Q  ♥K  \n",
      "♧A  ♧2  ♧3  ♧4  ♧5  ♧6  ♧7  ♧8  ♧9  ♧10 ♧J  ♧Q  ♧K  \n",
      "==================================================섞기전\n",
      "♠Q  ◇5  ♥2  ♠2  ♠5  ♥7  ◇9  ♠10 ◇A  ♧3  ♥8  ♥J  ♥4  \n",
      "♥5  ♠7  ♠6  ♥A  ♧9  ◇3  ♧2  ♠K  ♠3  ♥Q  ♧A  ◇6  ♧Q  \n",
      "♠4  ♥K  ♠A  ◇J  ◇Q  ◇K  ♧J  ◇10 ♠8  ♠9  ♥9  ♧5  ♥10 \n",
      "♧6  ♥6  ♧K  ♧10 ◇2  ♧7  ♧8  ♧4  ♠J  ◇4  ◇7  ♥3  ◇8  \n",
      "==================================================섞기전\n"
     ]
    }
   ],
   "source": [
    "# 0 ~ 51 사이의 숫자가 채워진 리스트를 만든다. => 카드\n",
    "cards = [i for i in range(52)]\n",
    "# print(cards)\n",
    "\n",
    "# 섞기전 상태를 출력한다. => cards 리스트에 저장된 숫자를 1줄에 13개씩 출력한다.\n",
    "for i in range(len(cards)):\n",
    "    # print('{:2d} '.format(cards[i]), end='')\n",
    "    # print('{:2s} '.format(number[cards[i] % 13]), end='') # 숫자만\n",
    "    # print('{:s} '.format(symbol[cards[i] // 13]), end='') # 무늬만\n",
    "    print('{:s}{:2s} '.format(symbol[cards[i] // 13], number[cards[i] % 13]), end='')\n",
    "    if (i + 1) % 13 == 0:\n",
    "        print()\n",
    "print('=' * 50 + '섞기전')\n",
    "\n",
    "random.shuffle(cards)\n",
    "\n",
    "# 섞은후 상태를 출력한다.\n",
    "for i in range(len(cards)):\n",
    "    print('{:s}{:2s} '.format(symbol[cards[i] // 13], number[cards[i] % 13]), end='')\n",
    "    if (i + 1) % 13 == 0:\n",
    "        print()\n",
    "print('=' * 50 + '섞기전')"
   ]
  }
 ],
 "metadata": {
  "kernelspec": {
   "display_name": "Python 3",
   "language": "python",
   "name": "python3"
  },
  "language_info": {
   "codemirror_mode": {
    "name": "ipython",
    "version": 3
   },
   "file_extension": ".py",
   "mimetype": "text/x-python",
   "name": "python",
   "nbconvert_exporter": "python",
   "pygments_lexer": "ipython3",
   "version": "3.6.8"
  }
 },
 "nbformat": 4,
 "nbformat_minor": 5
}
