{
 "cells": [
  {
   "cell_type": "code",
   "execution_count": 1,
   "id": "d88f8994",
   "metadata": {},
   "outputs": [],
   "source": [
    "import random"
   ]
  },
  {
   "cell_type": "code",
   "execution_count": 2,
   "id": "f1d2f461",
   "metadata": {},
   "outputs": [
    {
     "name": "stdout",
     "output_type": "stream",
     "text": [
      "레벨을 입력하세요(1 ~ 9): 3\n",
      "[5, 2, 7]\n",
      "user: 123\n",
      "1 스트라이크 0 볼\n",
      "user: 456\n",
      "0 스트라이크 1 볼\n",
      "user: 789\n",
      "0 스트라이크 1 볼\n",
      "user: 572\n",
      "1 스트라이크 2 볼\n",
      "user: 527\n",
      "맞췄다 => [5, 2, 7]\n"
     ]
    }
   ],
   "source": [
    "# 1 ~ 9 사이의 숫자가 채워진 리스트를 만든다.\n",
    "baseball = [i for i in range(1, 10)]\n",
    "# print(baseball)\n",
    "\n",
    "# 섞는다.\n",
    "random.shuffle(baseball)\n",
    "# print(baseball)\n",
    "\n",
    "# 레벨을 입력받는다.\n",
    "level = int(input('레벨을 입력하세요(1 ~ 9): '))\n",
    "cpu = baseball[:level]\n",
    "print(cpu)\n",
    "\n",
    "# 몇번만에 맞출지 모르기 때문에 무한 루프를 돌려 처리한다.\n",
    "while True:\n",
    "    # 새 반복이 시작될 때 마다 스트라이크의 개수와 볼의 개수를 세는 변수를 0으로 초기화 시킨다.\n",
    "    # 초기화 시키지 않으면 이전 반복의 스트라이크, 볼의 개수에 현재 반복의 스트라이크, 볼의 개수가 누적된다.\n",
    "    s = 0; b = 0\n",
    "    # 컴퓨터가 숨겨놓은 숫자를 맞추기 위해 유저에게 입력을 받는다.\n",
    "    user = input('user: ')\n",
    "    \n",
    "    # 레벨만큼 반복하며 스트라이크의 개수와 볼의 개수를 센다.\n",
    "    for i in range(level):\n",
    "        # 스트라이크 => cpu와 user의 같은 인덱스에 위치한 데이터가 같다.\n",
    "        # str() 함수는 숫자를 문자열로 변환한다.\n",
    "        if str(cpu[i]) == user[i]:\n",
    "        # int() 함수는 문자열을 숫자로 변환한다.\n",
    "        # if cpu[i] ==int(user[i]):\n",
    "            s += 1\n",
    "        # 볼 => user[i]가 cpu 리스트에 포함되어 있다.\n",
    "        elif int(user[i]) in cpu:\n",
    "            b += 1\n",
    "    # ===== for\n",
    "    # 스트라이크의 개수와 레벨이 같으면 맞춘것이므로 무한 루프를 탈출한다.\n",
    "    if s == level:\n",
    "        break\n",
    "    # 맞추지 못했으므로 힌트를 출력한다.\n",
    "    print('{} 스트라이크 {} 볼'.format(s, b))\n",
    "# ===== while\n",
    "print('맞췄다 => {}'.format(cpu))"
   ]
  },
  {
   "cell_type": "code",
   "execution_count": 3,
   "id": "ac1697d7",
   "metadata": {},
   "outputs": [
    {
     "name": "stdout",
     "output_type": "stream",
     "text": [
      "레벨을 입력하세요(1 ~ 9): 3\n",
      "[6, 4, 3]\n",
      "user: 123\n",
      "1 스트라이크 0 볼\n",
      "user: 643\n",
      "2번 만에 맞췄다 => [6, 4, 3]\n"
     ]
    }
   ],
   "source": [
    "baseball = [i for i in range(1, 10)]\n",
    "random.shuffle(baseball)\n",
    "level = int(input('레벨을 입력하세요(1 ~ 9): '))\n",
    "cpu = baseball[:level]\n",
    "print(cpu)\n",
    "\n",
    "count = 0 # 유저가 맞추기 위해서 전체 몇번 입력했나 세야하므로 반복전에 초기화시켜야 한다.\n",
    "while True:\n",
    "    s = 0; b = 0 # 유저가 입력할 때 마다 스트라이크와 볼의 개수를 세야하므로 반복마다 초기화시켜야 한다.\n",
    "    user = input('user: ')\n",
    "    count += 1 # 유저가 한 번 입력할 때마다 카운트한다.\n",
    "    for i in range(level):\n",
    "        if str(cpu[i]) == user[i]:\n",
    "            s += 1\n",
    "        elif int(user[i]) in cpu:\n",
    "            b += 1\n",
    "    # ===== for\n",
    "    if s == level:\n",
    "        break\n",
    "    print('{} 스트라이크 {} 볼'.format(s, b))\n",
    "# ===== while\n",
    "print('{}번 만에 맞췄다 => {}'.format(count, cpu))"
   ]
  },
  {
   "cell_type": "code",
   "execution_count": 4,
   "id": "c9ed3d7a",
   "metadata": {},
   "outputs": [
    {
     "name": "stdout",
     "output_type": "stream",
     "text": [
      "레벨을 입력하세요(1 ~ 9): 3\n",
      "[3, 2, 6]\n",
      "user: 326\n",
      "1번 만에 5.567203초 걸려서 맞췄다 => [3, 2, 6]\n"
     ]
    }
   ],
   "source": [
    "from datetime import datetime as dt # 날짜, 시간 관련 모듈을 import 한다.\n",
    "\n",
    "baseball = [i for i in range(1, 10)]\n",
    "random.shuffle(baseball)\n",
    "level = int(input('레벨을 입력하세요(1 ~ 9): '))\n",
    "cpu = baseball[:level]\n",
    "print(cpu)\n",
    "\n",
    "start = dt.now() # 게임 시작 시간을 저장한다.\n",
    "count = 0\n",
    "while True:\n",
    "    s = 0; b = 0\n",
    "    user = input('user: ')\n",
    "    count += 1\n",
    "    for i in range(level):\n",
    "        if str(cpu[i]) == user[i]:\n",
    "            s += 1\n",
    "        elif int(user[i]) in cpu:\n",
    "            b += 1\n",
    "    # ===== for\n",
    "    if s == level:\n",
    "        break\n",
    "    print('{} 스트라이크 {} 볼'.format(s, b))\n",
    "# ===== while\n",
    "end = dt.now() # 게임 종료 시간을 저장한다.\n",
    "t = end - start # 종료 시간에서 시작 시간을 빼서 게임 시간을 계산한다.\n",
    "print('{}번 만에 {}초 걸려서 맞췄다 => {}'.format(count, t.total_seconds(), cpu))"
   ]
  },
  {
   "cell_type": "code",
   "execution_count": null,
   "id": "f361abc3",
   "metadata": {},
   "outputs": [],
   "source": []
  },
  {
   "cell_type": "code",
   "execution_count": null,
   "id": "aba9e876",
   "metadata": {},
   "outputs": [],
   "source": []
  },
  {
   "cell_type": "code",
   "execution_count": null,
   "id": "9ee803e7",
   "metadata": {},
   "outputs": [],
   "source": []
  },
  {
   "cell_type": "code",
   "execution_count": null,
   "id": "781e02c9",
   "metadata": {},
   "outputs": [],
   "source": []
  },
  {
   "cell_type": "code",
   "execution_count": null,
   "id": "57dbce0b",
   "metadata": {},
   "outputs": [],
   "source": []
  }
 ],
 "metadata": {
  "kernelspec": {
   "display_name": "Python 3",
   "language": "python",
   "name": "python3"
  },
  "language_info": {
   "codemirror_mode": {
    "name": "ipython",
    "version": 3
   },
   "file_extension": ".py",
   "mimetype": "text/x-python",
   "name": "python",
   "nbconvert_exporter": "python",
   "pygments_lexer": "ipython3",
   "version": "3.6.8"
  }
 },
 "nbformat": 4,
 "nbformat_minor": 5
}
