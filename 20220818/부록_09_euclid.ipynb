{
 "cells": [
  {
   "cell_type": "markdown",
   "id": "cfc2f7cc",
   "metadata": {},
   "source": [
    "# 유클리드 호제법을 이용한 최대공약수와 최소공배수\n",
    "숫자 2개를 입력받아 큰수와 작은수를 구분한다.  \n",
    "큰수를 작은수로 나눠 떨어지면 작은수가 최대공약수가 되고 큰수를 작은수로 나눠 떨어지지 않으면 큰수를 기억하던 기억장소에 작은수를 넣어주고 작은수를 기억하던 기억장소에 나머지를 넣어준 후 계산을 반복한다.  \n",
    "최대공약수가 계산되면 입력받은 숫자 2개를 곱한 결과를 최대공약수로 나눠주면 최소공배수가 계산된다.  \n",
    "***\n",
    "<img src=\"./euclid.png\" width=\"400\" align=\"left\"/>"
   ]
  },
  {
   "cell_type": "code",
   "execution_count": 4,
   "id": "4fbfd549",
   "metadata": {},
   "outputs": [
    {
     "name": "stdout",
     "output_type": "stream",
     "text": [
      "숫자 2개를 입력하세요: 6 9\n",
      "최대공약수: 3, 최소공배수: 18\n"
     ]
    }
   ],
   "source": [
    "# 숫자 2개를 입력받아 큰수, 작은수를 판단한다.\n",
    "a, b = map(int, input('숫자 2개를 입력하세요: ').split())\n",
    "if a > b:\n",
    "    big = a\n",
    "    small = b\n",
    "else:\n",
    "    big = a\n",
    "    small = b\n",
    "# 입력받은 숫자에 따라서 계산에 필요한 반복 횟수가 달라지므로 무한 루프를 돌려서 처리한다.\n",
    "while True:\n",
    "    # 큰수를 작은수로 나눈 나머지를 계산한다.\n",
    "    r = big % small\n",
    "    # 큰수를 작은수로 나눠 떨어지면 최대공약수가 나왔으므로 무한 루프를 탈출한다.\n",
    "    if r == 0:\n",
    "        break\n",
    "    # ===== if\n",
    "    # 큰수를 작은수로 나눠 떨어지지 않았으므로 큰수를 기억하던 기억장소에 작은수를 넣어주고 작은수를 기억하던 기억장소에\n",
    "    # 나머지를 넣어준 후 반복한다.\n",
    "    big = small\n",
    "    small = r\n",
    "# ===== while\n",
    "# 최소공배수를 계산하고 최대공약수와 최소공배수를 출력한다.\n",
    "# print('최대공약수: {}, 최소공배수: {}'.format(small, int(a * b / small)))\n",
    "print('최대공약수: %d, 최소공배수: %d' % (small, a * b / small))"
   ]
  },
  {
   "cell_type": "markdown",
   "id": "1e93fedb",
   "metadata": {},
   "source": [
    "<img src=\"./euclid2.png\" width=\"500\" align=\"left\"/>"
   ]
  },
  {
   "cell_type": "code",
   "execution_count": 8,
   "id": "8240d28d",
   "metadata": {},
   "outputs": [
    {
     "name": "stdout",
     "output_type": "stream",
     "text": [
      "숫자 2개를 입력하세요: 1024 512\n",
      "최대공약수: 3, 최소공배수: 1024\n"
     ]
    }
   ],
   "source": [
    "a, b = map(int, input('숫자 2개를 입력하세요: ').split())\n",
    "r = 1\n",
    "if a > b:\n",
    "    high = a\n",
    "    low = b\n",
    "else:\n",
    "    low = a\n",
    "    high = b\n",
    "# 변수 r의 초기치가 1로 지정되었으므로 while의 최초 진입 조건은 참이되므로 r이 0보다 클동안 반복한다.\n",
    "while r > 0:\n",
    "    r = high % low # 큰수를 작은수로 나눈 나머지를 계산한다.\n",
    "    high = low\n",
    "    low = r\n",
    "# ===== while\n",
    "# 큰수를 작은수로 나눈 나머지가 0이 되면(최대공약수가 계산되면) 최소공배수를 계산한다.\n",
    "# while 반복을 빠져나올 때 작은수는 큰수를 기억하던 변수에 저장되서 나온다.\n",
    "l = int(a * b // high)\n",
    "print('최대공약수: {}, 최소공배수: {}'.format(small, l))"
   ]
  },
  {
   "cell_type": "code",
   "execution_count": null,
   "id": "07435485",
   "metadata": {},
   "outputs": [],
   "source": []
  }
 ],
 "metadata": {
  "kernelspec": {
   "display_name": "Python 3",
   "language": "python",
   "name": "python3"
  },
  "language_info": {
   "codemirror_mode": {
    "name": "ipython",
    "version": 3
   },
   "file_extension": ".py",
   "mimetype": "text/x-python",
   "name": "python",
   "nbconvert_exporter": "python",
   "pygments_lexer": "ipython3",
   "version": "3.6.8"
  }
 },
 "nbformat": 4,
 "nbformat_minor": 5
}
