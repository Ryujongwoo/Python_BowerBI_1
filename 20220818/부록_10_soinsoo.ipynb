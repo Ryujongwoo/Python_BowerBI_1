{
 "cells": [
  {
   "cell_type": "markdown",
   "id": "2398a781",
   "metadata": {},
   "source": [
    "# 소인수 분해\n",
    "<img src=\"./soinsoo.png\" width=\"600\" align=\"left\"/>"
   ]
  },
  {
   "cell_type": "markdown",
   "id": "23de0890",
   "metadata": {},
   "source": [
    "<img src=\"./soinsoo2.png\" width=\"450\" align=\"left\"/>"
   ]
  },
  {
   "cell_type": "markdown",
   "id": "7a8c9eca",
   "metadata": {},
   "source": [
    "<img src=\"./soinsoo3.png\" width=\"450\" align=\"left\"/>"
   ]
  },
  {
   "cell_type": "code",
   "execution_count": 5,
   "id": "025a2138",
   "metadata": {},
   "outputs": [
    {
     "name": "stdout",
     "output_type": "stream",
     "text": [
      "소인수 분해할 숫자를 입력하세요: 132\n",
      "입력: 132 => 2 * 2 * 3 * 11\n",
      "소인수 분해할 숫자를 입력하세요: 20\n",
      "입력: 20 => 2 * 2 * 5\n",
      "소인수 분해할 숫자를 입력하세요: 37\n",
      "입력: 37 => 소수\n",
      "소인수 분해할 숫자를 입력하세요: 0\n",
      "입력: 0 => 프로그램 종료\n"
     ]
    }
   ],
   "source": [
    "# 소인수 분해가 불가능한 숫자가 입력될 때 까지 실행해야 하기 때문에 무한 루프를 돌린다.\n",
    "while True:\n",
    "    n = int(input('소인수 분해할 숫자를 입력하세요: '))\n",
    "    # 2미만인 숫자가 입력되면 프로그램을 종료한다.\n",
    "    if n < 2:\n",
    "        # print('2보다 작은 숫자가 입력되서 프로그램을 종료합니다.')\n",
    "        break\n",
    "    # ===== if\n",
    "    # 2이상인 숫자가 입력되었으므로 소인수 분해를 실행한다.\n",
    "    s = [] # 분해된 소인수를 기억할 빈 리스트를 선언한다.\n",
    "    c = 0 # 소인수의 개수를 기억할 변수를 선언하고 초기화 시킨다.\n",
    "    number = n # 소인수 분해 결과를 출력하기 위해서 입력받는 숫자를 number라는 변수에 보관한다.\n",
    "    \n",
    "    # 소인수 분해를 시작한다.\n",
    "    # 소인수 분해를 하기 위해 입력하는 숫자(n)의 크기에 따라 반복 횟수가 달라지므로 무한 루프를 돌려 처리한다.\n",
    "    while True:\n",
    "        k = 2 # 소인수 분해를 시작할 수를 초기화 시킨다.\n",
    "        while True:\n",
    "            r = n % k\n",
    "            if r == 0: # 소인수 분해 되었는가?\n",
    "                break\n",
    "            # ===== if\n",
    "            k += 1\n",
    "        # ===== while\n",
    "        c += 1 # 소인수 분해가 되면 소인수의 개수를 1증가 시킨다. => 소인수의 개수가 1이면 소수를 의미한다.\n",
    "        s.append(k) # 발생된 소인수를 리스트에 저장한다.\n",
    "        # 다음 소인수를 계산하기 위해서 소인수 분해되고 남은 숫자(몫)을 n에 저장시킨다.\n",
    "        n //= k\n",
    "        if n == 1: # 소인수 분해가 끝났는가?\n",
    "            break\n",
    "    # ===== while\n",
    "    \n",
    "    # 소인수 분해를 하기위해 입력한 수가 소수인가 비교한다.\n",
    "    if c == 1:\n",
    "        print('입력: {} => 소수'.format(number))\n",
    "    else:\n",
    "        print('입력: {} => '.format(number), end='')\n",
    "        for i in range(c - 1):\n",
    "            print(s[i], end=' * ')\n",
    "        print(s[-1])\n",
    "# ===== while\n",
    "print('입력: {} => 프로그램 종료'.format(n))"
   ]
  },
  {
   "cell_type": "code",
   "execution_count": null,
   "id": "258109c0",
   "metadata": {},
   "outputs": [],
   "source": []
  },
  {
   "cell_type": "code",
   "execution_count": null,
   "id": "34bc0827",
   "metadata": {},
   "outputs": [],
   "source": []
  },
  {
   "cell_type": "code",
   "execution_count": null,
   "id": "32a3a41d",
   "metadata": {},
   "outputs": [],
   "source": []
  },
  {
   "cell_type": "code",
   "execution_count": null,
   "id": "54fa9b59",
   "metadata": {},
   "outputs": [],
   "source": []
  },
  {
   "cell_type": "code",
   "execution_count": null,
   "id": "bb836f04",
   "metadata": {},
   "outputs": [],
   "source": []
  },
  {
   "cell_type": "code",
   "execution_count": null,
   "id": "69625fc3",
   "metadata": {},
   "outputs": [],
   "source": []
  }
 ],
 "metadata": {
  "kernelspec": {
   "display_name": "Python 3",
   "language": "python",
   "name": "python3"
  },
  "language_info": {
   "codemirror_mode": {
    "name": "ipython",
    "version": 3
   },
   "file_extension": ".py",
   "mimetype": "text/x-python",
   "name": "python",
   "nbconvert_exporter": "python",
   "pygments_lexer": "ipython3",
   "version": "3.6.8"
  }
 },
 "nbformat": 4,
 "nbformat_minor": 5
}
