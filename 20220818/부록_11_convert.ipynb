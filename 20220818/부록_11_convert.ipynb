{
 "cells": [
  {
   "cell_type": "markdown",
   "id": "3e3766de",
   "metadata": {},
   "source": [
    "# 진법변환\n",
    "<img src=\"./convert.png\" width=\"700\" align=\"left\"/>"
   ]
  },
  {
   "cell_type": "code",
   "execution_count": 2,
   "id": "9a24cb97",
   "metadata": {},
   "outputs": [
    {
     "name": "stdout",
     "output_type": "stream",
     "text": [
      "10진수를 입력하세요: 26\n",
      "11010\n"
     ]
    }
   ],
   "source": [
    "# 10진수를 2진수로\n",
    "dec = int(input('10진수를 입력하세요: '))\n",
    "convert = [] # 10진수가 2진수로 변환된 결과를 저장할 빈 리스트를 선언한다.\n",
    "# 입력되는 10진수의 크기에 따라 반복 횟수가 달라지므로 무한 루프를 돌려 처리한다.\n",
    "while True:\n",
    "    m = dec // 2 # 10진수를 2로 나눈 몫을 계산한다.\n",
    "    r = dec % 2 # 10진수를 2로 나눈 나머지를 계산한다.\n",
    "    convert.append(r) # 나머지를 2진수로 변환된 결과를 기억할 리스트에 저장한다.\n",
    "    # 몫이 0이되면 진법 변환이 완료된것이므로 무한 루프를 탈출한다.\n",
    "    if m == 0:\n",
    "        break\n",
    "    # =====\n",
    "    # 다음 계산을 위해서 dec의 값을 몫으로 수정한다.\n",
    "    dec = m\n",
    "# ===== while\n",
    "for i in range(len(convert) - 1, -1, -1):\n",
    "    print(convert[i], end='')\n",
    "print()"
   ]
  },
  {
   "cell_type": "code",
   "execution_count": 3,
   "id": "91ac5923",
   "metadata": {},
   "outputs": [
    {
     "name": "stdout",
     "output_type": "stream",
     "text": [
      "10진수를 입력하세요: 26\n",
      "32\n"
     ]
    }
   ],
   "source": [
    "# 10진수를 8진수로\n",
    "dec = int(input('10진수를 입력하세요: '))\n",
    "convert = []\n",
    "while True:\n",
    "    m = dec // 8\n",
    "    r = dec % 8\n",
    "    convert.append(r)\n",
    "    if m == 0:\n",
    "        break\n",
    "    # =====\n",
    "    dec = m\n",
    "# ===== while\n",
    "for i in range(len(convert) - 1, -1, -1):\n",
    "    print(convert[i], end='')\n",
    "print()"
   ]
  },
  {
   "cell_type": "code",
   "execution_count": 5,
   "id": "d438ac1f",
   "metadata": {},
   "outputs": [
    {
     "name": "stdout",
     "output_type": "stream",
     "text": [
      "10진수를 입력하세요: 26\n",
      "1A\n"
     ]
    }
   ],
   "source": [
    "# 10진수를 16진수로\n",
    "dec = int(input('10진수를 입력하세요: '))\n",
    "convert = []\n",
    "# 16진수를 기억하는 리스트를 만든다.\n",
    "hex_16 = ['0', '1', '2', '3', '4', '5', '6', '7', '8', '9', 'A', 'B', 'C', 'D', 'E', 'F']\n",
    "while True:\n",
    "    m = dec // 16\n",
    "    r = dec % 16\n",
    "    convert.append(hex_16[r])\n",
    "    if m == 0:\n",
    "        break\n",
    "    # =====\n",
    "    dec = m\n",
    "# ===== while\n",
    "for i in range(len(convert) - 1, -1, -1):\n",
    "    print(convert[i], end='')\n",
    "print()"
   ]
  },
  {
   "cell_type": "code",
   "execution_count": 13,
   "id": "86cb4c0c",
   "metadata": {},
   "outputs": [
    {
     "name": "stdout",
     "output_type": "stream",
     "text": [
      "10진수를 입력하세요: 35 36\n",
      "Z\n"
     ]
    }
   ],
   "source": [
    "# 10진수를 n진수로\n",
    "dec, n = map(int, input('10진수를 입력하세요: ').split())\n",
    "convert = []\n",
    "while True:\n",
    "    m = dec // n\n",
    "    r = dec % n\n",
    "    convert.append(r)\n",
    "    if m == 0:\n",
    "        break\n",
    "    # =====\n",
    "    dec = m\n",
    "# ===== while\n",
    "for i in range(len(convert) - 1, -1, -1):\n",
    "    # chr() 함수는 인수로 지정된 유니 코드에 해당되는 문자를 리턴한다.\n",
    "    print(convert[i] if convert[i] < 10 else chr(convert[i] + 55), end='')\n",
    "print()"
   ]
  },
  {
   "cell_type": "code",
   "execution_count": null,
   "id": "a1dbbc79",
   "metadata": {},
   "outputs": [],
   "source": []
  },
  {
   "cell_type": "code",
   "execution_count": null,
   "id": "ce0c8dc7",
   "metadata": {},
   "outputs": [],
   "source": []
  },
  {
   "cell_type": "code",
   "execution_count": null,
   "id": "f29aeb22",
   "metadata": {},
   "outputs": [],
   "source": []
  },
  {
   "cell_type": "code",
   "execution_count": null,
   "id": "db3ab9a3",
   "metadata": {},
   "outputs": [],
   "source": []
  },
  {
   "cell_type": "code",
   "execution_count": null,
   "id": "4c49aa07",
   "metadata": {},
   "outputs": [],
   "source": []
  }
 ],
 "metadata": {
  "kernelspec": {
   "display_name": "Python 3",
   "language": "python",
   "name": "python3"
  },
  "language_info": {
   "codemirror_mode": {
    "name": "ipython",
    "version": 3
   },
   "file_extension": ".py",
   "mimetype": "text/x-python",
   "name": "python",
   "nbconvert_exporter": "python",
   "pygments_lexer": "ipython3",
   "version": "3.6.8"
  }
 },
 "nbformat": 4,
 "nbformat_minor": 5
}
