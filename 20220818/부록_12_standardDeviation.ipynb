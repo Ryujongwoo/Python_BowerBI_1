{
 "cells": [
  {
   "cell_type": "markdown",
   "id": "38cf23a0",
   "metadata": {},
   "source": [
    "# 분산, 표준편차\n",
    "n개의 데이터(999가 입력되기 전 까지)를 입력받아 최대값과 최소값을 제외한 나머지 데이터의 표준편차를 계산하는 프로그램\n",
    "***\n",
    "$$\\sqrt{\\frac{\\sum_{i=1}^{N-2} (x_i - \\bar{x})^2}{n-2}}$$"
   ]
  },
  {
   "cell_type": "markdown",
   "id": "0335f762",
   "metadata": {},
   "source": [
    "<img src=\"./stdDev.png\" width=\"700\" align=\"left\"/>"
   ]
  },
  {
   "cell_type": "code",
   "execution_count": 4,
   "id": "2a61d1f2",
   "metadata": {},
   "outputs": [
    {
     "name": "stdout",
     "output_type": "stream",
     "text": [
      "최대값: 91, 최소값: 35\n"
     ]
    }
   ],
   "source": [
    "# 최대값, 최소값 판단하기 - 1\n",
    "data = [35, 91, 75, 62, 84]\n",
    "# 최대값을 기억할 변수는 아주 작은 값을 초기치로 지정하고 최소값을 기억할 변수는 아주 큰 값을 초기치로 넣어주고 비교한다.\n",
    "big = 0\n",
    "small = 100\n",
    "for score in data:\n",
    "    if score > big:\n",
    "        big = score\n",
    "    if score < small:\n",
    "        small = score\n",
    "print('최대값: {}, 최소값: {}'.format(big, small))"
   ]
  },
  {
   "cell_type": "code",
   "execution_count": 5,
   "id": "e5c22c30",
   "metadata": {},
   "outputs": [
    {
     "name": "stdout",
     "output_type": "stream",
     "text": [
      "최대값: 91, 최소값: 35\n"
     ]
    }
   ],
   "source": [
    "# 최대값, 최소값 판단하기 - 2\n",
    "data = [35, 91, 75, 62, 84]\n",
    "# 최대값을 기억할 변수와 최소값을 기억할 변수에 리스트의 0번째 인덱스의 값을 초기치로 넣어주고 비교한다.\n",
    "big = data[0]\n",
    "small = data[0]\n",
    "# 리스트의 0번째 인덱스의 값을 초기치로 지정했으므로 리스트의 1번째 인덱스 값 부터 반복시키면 된다.\n",
    "for score in data[1:]:\n",
    "    if score > big:\n",
    "        big = score\n",
    "    elif score < small:\n",
    "        small = score\n",
    "print('최대값: {}, 최소값: {}'.format(big, small))"
   ]
  },
  {
   "cell_type": "code",
   "execution_count": 7,
   "id": "2951282d",
   "metadata": {},
   "outputs": [
    {
     "name": "stdout",
     "output_type": "stream",
     "text": [
      "최대값: 91, 최소값: 35\n",
      "최대값: 91, 최소값: 35\n"
     ]
    }
   ],
   "source": [
    "# 최대값, 최소값 판단하기 - 3\n",
    "data = [35, 91, 75, 62, 84]\n",
    "data.sort()\n",
    "print('최대값: {}, 최소값: {}'.format(data[-1], data[0]))\n",
    "data.sort(reverse=True)\n",
    "print('최대값: {}, 최소값: {}'.format(data[0], data[-1]))"
   ]
  },
  {
   "cell_type": "code",
   "execution_count": 8,
   "id": "137a5a01",
   "metadata": {},
   "outputs": [
    {
     "name": "stdout",
     "output_type": "stream",
     "text": [
      "최대값: 91, 최소값: 35\n"
     ]
    }
   ],
   "source": [
    "# 최대값, 최소값 판단하기 - 4\n",
    "data = [35, 91, 75, 62, 84]\n",
    "# 최대값을 계산하는 함수 max()와 최소값을 계산하는 min()을 사용한다.\n",
    "print('최대값: {}, 최소값: {}'.format(max(data), min(data)))"
   ]
  },
  {
   "cell_type": "code",
   "execution_count": 9,
   "id": "af7b4f64",
   "metadata": {},
   "outputs": [
    {
     "name": "stdout",
     "output_type": "stream",
     "text": [
      "1번째 표준편차를 계산할 데이터를 입력하세요: 1\n",
      "2번째 표준편차를 계산할 데이터를 입력하세요: 2\n",
      "3번째 표준편차를 계산할 데이터를 입력하세요: 3\n",
      "4번째 표준편차를 계산할 데이터를 입력하세요: 4\n",
      "5번째 표준편차를 계산할 데이터를 입력하세요: 5\n",
      "6번째 표준편차를 계산할 데이터를 입력하세요: 999\n",
      "입력받은 데이터는 5개 이고 데이터는 [1, 2, 3, 4, 5] 입니다.\n"
     ]
    }
   ],
   "source": [
    "# 표준편차를 계산할 데이터를 999가 입력될 때 까지 입력받는다.\n",
    "score = []\n",
    "# 999가 몇 번째 데이터로 입력될지 모르기 때문에 무한 루프를 돌린다.\n",
    "while True:\n",
    "    data = int(input('{}번째 표준편차를 계산할 데이터를 입력하세요: '.format(len(score) + 1)))\n",
    "    # 입력받은 데이터가 999면 더 이상 데이터를 입력받을 필요가 없기 때문에 무한 루프를 탈출한다.\n",
    "    if data == 999:\n",
    "        break\n",
    "    # 999가 입력되지 않았으므로 리스트에 입력받은 데이터를 추가한다.\n",
    "    score.append(data)\n",
    "# ===== while\n",
    "print('입력받은 데이터는 {}개 이고 데이터는 {} 입니다.'.format(len(score), score))"
   ]
  },
  {
   "cell_type": "markdown",
   "id": "c7b8f267",
   "metadata": {},
   "source": [
    "최대값과 최소값을 제외한 나머지 데이터의 평균을 계산한다."
   ]
  },
  {
   "cell_type": "code",
   "execution_count": 12,
   "id": "e779241e",
   "metadata": {},
   "outputs": [
    {
     "name": "stdout",
     "output_type": "stream",
     "text": [
      "최대값과 최소값을 제외한 나머지 데이터의 합계: 9\n",
      "최대값과 최소값을 제외한 나머지 데이터의 평균: 3.00\n"
     ]
    }
   ],
   "source": [
    "big = max(score)\n",
    "small = min(score)\n",
    "'''\n",
    "total = 0\n",
    "for s in score:\n",
    "    total += s\n",
    "total -= big + small\n",
    "'''\n",
    "total = sum(score) - big - small\n",
    "print('최대값과 최소값을 제외한 나머지 데이터의 합계: {}'.format(total))\n",
    "mean = total / (len(score) - 2)\n",
    "print('최대값과 최소값을 제외한 나머지 데이터의 평균: {:.2f}'.format(mean))"
   ]
  },
  {
   "cell_type": "code",
   "execution_count": 16,
   "id": "cf9e0075",
   "metadata": {},
   "outputs": [
    {
     "name": "stdout",
     "output_type": "stream",
     "text": [
      "최대값과 최소값을 제외한 나머지 데이터의 합계: 9\n",
      "최대값과 최소값을 제외한 나머지 데이터의 평균: 3.00\n"
     ]
    }
   ],
   "source": [
    "score.sort()\n",
    "'''\n",
    "total = 0\n",
    "for i in range(1, len(score) - 1):\n",
    "    total += score[i]\n",
    "'''\n",
    "# total = sum(score[1:len(score) - 1])\n",
    "total = sum(score[1:-1])\n",
    "print('최대값과 최소값을 제외한 나머지 데이터의 합계: {}'.format(total))\n",
    "mean = total / (len(score) - 2)\n",
    "print('최대값과 최소값을 제외한 나머지 데이터의 평균: {:.2f}'.format(mean))"
   ]
  },
  {
   "cell_type": "markdown",
   "id": "2763fed9",
   "metadata": {},
   "source": [
    "최대값과 최소값을 제외한 나머지 데이터와 산술평균의 편차의 제곱의 합계를 계산한다."
   ]
  },
  {
   "cell_type": "code",
   "execution_count": 20,
   "id": "fcfcf5af",
   "metadata": {},
   "outputs": [
    {
     "name": "stdout",
     "output_type": "stream",
     "text": [
      "최대값과 최소값을 제외한 나머지 데이터와 산술평균의 편차의 제곱의 합계: 2.0\n"
     ]
    }
   ],
   "source": [
    "import math\n",
    "total = 0\n",
    "for s in score[1:-1]:\n",
    "    total += (s - mean) ** 2\n",
    "    # total += math.pow(s - mean, 2)\n",
    "print('최대값과 최소값을 제외한 나머지 데이터와 산술평균의 편차의 제곱의 합계: {}'.format(total))"
   ]
  },
  {
   "cell_type": "markdown",
   "id": "ebfcddbc",
   "metadata": {},
   "source": [
    "# 최대값과 최소값을 제외한 데이터의 분산\n",
    "최대값과 최소값을 제외한 나머지 데이터와 산술평균의 편차의 제곱에 합계에 대한 평균을 계산한다."
   ]
  },
  {
   "cell_type": "code",
   "execution_count": 22,
   "id": "975f70d3",
   "metadata": {},
   "outputs": [
    {
     "name": "stdout",
     "output_type": "stream",
     "text": [
      "최대값과 최소값을 제외한 데이터의 분산: 0.6666666666666666\n"
     ]
    }
   ],
   "source": [
    "var = total / (len(score) - 2)\n",
    "print('최대값과 최소값을 제외한 데이터의 분산: {}'.format(var))"
   ]
  },
  {
   "cell_type": "markdown",
   "id": "ededaf4c",
   "metadata": {},
   "source": [
    "# 최대값과 최소값을 제외한 데이터의 표준편차\n",
    "표준편차는 분산의 제곱근이다."
   ]
  },
  {
   "cell_type": "code",
   "execution_count": 24,
   "id": "f27d1efe",
   "metadata": {},
   "outputs": [
    {
     "name": "stdout",
     "output_type": "stream",
     "text": [
      "최대값과 최소값을 제외한 데이터의 표준편차: 0.816496580927726\n"
     ]
    }
   ],
   "source": [
    "import math\n",
    "# std = var ** 0.5\n",
    "std = math.sqrt(var)\n",
    "print('최대값과 최소값을 제외한 데이터의 표준편차: {}'.format(std))"
   ]
  },
  {
   "cell_type": "markdown",
   "id": "363b7b18",
   "metadata": {},
   "source": [
    "# numpy 라이브러리를 이용해서 분산과 표준편차 계산하기\n",
    "numpy는 파이썬을 설치할 때 자동으로 설치되는 라이브러리가 아니기 때문에 별도로 설치하는 과정이 필요하다.  \n",
    "pip install numpy  \n",
    "까만 화면(cmd창)에서는 위와 같이 실행하면 되고 쥬피터 노트북을 사용하면 까만 화면으로 나가지 않고도 외부 라이브러리를 설치할 수 있다.  \n",
    "아래와 같이 '!'를 붙여서 pip install numpy를 실행하면 된다."
   ]
  },
  {
   "cell_type": "code",
   "execution_count": 25,
   "id": "b4fa9dd8",
   "metadata": {},
   "outputs": [
    {
     "name": "stdout",
     "output_type": "stream",
     "text": [
      "Requirement already satisfied: numpy in c:\\kookgi\\venv\\lib\\site-packages (1.22.4)\n"
     ]
    },
    {
     "name": "stderr",
     "output_type": "stream",
     "text": [
      "WARNING: There was an error checking the latest version of pip.\n"
     ]
    }
   ],
   "source": [
    "!pip install numpy"
   ]
  },
  {
   "cell_type": "code",
   "execution_count": 26,
   "id": "7deb4e2a",
   "metadata": {},
   "outputs": [],
   "source": [
    "import numpy as np"
   ]
  },
  {
   "cell_type": "code",
   "execution_count": 29,
   "id": "98342e57",
   "metadata": {},
   "outputs": [
    {
     "name": "stdout",
     "output_type": "stream",
     "text": [
      "최대값과 최소값을 제외한 데이터의 분산: 0.6666666666666666\n",
      "최대값과 최소값을 제외한 데이터의 표준편차: 0.816496580927726\n"
     ]
    }
   ],
   "source": [
    "print('최대값과 최소값을 제외한 데이터의 분산: {}'.format(np.var(score[1:-1])))\n",
    "print('최대값과 최소값을 제외한 데이터의 표준편차: {}'.format(np.std(score[1:-1])))"
   ]
  },
  {
   "cell_type": "markdown",
   "id": "283cccd8",
   "metadata": {},
   "source": [
    "```python\n",
    "for i, j in zip(de_mean(x), de_mean(y)):\n",
    "    sum3 = i + j\n",
    "```"
   ]
  },
  {
   "cell_type": "code",
   "execution_count": null,
   "id": "d39e80f8",
   "metadata": {},
   "outputs": [],
   "source": []
  }
 ],
 "metadata": {
  "kernelspec": {
   "display_name": "Python 3",
   "language": "python",
   "name": "python3"
  },
  "language_info": {
   "codemirror_mode": {
    "name": "ipython",
    "version": 3
   },
   "file_extension": ".py",
   "mimetype": "text/x-python",
   "name": "python",
   "nbconvert_exporter": "python",
   "pygments_lexer": "ipython3",
   "version": "3.6.8"
  }
 },
 "nbformat": 4,
 "nbformat_minor": 5
}
