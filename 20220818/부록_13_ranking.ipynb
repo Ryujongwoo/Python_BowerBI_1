{
 "cells": [
  {
   "cell_type": "markdown",
   "id": "94667f1c",
   "metadata": {},
   "source": [
    "# 석차계산\n",
    "석차를 구할 점수를 전체 점수와 비교해서 석차를 계산한다."
   ]
  },
  {
   "cell_type": "code",
   "execution_count": 19,
   "id": "c12ec108",
   "metadata": {},
   "outputs": [
    {
     "name": "stdout",
     "output_type": "stream",
     "text": [
      " 70점은 5등 입니다. ★★★★★★★\n",
      "100점은 1등 입니다. ★★★★★★★★★★\n",
      " 80점은 4등 입니다. ★★★★★★★★\n",
      "100점은 1등 입니다. ★★★★★★★★★★\n",
      " 90점은 3등 입니다. ★★★★★★★★★\n",
      " 50점은 6등 입니다. ★★★★★\n"
     ]
    }
   ],
   "source": [
    "score = [70, 100, 80, 100, 90, 50]\n",
    "# 석차를 기억할 리스트를 만든다. => 석차를 기억할 기억 장소는 초기치를 무조건 1로 지정한다.\n",
    "rank = [1 for i in range(len(score))]\n",
    "# print(rank)\n",
    "\n",
    "for i in range(len(score)):\n",
    "    for j in range(len(score)):\n",
    "        # print('[i = {}, j = {}]'.format(i, j), end=' ')\n",
    "        # 내림차순 석차, 큰 점수가 1등\n",
    "        if score[i] < score[j]:\n",
    "        # 오름차순 석차, 작은 점수가 1등\n",
    "        # if score[i] > score[j]:\n",
    "            rank[i] += 1\n",
    "    # ===== for j\n",
    "    # print()\n",
    "# ===== for i\n",
    "\n",
    "for i in range(len(score)):\n",
    "    print('{:3d}점은 {}등 입니다.'.format(score[i], rank[i]), end=' ')\n",
    "    # 10점당 '★'을 1개씩 출력한다.\n",
    "    # for j in range(score[i] // 10):\n",
    "        # print('★', end='')\n",
    "    # ===== for j\n",
    "    # print()\n",
    "    print('★' * (score[i] // 10))"
   ]
  },
  {
   "cell_type": "code",
   "execution_count": null,
   "id": "eb5f04f8",
   "metadata": {},
   "outputs": [],
   "source": []
  }
 ],
 "metadata": {
  "kernelspec": {
   "display_name": "Python 3",
   "language": "python",
   "name": "python3"
  },
  "language_info": {
   "codemirror_mode": {
    "name": "ipython",
    "version": 3
   },
   "file_extension": ".py",
   "mimetype": "text/x-python",
   "name": "python",
   "nbconvert_exporter": "python",
   "pygments_lexer": "ipython3",
   "version": "3.6.8"
  }
 },
 "nbformat": 4,
 "nbformat_minor": 5
}
