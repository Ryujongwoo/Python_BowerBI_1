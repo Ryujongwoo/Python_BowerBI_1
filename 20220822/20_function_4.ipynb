{
 "cells": [
  {
   "cell_type": "code",
   "execution_count": 13,
   "id": "117ce004",
   "metadata": {},
   "outputs": [],
   "source": [
    "# 디폴트 인수를 사용하는 함수 => 변수이름 = 디폴트값\n",
    "# 함수가 호출될 때 인수로 데이터가 넘어오면 넘어온 데이터로 함수를 실행하고 데이터가 넘어오지 않으면 디폴트로 지정된\n",
    "# 데이터로 함수를 실행한다.\n",
    "# 디폴트 인수를 부분적으로 지정하면 함수를 선언할 때 에러가 발생된다.\n",
    "def func4(a = 8, b = 6):\n",
    "    print('{} + {} = {}'.format(a, b, a + b))"
   ]
  },
  {
   "cell_type": "code",
   "execution_count": 14,
   "id": "28fabf31",
   "metadata": {},
   "outputs": [
    {
     "name": "stdout",
     "output_type": "stream",
     "text": [
      "1 + 2 = 3\n"
     ]
    }
   ],
   "source": [
    "func4(1, 2)"
   ]
  },
  {
   "cell_type": "code",
   "execution_count": 15,
   "id": "bfb2015d",
   "metadata": {},
   "outputs": [
    {
     "name": "stdout",
     "output_type": "stream",
     "text": [
      "8 + 6 = 14\n"
     ]
    }
   ],
   "source": [
    "func4()"
   ]
  },
  {
   "cell_type": "code",
   "execution_count": 17,
   "id": "52cfd9a2",
   "metadata": {},
   "outputs": [
    {
     "name": "stdout",
     "output_type": "stream",
     "text": [
      "9 + 6 = 15\n"
     ]
    }
   ],
   "source": [
    "func4(9) # func4(a = 9)와 같은 표현이다."
   ]
  },
  {
   "cell_type": "code",
   "execution_count": 18,
   "id": "12d57456",
   "metadata": {},
   "outputs": [
    {
     "name": "stdout",
     "output_type": "stream",
     "text": [
      "8 + 9 = 17\n"
     ]
    }
   ],
   "source": [
    "func4(b = 9)"
   ]
  },
  {
   "cell_type": "code",
   "execution_count": 19,
   "id": "0db1321a",
   "metadata": {},
   "outputs": [],
   "source": [
    "# 데이터가 넘어오면 1부터 넘어온 데이터까지 합계를 계산하고 데이터가 넘어오지 않으면 100까지 합계를 계산하는 함수\n",
    "def func5(n = 100):\n",
    "    total = 0\n",
    "    for i in range(1, n + 1):\n",
    "        total += i\n",
    "    return total"
   ]
  },
  {
   "cell_type": "code",
   "execution_count": 20,
   "id": "ff8bf78e",
   "metadata": {},
   "outputs": [
    {
     "name": "stdout",
     "output_type": "stream",
     "text": [
      "55\n"
     ]
    }
   ],
   "source": [
    "print(func5(10)) # n에 10이 넘어가서 1 ~ 10의 합계가 리턴된다."
   ]
  },
  {
   "cell_type": "code",
   "execution_count": 21,
   "id": "7aae488e",
   "metadata": {},
   "outputs": [
    {
     "name": "stdout",
     "output_type": "stream",
     "text": [
      "5050\n"
     ]
    }
   ],
   "source": [
    "print(func5()) # n에 넘어가는 데이터가 없으므로 디폴트로 지정된 1 ~ 100의 합계가 리턴된다."
   ]
  },
  {
   "cell_type": "code",
   "execution_count": null,
   "id": "7bca9f9a",
   "metadata": {},
   "outputs": [],
   "source": []
  },
  {
   "cell_type": "code",
   "execution_count": null,
   "id": "058138c3",
   "metadata": {},
   "outputs": [],
   "source": []
  },
  {
   "cell_type": "code",
   "execution_count": null,
   "id": "eac04d90",
   "metadata": {},
   "outputs": [],
   "source": []
  },
  {
   "cell_type": "code",
   "execution_count": null,
   "id": "03e66f41",
   "metadata": {},
   "outputs": [],
   "source": []
  }
 ],
 "metadata": {
  "kernelspec": {
   "display_name": "Python 3",
   "language": "python",
   "name": "python3"
  },
  "language_info": {
   "codemirror_mode": {
    "name": "ipython",
    "version": 3
   },
   "file_extension": ".py",
   "mimetype": "text/x-python",
   "name": "python",
   "nbconvert_exporter": "python",
   "pygments_lexer": "ipython3",
   "version": "3.6.8"
  }
 },
 "nbformat": 4,
 "nbformat_minor": 5
}
