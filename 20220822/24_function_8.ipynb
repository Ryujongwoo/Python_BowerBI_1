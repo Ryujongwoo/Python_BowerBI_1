{
 "cells": [
  {
   "cell_type": "code",
   "execution_count": 7,
   "id": "28ab0895",
   "metadata": {},
   "outputs": [],
   "source": [
    "def func9(var1):\n",
    "    var1 += 1\n",
    "    print('func9() 함수 내부의 변수 var1: {}'.format(var1))"
   ]
  },
  {
   "cell_type": "code",
   "execution_count": 8,
   "id": "219dfd87",
   "metadata": {},
   "outputs": [
    {
     "name": "stdout",
     "output_type": "stream",
     "text": [
      "func9() 함수 내부의 변수 var1: 2\n",
      "func9() 함수 외부의 변수 var1: 1\n"
     ]
    }
   ],
   "source": [
    "var1 = 1\n",
    "func9(var1)\n",
    "print('func9() 함수 외부의 변수 var1: {}'.format(var1))"
   ]
  },
  {
   "cell_type": "code",
   "execution_count": 13,
   "id": "05c65539",
   "metadata": {},
   "outputs": [],
   "source": [
    "# global 예약어를 사용하면 함수 내부에서 함수 외부의 변수에 저장된 데이터를 변경할 수 있다.\n",
    "# 함수 내부에서 함수 외부의 변수를 사용할 수 있다.\n",
    "def func10():\n",
    "    # C언어의 call by reference(참조에 의한 호출) 방식처럼 사용된다. => 부작용(side effect) 현상이 발생될 수 \n",
    "    # 있으니 주의해서 사용해야 한다.\n",
    "    # global로 사용할 변수는 함수의 인수로 선언하면 안된다. => 함수의 인수로 선언하면 함수 내부에서 독립적인\n",
    "    # 메모리를 할당받는 변수가 된다.\n",
    "    # global로 선언된 변수는 함수 내부에서 값을 변경시키면 함수 외부에 선언된 변수의 값도 같이 변경된다.\n",
    "    global var2 # 함수 외부에서 선언한 var2라는 변수를 함수 내부에서 사용하겠다고 선언한다.\n",
    "    var2 += 1\n",
    "    print('func10() 함수 내부의 변수 var2: {}'.format(var2))"
   ]
  },
  {
   "cell_type": "code",
   "execution_count": 11,
   "id": "617aeb71",
   "metadata": {},
   "outputs": [
    {
     "name": "stdout",
     "output_type": "stream",
     "text": [
      "func10() 함수 내부의 변수 var2: 1000\n",
      "func10() 함수 외부의 변수 var2: 1000\n"
     ]
    }
   ],
   "source": [
    "var2 = 999\n",
    "func10()\n",
    "print('func10() 함수 외부의 변수 var2: {}'.format(var2))"
   ]
  },
  {
   "cell_type": "code",
   "execution_count": null,
   "id": "5f155319",
   "metadata": {},
   "outputs": [],
   "source": []
  }
 ],
 "metadata": {
  "kernelspec": {
   "display_name": "Python 3",
   "language": "python",
   "name": "python3"
  },
  "language_info": {
   "codemirror_mode": {
    "name": "ipython",
    "version": 3
   },
   "file_extension": ".py",
   "mimetype": "text/x-python",
   "name": "python",
   "nbconvert_exporter": "python",
   "pygments_lexer": "ipython3",
   "version": "3.6.8"
  }
 },
 "nbformat": 4,
 "nbformat_minor": 5
}
