{
 "cells": [
  {
   "cell_type": "code",
   "execution_count": 1,
   "id": "00dfe975",
   "metadata": {},
   "outputs": [],
   "source": [
    "def isLeapYear(year):\n",
    "    return year % 4 == 0 and year % 100 != 0 or year % 400 == 0"
   ]
  },
  {
   "cell_type": "code",
   "execution_count": 2,
   "id": "a31de42f",
   "metadata": {},
   "outputs": [],
   "source": [
    "def lastDay(year, month):\n",
    "    m = [31, 0, 31, 30, 31, 30, 31, 31, 30, 31, 30, 31]\n",
    "    m[1] = 29 if isLeapYear(year) else 28\n",
    "    return m[month - 1]"
   ]
  },
  {
   "cell_type": "code",
   "execution_count": 3,
   "id": "a8e8db89",
   "metadata": {},
   "outputs": [],
   "source": [
    "def totalDay(year, month, day):\n",
    "    total = (year - 1) * 365 + (year - 1) // 4 - (year - 1) // 100 + (year - 1) // 400\n",
    "    for i in range(1, month):\n",
    "        total += lastDay(year, i)\n",
    "    return total + day"
   ]
  },
  {
   "cell_type": "code",
   "execution_count": 4,
   "id": "62ea5c4e",
   "metadata": {},
   "outputs": [],
   "source": [
    "def weekDay(year, month, day):\n",
    "    return totalDay(year, month, day) % 7"
   ]
  },
  {
   "cell_type": "code",
   "execution_count": 29,
   "id": "c303789b",
   "metadata": {},
   "outputs": [
    {
     "name": "stdout",
     "output_type": "stream",
     "text": [
      "달력을 출력할 년, 월을 입력하세요: 2022 8\n",
      "============================\n",
      "         2022년 8월\n",
      "============================\n",
      " 일  월  화  수  목  금  토 \n",
      "============================\n",
      "      1   2   3   4   5   6 \n",
      "  7   8   9  10  11  12  13 \n",
      " 14  15  16  17  18  19  20 \n",
      " 21  22  23  24  25  26  27 \n",
      " 28  29  30  31 \n",
      "============================\n"
     ]
    }
   ],
   "source": [
    "# 달력을 출력할 년, 월을 입력받는다.\n",
    "year, month = map(int, input('달력을 출력할 년, 월을 입력하세요: ').split())\n",
    "\n",
    "print('=' * 28)\n",
    "print('         {:4d}년{:2d}월'.format(year, month))\n",
    "print('=' * 28)\n",
    "print(' 일  월  화  수  목  금  토 ')\n",
    "print('=' * 28)\n",
    "\n",
    "# 1일이 출력될 위치(요일)을 맞추기 위해 1일의 요일만큼 반복하며 빈 칸을 출력한다.\n",
    "# 빈 칸은 요일당 4칸이다.\n",
    "for i in range(weekDay(year, month, 1)):\n",
    "    print('    ', end='')\n",
    "\n",
    "# 1일부터 달력을 출력할 달의 마지막 날짜까지 반복하며 날짜를 출력한다.\n",
    "for i in range(1, lastDay(year, month) + 1):\n",
    "    print(' {:2d} '.format(i), end='')\n",
    "    # 출력한 날짜(i)가 토요일이고 그 달의 마지막 날짜가 아니면 줄을 바꾼다.\n",
    "    if weekDay(year, month, i) == 6 and i != lastDay(year, month):\n",
    "        print()\n",
    "# =====\n",
    "print('\\n' + '=' * 28)"
   ]
  },
  {
   "cell_type": "code",
   "execution_count": null,
   "id": "bb13e3d2",
   "metadata": {},
   "outputs": [],
   "source": []
  },
  {
   "cell_type": "code",
   "execution_count": null,
   "id": "5d1efb72",
   "metadata": {},
   "outputs": [],
   "source": []
  },
  {
   "cell_type": "code",
   "execution_count": null,
   "id": "cda06c5a",
   "metadata": {},
   "outputs": [],
   "source": []
  },
  {
   "cell_type": "code",
   "execution_count": null,
   "id": "e5a6e7c4",
   "metadata": {},
   "outputs": [],
   "source": []
  },
  {
   "cell_type": "code",
   "execution_count": null,
   "id": "9872086e",
   "metadata": {},
   "outputs": [],
   "source": []
  }
 ],
 "metadata": {
  "kernelspec": {
   "display_name": "Python 3",
   "language": "python",
   "name": "python3"
  },
  "language_info": {
   "codemirror_mode": {
    "name": "ipython",
    "version": 3
   },
   "file_extension": ".py",
   "mimetype": "text/x-python",
   "name": "python",
   "nbconvert_exporter": "python",
   "pygments_lexer": "ipython3",
   "version": "3.6.8"
  }
 },
 "nbformat": 4,
 "nbformat_minor": 5
}
