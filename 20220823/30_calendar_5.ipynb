{
 "cells": [
  {
   "cell_type": "markdown",
   "id": "3118b6ff",
   "metadata": {},
   "source": [
    "같은 모듈을 여러 프로젝트에서 같이 사용해야 한다면 각각의 프로젝트에 같은 모듈을 복사해서 사용할 경우  \n",
    "유지보수시 문제점이 발생될 수 있다.  \n",
    "import 할 모듈이 현재 사용중인 컴퓨터 어딘가에 있을 경우 sys 모듈을 import 하고 sys.path에 append() 메소드로  \n",
    "모듈이 위치하는 경로를 추가시켜 사용하면 된다."
   ]
  },
  {
   "cell_type": "code",
   "execution_count": 4,
   "id": "e4b35b7c",
   "metadata": {},
   "outputs": [],
   "source": [
    "import sys\n",
    "# '\\' 때문에 에러가 발생된다. => '\\'를 '\\\\'나 '/'로 수정하면 에러가 발생되지 않는다.\n",
    "sys.path.append('E:/userModule')"
   ]
  },
  {
   "cell_type": "code",
   "execution_count": 5,
   "id": "c481edff",
   "metadata": {},
   "outputs": [],
   "source": [
    "import calM as cm"
   ]
  },
  {
   "cell_type": "code",
   "execution_count": 6,
   "id": "c303789b",
   "metadata": {},
   "outputs": [
    {
     "name": "stdout",
     "output_type": "stream",
     "text": [
      "달력을 출력할 년, 월을 입력하세요: 2022 8\n",
      "============================\n",
      "         2022년 8월\n",
      "============================\n",
      " 일  월  화  수  목  금  토 \n",
      "============================\n",
      "      1   2   3   4   5   6 \n",
      "  7   8   9  10  11  12  13 \n",
      " 14  15  16  17  18  19  20 \n",
      " 21  22  23  24  25  26  27 \n",
      " 28  29  30  31 \n",
      "============================\n"
     ]
    }
   ],
   "source": [
    "year, month = map(int, input('달력을 출력할 년, 월을 입력하세요: ').split())\n",
    "\n",
    "print('=' * 28)\n",
    "print('         {:4d}년{:2d}월'.format(year, month))\n",
    "print('=' * 28)\n",
    "print(' 일  월  화  수  목  금  토 ')\n",
    "print('=' * 28)\n",
    "\n",
    "for i in range(cm.weekDay(year, month, 1)):\n",
    "    print('    ', end='')\n",
    "\n",
    "for i in range(1, cm.lastDay(year, month) + 1):\n",
    "    print(' {:2d} '.format(i), end='')\n",
    "    if cm.weekDay(year, month, i) == 6 and i != cm.lastDay(year, month):\n",
    "        print()\n",
    "print('\\n' + '=' * 28)"
   ]
  },
  {
   "cell_type": "code",
   "execution_count": null,
   "id": "bb13e3d2",
   "metadata": {},
   "outputs": [],
   "source": []
  },
  {
   "cell_type": "code",
   "execution_count": null,
   "id": "5d1efb72",
   "metadata": {},
   "outputs": [],
   "source": []
  },
  {
   "cell_type": "code",
   "execution_count": null,
   "id": "cda06c5a",
   "metadata": {},
   "outputs": [],
   "source": []
  },
  {
   "cell_type": "code",
   "execution_count": null,
   "id": "e5a6e7c4",
   "metadata": {},
   "outputs": [],
   "source": []
  },
  {
   "cell_type": "code",
   "execution_count": null,
   "id": "9872086e",
   "metadata": {},
   "outputs": [],
   "source": []
  }
 ],
 "metadata": {
  "kernelspec": {
   "display_name": "Python 3",
   "language": "python",
   "name": "python3"
  },
  "language_info": {
   "codemirror_mode": {
    "name": "ipython",
    "version": 3
   },
   "file_extension": ".py",
   "mimetype": "text/x-python",
   "name": "python",
   "nbconvert_exporter": "python",
   "pygments_lexer": "ipython3",
   "version": "3.6.8"
  }
 },
 "nbformat": 4,
 "nbformat_minor": 5
}
