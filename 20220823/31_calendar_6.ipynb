{
 "cells": [
  {
   "cell_type": "markdown",
   "id": "3118b6ff",
   "metadata": {},
   "source": [
    "# 특정 모듈의 특정 함수만 import 시켜서 사용하기\n",
    "특정 모듈의 특정 함수만 import 해서 사용하려면 아래와 같이 import 시키면 된다.  \n",
    "from 모듈이름 import 함수이름 => from 다음에 지정한 모듈의 모든 함수를 import 시키지 않고 지정한 함수만 import 시킨다.  \n",
    "필요한 함수만 import 시키면 함수가 포함된 모듈 이름을 함수 앞에 붙이지 않고 실행할 수 있다."
   ]
  },
  {
   "cell_type": "code",
   "execution_count": 6,
   "id": "c481edff",
   "metadata": {},
   "outputs": [],
   "source": [
    "# from calendarModule import weekDay # calendarModule의 weekDay() 함수만 import 시킨다.\n",
    "# from calendarModule import lastDay # calendarModule의 lastDay() 함수만 import 시킨다.\n",
    "\n",
    "# weekDay() 함수와 lastDay() 함수는 모두 calendarModule의 함수이므로 아래와 같이 사용해도 된다.\n",
    "# from calendarModule import weekDay, lastDay\n",
    "\n",
    "# 특정 모듈의 모든 함수를 쓰고싶은데 모듈 이름은 쓰기 싫으면 아래와 같이 하면된다.\n",
    "from calendarModule import *"
   ]
  },
  {
   "cell_type": "code",
   "execution_count": 7,
   "id": "c303789b",
   "metadata": {},
   "outputs": [
    {
     "name": "stdout",
     "output_type": "stream",
     "text": [
      "달력을 출력할 년, 월을 입력하세요: 2022 8\n",
      "============================\n",
      "         2022년 8월\n",
      "============================\n",
      " 일  월  화  수  목  금  토 \n",
      "============================\n",
      "      1   2   3   4   5   6 \n",
      "  7   8   9  10  11  12  13 \n",
      " 14  15  16  17  18  19  20 \n",
      " 21  22  23  24  25  26  27 \n",
      " 28  29  30  31 \n",
      "============================\n"
     ]
    }
   ],
   "source": [
    "year, month = map(int, input('달력을 출력할 년, 월을 입력하세요: ').split())\n",
    "\n",
    "print('=' * 28)\n",
    "print('         {:4d}년{:2d}월'.format(year, month))\n",
    "print('=' * 28)\n",
    "print(' 일  월  화  수  목  금  토 ')\n",
    "print('=' * 28)\n",
    "\n",
    "for i in range(weekDay(year, month, 1)):\n",
    "    print('    ', end='')\n",
    "\n",
    "for i in range(1, lastDay(year, month) + 1):\n",
    "    print(' {:2d} '.format(i), end='')\n",
    "    if weekDay(year, month, i) == 6 and i != lastDay(year, month):\n",
    "        print()\n",
    "print('\\n' + '=' * 28)"
   ]
  },
  {
   "cell_type": "code",
   "execution_count": null,
   "id": "bb13e3d2",
   "metadata": {},
   "outputs": [],
   "source": []
  },
  {
   "cell_type": "code",
   "execution_count": null,
   "id": "5d1efb72",
   "metadata": {},
   "outputs": [],
   "source": []
  },
  {
   "cell_type": "code",
   "execution_count": null,
   "id": "cda06c5a",
   "metadata": {},
   "outputs": [],
   "source": []
  },
  {
   "cell_type": "code",
   "execution_count": null,
   "id": "e5a6e7c4",
   "metadata": {},
   "outputs": [],
   "source": []
  },
  {
   "cell_type": "code",
   "execution_count": null,
   "id": "9872086e",
   "metadata": {},
   "outputs": [],
   "source": []
  }
 ],
 "metadata": {
  "kernelspec": {
   "display_name": "Python 3",
   "language": "python",
   "name": "python3"
  },
  "language_info": {
   "codemirror_mode": {
    "name": "ipython",
    "version": 3
   },
   "file_extension": ".py",
   "mimetype": "text/x-python",
   "name": "python",
   "nbconvert_exporter": "python",
   "pygments_lexer": "ipython3",
   "version": "3.6.8"
  }
 },
 "nbformat": 4,
 "nbformat_minor": 5
}
