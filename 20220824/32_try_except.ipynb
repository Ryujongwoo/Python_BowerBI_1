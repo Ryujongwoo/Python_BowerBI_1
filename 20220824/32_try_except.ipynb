{
 "cells": [
  {
   "cell_type": "markdown",
   "id": "12453d96",
   "metadata": {},
   "source": [
    "# 오류 처리\n",
    "프로그램을 작성할 때 잘못 동작되는 것을 방지하기 위해 오류가 발생된다. => 오류가 발생되면 프로그램이 멈춘다.  \n",
    "try ~ except를 사용하면 오류가 발생되었을 때 별도의 처리를 하거나 오류를 무시하고 프로그램을 실행할 수 있다.  \n",
    "오류가 발생될것으로 예상되는 문장은 try 블록에 코딩하고 try 블록을 실행하다가 오류가 발생되면 더 이상 try 블록에  \n",
    "코딩된 내용을 실행하지 않고 해당 except 블록에 코딩된 내용을 실행한다."
   ]
  },
  {
   "cell_type": "markdown",
   "id": "73405a62",
   "metadata": {},
   "source": [
    "try: # 필수  \n",
    "&nbsp;&nbsp;&nbsp;&nbsp;오류가 발생될것으로 예상되는 문장  \n",
    "&nbsp;&nbsp;&nbsp;&nbsp;...  \n",
    "except [오류 이름 [as 변수 이름]]: # 필수 => 오류 이름과 변수 이름은 생략할 수 있다.  \n",
    "&nbsp;&nbsp;&nbsp;&nbsp;오류가 발생되면 실행할 문장  \n",
    "&nbsp;&nbsp;&nbsp;&nbsp;...  \n",
    "finally: # 선택 => 필요한 경우 사용한다.  \n",
    "&nbsp;&nbsp;&nbsp;&nbsp;오류 발생 여부와 관계없이 실행할 문장  \n",
    "&nbsp;&nbsp;&nbsp;&nbsp;..."
   ]
  },
  {
   "cell_type": "code",
   "execution_count": 7,
   "id": "4604e000",
   "metadata": {},
   "outputs": [
    {
     "name": "stdout",
     "output_type": "stream",
     "text": [
      "4.0\n",
      "나눗셈은 0으로 할 수 없습니다.\n",
      "꺄~~~~~~~~~~~~\n"
     ]
    }
   ],
   "source": [
    "try:\n",
    "    print(4 / 1)\n",
    "    print(4 / 0) # ZeroDivisionError\n",
    "    print(4 / 4)\n",
    "except: # except 뒤에 오류 이름을 적지 않으면 모든 오류를 처리할 수 있다.\n",
    "    # pass # 오류 발생시 아무것도 하지않고 오류를 무시하려면 pass를 사용하면 된다.\n",
    "    print('나눗셈은 0으로 할 수 없습니다.')\n",
    "print('꺄~~~~~~~~~~~~')"
   ]
  },
  {
   "cell_type": "code",
   "execution_count": 10,
   "id": "627aef95",
   "metadata": {},
   "outputs": [
    {
     "name": "stdout",
     "output_type": "stream",
     "text": [
      "3\n",
      "리스트의 인덱스 지정이 올바르지 않습니다.\n",
      "꺄~~~~~~~~~~~~\n"
     ]
    }
   ],
   "source": [
    "data = [1, 2, 3]\n",
    "try:\n",
    "    print(data[2])\n",
    "    print(data[3]) # IndexError\n",
    "    print(data[-1])\n",
    "except:\n",
    "    print('리스트의 인덱스 지정이 올바르지 않습니다.')\n",
    "print('꺄~~~~~~~~~~~~')"
   ]
  },
  {
   "cell_type": "code",
   "execution_count": 55,
   "id": "e3d05b6e",
   "metadata": {},
   "outputs": [
    {
     "name": "stdout",
     "output_type": "stream",
     "text": [
      "안녕~~~~~\n",
      "오류 발생 여부와 관계없이 무조건 실행해야 할 문장이 있다면 이곳에 코딩한다.\n",
      "꺄~~~~~~~~~~~~\n"
     ]
    }
   ],
   "source": [
    "data = [1, 2, 3]\n",
    "string = '안녕~~~~~'\n",
    "try:\n",
    "    # print(4 / 0) # ZeroDivisionError\n",
    "    # print(data[3]) # IndexError\n",
    "    print(string)\n",
    "    # print('%d' % string) # TypeError\n",
    "except ZeroDivisionError: # except 뒤에 오류 이름을 적으면 지정된 오류만 오류 처리를 할 수 있다.\n",
    "    print('나눗셈은 0으로 할 수 없습니다.')\n",
    "except IndexError as e: # except 뒤에 오류 이름을 쓰고 as 다음에 변수를 지정하면 오류 메시지가 변수에 저장된다.\n",
    "    print('리스트의 인덱스 지정이 올바르지 않습니다.')\n",
    "    print(e)\n",
    "except:\n",
    "    # except 뒤에 오류 이름을 지정하지 않으면 모든 오류를 처리하기 때문에 except 뒤에 코딩한 다른 except 문장이\n",
    "    # 실행되지 않기 때문에 문법적으로 오류가 있으므로 SyntaxError가 발생된다.\n",
    "    # 따라서, except만 사용하는 경우 반드시 맨 마지막에 코딩해야 한다.\n",
    "    # ZeroDivisionError, IndexError를 제외한 모든 오류가 이곳에 코딩된 문장을 실행한다.\n",
    "    print('데이터 타입이 올바르지 않습니다.')\n",
    "finally:\n",
    "    # 오류 발생 여부와 관계없이 무조건 실행해야 할 문장이 있다면 finally 블록에 코딩한다.\n",
    "    print('오류 발생 여부와 관계없이 무조건 실행해야 할 문장이 있다면 이곳에 코딩한다.')\n",
    "print('꺄~~~~~~~~~~~~')"
   ]
  },
  {
   "cell_type": "code",
   "execution_count": 63,
   "id": "3e9a3a1b",
   "metadata": {},
   "outputs": [
    {
     "ename": "TypeError",
     "evalue": "'<' not supported between instances of 'str' and 'int'",
     "output_type": "error",
     "traceback": [
      "\u001b[1;31m---------------------------------------------------------------------------\u001b[0m",
      "\u001b[1;31mTypeError\u001b[0m                                 Traceback (most recent call last)",
      "\u001b[1;32m<ipython-input-63-75a739ae04c0>\u001b[0m in \u001b[0;36m<module>\u001b[1;34m\u001b[0m\n\u001b[0;32m      1\u001b[0m \u001b[0ma\u001b[0m \u001b[1;33m=\u001b[0m \u001b[1;33m[\u001b[0m\u001b[1;36m100\u001b[0m\u001b[1;33m,\u001b[0m \u001b[1;34m'010q'\u001b[0m\u001b[1;33m,\u001b[0m \u001b[1;36m55\u001b[0m\u001b[1;33m,\u001b[0m \u001b[1;34m'가10'\u001b[0m\u001b[1;33m,\u001b[0m \u001b[1;36m1\u001b[0m\u001b[1;33m,\u001b[0m \u001b[1;34m'abc'\u001b[0m\u001b[1;33m]\u001b[0m\u001b[1;33m\u001b[0m\u001b[1;33m\u001b[0m\u001b[0m\n\u001b[1;32m----> 2\u001b[1;33m \u001b[0ma\u001b[0m\u001b[1;33m.\u001b[0m\u001b[0msort\u001b[0m\u001b[1;33m(\u001b[0m\u001b[1;33m)\u001b[0m\u001b[1;33m\u001b[0m\u001b[1;33m\u001b[0m\u001b[0m\n\u001b[0m",
      "\u001b[1;31mTypeError\u001b[0m: '<' not supported between instances of 'str' and 'int'"
     ]
    }
   ],
   "source": [
    "a = [100, '010q', 55, '가10', 1, 'abc']\n",
    "a.sort()"
   ]
  },
  {
   "cell_type": "code",
   "execution_count": 66,
   "id": "9c403032",
   "metadata": {},
   "outputs": [
    {
     "name": "stdout",
     "output_type": "stream",
     "text": [
      "[1, 55, 100, '010q', 'abc', '가10']\n"
     ]
    }
   ],
   "source": [
    "# 리스트의 sort() 메소드는 리스트에 저장된 모든 데이터의 타입의 같아야 정상적으로 실행되기 때문에\n",
    "# 서로 다른 데이터 타입이 섞여있으면 데이터 타입별로 분리한 후 각각 정렬하고 나중에 합쳐야 한다.\n",
    "number = []\n",
    "alpha = list()\n",
    "for i in a:\n",
    "    try:\n",
    "        number.append(int(i))\n",
    "    except ValueError:\n",
    "        alpha.append(i)\n",
    "# =====\n",
    "number.sort()\n",
    "alpha.sort()\n",
    "print(number + alpha)"
   ]
  },
  {
   "cell_type": "code",
   "execution_count": null,
   "id": "01493eb8",
   "metadata": {},
   "outputs": [],
   "source": []
  },
  {
   "cell_type": "code",
   "execution_count": null,
   "id": "1afa4eb1",
   "metadata": {},
   "outputs": [],
   "source": []
  }
 ],
 "metadata": {
  "kernelspec": {
   "display_name": "Python 3",
   "language": "python",
   "name": "python3"
  },
  "language_info": {
   "codemirror_mode": {
    "name": "ipython",
    "version": 3
   },
   "file_extension": ".py",
   "mimetype": "text/x-python",
   "name": "python",
   "nbconvert_exporter": "python",
   "pygments_lexer": "ipython3",
   "version": "3.6.8"
  }
 },
 "nbformat": 4,
 "nbformat_minor": 5
}
