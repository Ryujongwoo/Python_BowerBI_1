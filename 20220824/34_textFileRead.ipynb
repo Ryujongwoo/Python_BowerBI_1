{
 "cells": [
  {
   "cell_type": "code",
   "execution_count": 20,
   "id": "7f194dc0",
   "metadata": {},
   "outputs": [
    {
     "name": "stdout",
     "output_type": "stream",
     "text": [
      "data2.txt 파일에서 읽기완료\n",
      "['꺄아~~~~~~~', '꺄아~~~~~~~', '꺄아~~~~~~~', '꺄아~~~~~~~', '꺄아~~~~~~~', '꺄아~~~~~~~', '꺄아~~~~~~~', '꺄아~~~~~~~', '꺄아~~~~~~~', '꺄아~~~~~~~']\n"
     ]
    }
   ],
   "source": [
    "try:\n",
    "    file = open('./data/data2.txt', 'r')\n",
    "    lines = []\n",
    "    # 텍스트 파일에 저장된 데이터가 몇 줄인지 알 수 없으므로 무한루프를 돌려서 처리한다.\n",
    "    while True:\n",
    "        # readline() 메소드로 텍스트 파일으 데이터를 1줄씩 읽어들일 수 있다.\n",
    "        line = file.readline()\n",
    "        # readline() 메소드로 텍스트 파일에서 읽어들인 데이터가 없으면 무한루프를 탈출한다.\n",
    "        if not line: # 텍스트 파일에서 읽어들인 데이터가 없으면\n",
    "            break\n",
    "        # readline() 메소드로 텍스트 파일의 데이터를 읽어들인 후 strip() 메소드로 문자열 앞, 뒤의 불필요한\n",
    "        # 공백을 제거하는 것이 좋다. '\\n'도 불필요한 공백에 해당된다.\n",
    "        line = line.strip()\n",
    "        # print(line)\n",
    "        # readline() 메소드로 읽어들인 데이터가 모두 공백이면 strip() 메소드를 실행하면 불필요한 공백이 모두\n",
    "        # 제거되기 때문에 len() 함수를 실행하면 0이 리턴된다.\n",
    "        if len(line) != 0: # 읽어들인 데이터가 있으면\n",
    "            lines.append(line)\n",
    "    file.close()\n",
    "    print('data2.txt 파일에서 읽기완료')\n",
    "except FileNotFoundError:\n",
    "    print('디스크에 파일이 존재하지 않습니다.')\n",
    "\n",
    "print(lines)"
   ]
  },
  {
   "cell_type": "code",
   "execution_count": 23,
   "id": "d4901fd5",
   "metadata": {},
   "outputs": [
    {
     "name": "stdout",
     "output_type": "stream",
     "text": [
      "<class 'list'>\n",
      "data2.txt 파일에서 읽기완료\n",
      "['꺄아~~~~~~~\\n', '꺄아~~~~~~~\\n', '꺄아~~~~~~~\\n', '꺄아~~~~~~~\\n', '                                         \\n', '꺄아~~~~~~~\\n', '꺄아~~~~~~~\\n', '꺄아~~~~~~~\\n', '꺄아~~~~~~~\\n', '꺄아~~~~~~~\\n', '꺄아~~~~~~~\\n']\n"
     ]
    }
   ],
   "source": [
    "try:\n",
    "    file = open('./data/data2.txt', 'r')\n",
    "    # readlines() 메소드는 텍스트 파일의 데이터 전체를 한꺼번에 읽어서 리스트로 얻어온다.\n",
    "    lines = file.readlines()\n",
    "    print(type(lines))\n",
    "    file.close()\n",
    "    print('data2.txt 파일에서 읽기완료')\n",
    "except FileNotFoundError:\n",
    "    print('디스크에 파일이 존재하지 않습니다.')\n",
    "    \n",
    "print(lines)"
   ]
  },
  {
   "cell_type": "code",
   "execution_count": null,
   "id": "6aa8ce9f",
   "metadata": {},
   "outputs": [],
   "source": []
  }
 ],
 "metadata": {
  "kernelspec": {
   "display_name": "Python 3",
   "language": "python",
   "name": "python3"
  },
  "language_info": {
   "codemirror_mode": {
    "name": "ipython",
    "version": 3
   },
   "file_extension": ".py",
   "mimetype": "text/x-python",
   "name": "python",
   "nbconvert_exporter": "python",
   "pygments_lexer": "ipython3",
   "version": "3.6.8"
  }
 },
 "nbformat": 4,
 "nbformat_minor": 5
}
