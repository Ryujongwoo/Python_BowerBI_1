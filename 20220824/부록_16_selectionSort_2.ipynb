{
 "cells": [
  {
   "cell_type": "code",
   "execution_count": 1,
   "id": "1d6e9e95",
   "metadata": {},
   "outputs": [],
   "source": [
    "from selectionSortModule import *"
   ]
  },
  {
   "cell_type": "markdown",
   "id": "a9226d73",
   "metadata": {},
   "source": [
    "999가 입력될 때 까지 데이터를 입력받아 정렬한다."
   ]
  },
  {
   "cell_type": "code",
   "execution_count": 4,
   "id": "6cf9d805",
   "metadata": {},
   "outputs": [
    {
     "name": "stdout",
     "output_type": "stream",
     "text": [
      "정렬할 데이터 입력: 8\n",
      "정렬할 데이터 입력: 3\n",
      "정렬할 데이터 입력: 4\n",
      "정렬할 데이터 입력: 9\n",
      "정렬할 데이터 입력: 1\n",
      "정렬할 데이터 입력: 999\n",
      "입력한 데이터: [8, 3, 4, 9, 1]\n",
      "오름차순 정렬 결과: [1, 3, 4, 8, 9]\n",
      "내림차순 정렬 결과: [9, 8, 4, 3, 1]\n"
     ]
    }
   ],
   "source": [
    "data = []\n",
    "while True:\n",
    "    n = int(input('정렬할 데이터 입력: '))\n",
    "    # 999가 입력되면 무한 루프를 탈출하고 데이터를 정렬한다.\n",
    "    if n == 999:\n",
    "        break\n",
    "    # ===== if\n",
    "    data.append(n)\n",
    "# ===== while\n",
    "print('입력한 데이터: {}'.format(data))\n",
    "\n",
    "result = selectionSortAsc(data)\n",
    "print('오름차순 정렬 결과: {}'.format(result))\n",
    "result = selectionSortDesc(data)\n",
    "print('내림차순 정렬 결과: {}'.format(result))"
   ]
  },
  {
   "cell_type": "code",
   "execution_count": 13,
   "id": "6da4032a",
   "metadata": {},
   "outputs": [
    {
     "name": "stdout",
     "output_type": "stream",
     "text": [
      "정렬할 데이터 입력: 8\n",
      "정렬할 데이터 입력: 3\n",
      "정렬할 데이터 입력: 4\n",
      "정렬할 데이터 입력: 9\n",
      "정렬할 데이터 입력: 1\n",
      "정렬할 데이터 입력: 999\n",
      "입력한 데이터: [8, 3, 4, 9, 1, 999]\n",
      "오름차순 정렬 결과: [1, 3, 4, 8, 9]\n",
      "내림차순 정렬 결과: [9, 8, 4, 3, 1]\n"
     ]
    }
   ],
   "source": [
    "data = []\n",
    "n = 0\n",
    "while n != 999:\n",
    "    n = int(input('정렬할 데이터 입력: '))\n",
    "    data.append(n)\n",
    "# ===== while\n",
    "print('입력한 데이터: {}'.format(data))\n",
    "\n",
    "# result = selectionSortAsc(data[:len(data) - 1])\n",
    "result = selectionSortAsc(data[:-1])\n",
    "print('오름차순 정렬 결과: {}'.format(result))\n",
    "\n",
    "# del data[len(data) - 1]\n",
    "# del data[-1]\n",
    "# data.remove(999)\n",
    "data.pop()\n",
    "\n",
    "result = selectionSortDesc(data)\n",
    "print('내림차순 정렬 결과: {}'.format(result))"
   ]
  },
  {
   "cell_type": "code",
   "execution_count": null,
   "id": "f7b12fe9",
   "metadata": {},
   "outputs": [],
   "source": []
  },
  {
   "cell_type": "code",
   "execution_count": null,
   "id": "ca829d36",
   "metadata": {},
   "outputs": [],
   "source": []
  },
  {
   "cell_type": "code",
   "execution_count": null,
   "id": "32af4ebd",
   "metadata": {},
   "outputs": [],
   "source": []
  },
  {
   "cell_type": "code",
   "execution_count": null,
   "id": "0eedd6d9",
   "metadata": {},
   "outputs": [],
   "source": []
  }
 ],
 "metadata": {
  "kernelspec": {
   "display_name": "Python 3 (ipykernel)",
   "language": "python",
   "name": "python3"
  },
  "language_info": {
   "codemirror_mode": {
    "name": "ipython",
    "version": 3
   },
   "file_extension": ".py",
   "mimetype": "text/x-python",
   "name": "python",
   "nbconvert_exporter": "python",
   "pygments_lexer": "ipython3",
   "version": "3.10.4"
  }
 },
 "nbformat": 4,
 "nbformat_minor": 5
}
