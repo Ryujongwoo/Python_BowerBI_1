{
 "cells": [
  {
   "cell_type": "markdown",
   "id": "e917d387",
   "metadata": {},
   "source": [
    "# bubble sort(교환법)\n",
    "선택 정렬 => 특정 위치(i)의 데이터를 선택해서 나머지(j) 데이터와 비교하며 정렬한다.  \n",
    "버블 정렬 => 인접한 데이터 2개(j, j + 1)를 비교하며 정렬한다.  \n",
    "정렬할 데이터가 n개일 경우 회전수는 n - 1번이 된다. => 데이터가 5개면 회전수는 4번이다."
   ]
  },
  {
   "cell_type": "markdown",
   "id": "1d6f1475",
   "metadata": {},
   "source": [
    "<img src=\"./bubbleSort.png\" width=\"900\" align=\"left\"/>"
   ]
  },
  {
   "cell_type": "markdown",
   "id": "b14baceb",
   "metadata": {},
   "source": [
    "<img src=\"./bubbleSort2.png\" width=\"900\" align=\"left\"/>"
   ]
  },
  {
   "cell_type": "markdown",
   "id": "94827d5e",
   "metadata": {},
   "source": [
    "<img src=\"./bubbleSort3.png\" width=\"900\" align=\"left\"/>"
   ]
  },
  {
   "cell_type": "markdown",
   "id": "0de4a99e",
   "metadata": {},
   "source": [
    "<img src=\"./bubbleSort4.png\" width=\"400\" align=\"left\"/>"
   ]
  },
  {
   "cell_type": "code",
   "execution_count": 3,
   "id": "c1be235a",
   "metadata": {},
   "outputs": [
    {
     "name": "stdout",
     "output_type": "stream",
     "text": [
      "[i = 0, j = 0] [i = 0, j = 1] [i = 0, j = 2] [i = 0, j = 3] \n",
      "[i = 1, j = 0] [i = 1, j = 1] [i = 1, j = 2] \n",
      "[i = 2, j = 0] [i = 2, j = 1] \n",
      "[i = 3, j = 0] \n"
     ]
    }
   ],
   "source": [
    "for i in range(4): # 회전수\n",
    "    for j in range(4 - i): # 데이터를 비교하기 위해 선택하는 위치\n",
    "        print('[i = {}, j = {}]'.format(i, j), end=' ')\n",
    "    print()"
   ]
  },
  {
   "cell_type": "code",
   "execution_count": 10,
   "id": "67d5894c",
   "metadata": {},
   "outputs": [
    {
     "name": "stdout",
     "output_type": "stream",
     "text": [
      "1 회전 결과: [3, 4, 8, 1, 9]\n",
      "2 회전 결과: [3, 4, 1, 8, 9]\n",
      "3 회전 결과: [3, 1, 4, 8, 9]\n",
      "4 회전 결과: [1, 3, 4, 8, 9]\n"
     ]
    }
   ],
   "source": [
    "data = [8, 3, 4, 9, 1]\n",
    "for i in range(len(data) - 1):\n",
    "    for j in range(len(data) - 1 - i):\n",
    "        # 오름차순 정렬 => 앞(j번째)의 데이터가 뒤(j + 1번째)의 데이터보다 크면 두 기억장소의 데이터를 교환한다.\n",
    "        # 부등호를 '>'에서 '<'로 변경하면 내림차순으로 정렬된다.\n",
    "        if data[j] > data[j + 1]:\n",
    "            data[j], data[j + 1] = data[j + 1], data[j]\n",
    "        # ===== if\n",
    "    # ===== for j => 회전 종료\n",
    "    print('{} 회전 결과: {}'.format(i + 1, data))\n",
    "# ===== for i => 정렬 종료\n",
    "# print('정렬 결과: {}'.format(data))"
   ]
  },
  {
   "cell_type": "code",
   "execution_count": null,
   "id": "bde6d7c1",
   "metadata": {},
   "outputs": [],
   "source": []
  },
  {
   "cell_type": "code",
   "execution_count": null,
   "id": "b0177a47",
   "metadata": {},
   "outputs": [],
   "source": []
  }
 ],
 "metadata": {
  "kernelspec": {
   "display_name": "Python 3 (ipykernel)",
   "language": "python",
   "name": "python3"
  },
  "language_info": {
   "codemirror_mode": {
    "name": "ipython",
    "version": 3
   },
   "file_extension": ".py",
   "mimetype": "text/x-python",
   "name": "python",
   "nbconvert_exporter": "python",
   "pygments_lexer": "ipython3",
   "version": "3.10.4"
  }
 },
 "nbformat": 4,
 "nbformat_minor": 5
}
