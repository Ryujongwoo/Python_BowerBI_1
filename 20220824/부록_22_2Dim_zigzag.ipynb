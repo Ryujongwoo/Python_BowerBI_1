{
 "cells": [
  {
   "cell_type": "markdown",
   "id": "94924caa",
   "metadata": {},
   "source": [
    "# 2차원 리스트"
   ]
  },
  {
   "cell_type": "markdown",
   "id": "c86edf99",
   "metadata": {},
   "source": [
    "<img src=\"./2Dim.png\" width=\"1000\" align=\"left\"/>"
   ]
  },
  {
   "cell_type": "code",
   "execution_count": 3,
   "id": "76d3f39d",
   "metadata": {},
   "outputs": [
    {
     "name": "stdout",
     "output_type": "stream",
     "text": [
      "[[0, 0, 0, 0, 0], [0, 0, 0, 0, 0], [0, 0, 0, 0, 0], [0, 0, 0, 0, 0]]\n"
     ]
    }
   ],
   "source": [
    "# 리스트이름 = [[0] * 열개수 for i in range(행개수)]\n",
    "data = [[0] * 5 for i in range(4)]\n",
    "print(data)"
   ]
  },
  {
   "cell_type": "markdown",
   "id": "0d674a99",
   "metadata": {},
   "source": [
    "# 외부 라이브러리를 커맨드(까만) 창이 아니라 jupyter notebook에서 설치하기\n",
    "!pip install 라이브러리이름 => '!'를 붙여서 pip install을 실행하면 된다."
   ]
  },
  {
   "cell_type": "code",
   "execution_count": 6,
   "id": "faa7d525",
   "metadata": {},
   "outputs": [],
   "source": [
    "# !pip install numpy\n",
    "import numpy as np"
   ]
  },
  {
   "cell_type": "code",
   "execution_count": 10,
   "id": "741d0d39",
   "metadata": {},
   "outputs": [
    {
     "name": "stdout",
     "output_type": "stream",
     "text": [
      "[[0 0 0 0 0]\n",
      " [0 0 0 0 0]\n",
      " [0 0 0 0 0]\n",
      " [0 0 0 0 0]]\n"
     ]
    }
   ],
   "source": [
    "npArray = np.array(data)\n",
    "print(npArray)"
   ]
  },
  {
   "cell_type": "code",
   "execution_count": 12,
   "id": "e9324210",
   "metadata": {},
   "outputs": [
    {
     "name": "stdout",
     "output_type": "stream",
     "text": [
      "4\n",
      "5\n"
     ]
    }
   ],
   "source": [
    "print(len(data)) # 행의 개수\n",
    "print(len(data[0])) # 열의 개수"
   ]
  },
  {
   "cell_type": "code",
   "execution_count": 13,
   "id": "ebba081b",
   "metadata": {},
   "outputs": [
    {
     "name": "stdout",
     "output_type": "stream",
     "text": [
      "[0, 0, 0, 0, 0]\n",
      "[0, 0, 0, 0, 0]\n",
      "[0, 0, 0, 0, 0]\n",
      "[0, 0, 0, 0, 0]\n"
     ]
    }
   ],
   "source": [
    "for i in range(len(data)):\n",
    "    print(data[i])"
   ]
  },
  {
   "cell_type": "code",
   "execution_count": 15,
   "id": "2ed25434",
   "metadata": {},
   "outputs": [
    {
     "name": "stdout",
     "output_type": "stream",
     "text": [
      "0 0 0 0 0 \n",
      "0 0 0 0 0 \n",
      "0 0 0 0 0 \n",
      "0 0 0 0 0 \n"
     ]
    }
   ],
   "source": [
    "for i in range(len(data)):\n",
    "    for j in range(len(data[0])):\n",
    "        print(data[i][j], end=' ')\n",
    "    print()"
   ]
  },
  {
   "cell_type": "markdown",
   "id": "7fd3e116",
   "metadata": {},
   "source": [
    "<img src=\"./2Dim_Zigzag.png\" width=\"300\" align=\"left\"/>"
   ]
  },
  {
   "cell_type": "code",
   "execution_count": 24,
   "id": "5aa3454d",
   "metadata": {},
   "outputs": [
    {
     "name": "stdout",
     "output_type": "stream",
     "text": [
      "2차원 리스트를 만들려하는 행과 열의 개수: 7 15\n",
      "  1   2   3   4   5   6   7   8   9  10  11  12  13  14  15 \n",
      " 30  29  28  27  26  25  24  23  22  21  20  19  18  17  16 \n",
      " 31  32  33  34  35  36  37  38  39  40  41  42  43  44  45 \n",
      " 60  59  58  57  56  55  54  53  52  51  50  49  48  47  46 \n",
      " 61  62  63  64  65  66  67  68  69  70  71  72  73  74  75 \n",
      " 90  89  88  87  86  85  84  83  82  81  80  79  78  77  76 \n",
      " 91  92  93  94  95  96  97  98  99 100 101 102 103 104 105 \n"
     ]
    }
   ],
   "source": [
    "row, col = map(int, input('2차원 리스트를 만들려하는 행과 열의 개수: ').split())\n",
    "data = [[0] * col for i in range(row)]\n",
    "n = 0 # 리스트에 1씩 증가하며 채워질 숫자가 기억되는 변수\n",
    "\n",
    "for i in range(len(data)): # 행\n",
    "    # 짝수행은 숫자가 왼쪽에서 오른쪽으로 채워지고 홀수행은 숫자가 오른쪽에서 왼쪽으로 채워진다.\n",
    "    # 짝수행인가 홀수행인가 판단한다.\n",
    "    if i % 2 == 0: # 짝수인가?\n",
    "        # 짝수행은 왼쪽에서 오른쪽으로 숫자를 채운다. j => 0, 1, 2, 3, 4\n",
    "        for j in range(col):\n",
    "            n += 1\n",
    "            data[i][j] = n\n",
    "    else:\n",
    "        # 홀수행은 오른쪽에서 왼쪽으로 숫자를 채운다. j => 4, 3, 2, 1, 0\n",
    "        for j in range(col - 1, -1, -1):\n",
    "            n += 1\n",
    "            data[i][j] = n\n",
    "            \n",
    "for i in range(len(data)):\n",
    "    for j in range(len(data[0])):\n",
    "        print('{:3d} '.format(data[i][j]), end='')\n",
    "    print()"
   ]
  },
  {
   "cell_type": "code",
   "execution_count": 29,
   "id": "70641089",
   "metadata": {},
   "outputs": [
    {
     "name": "stdout",
     "output_type": "stream",
     "text": [
      "2차원 리스트를 만들려하는 행과 열의 개수: 7 9\n",
      "  1   2   3   4   5   6   7   8   9 \n",
      " 18  17  16  15  14  13  12  11  10 \n",
      " 19  20  21  22  23  24  25  26  27 \n",
      " 36  35  34  33  32  31  30  29  28 \n",
      " 37  38  39  40  41  42  43  44  45 \n",
      " 54  53  52  51  50  49  48  47  46 \n",
      " 55  56  57  58  59  60  61  62  63 \n"
     ]
    }
   ],
   "source": [
    "row, col = map(int, input('2차원 리스트를 만들려하는 행과 열의 개수: ').split())\n",
    "data = [[0] * col for i in range(row)]\n",
    "\n",
    "n = 0\n",
    "start = 0 # 2차원 리스트에 숫자가 채워지기 시작하는 열의 인덱스\n",
    "end = col - 1 # 2차원 리스트에 숫자가 채워지는 마지막 열의 인덱스\n",
    "sw = 1 # start 부터 end 까지 증가치로 사용할 변수\n",
    "\n",
    "for i in range(row):\n",
    "    # i = 0, sw = 1, j = range(0, 5, 1) => 0, 1, 2, 3, 4\n",
    "    # i = 1, sw = -1, j = range(4, -1, -1) => 4, 3, 2, 1, 0\n",
    "    # i = 2, sw = 1, j = range(0, 5, 1) => 0, 1, 2, 3, 4\n",
    "    # i = 3, sw = -1, j = range(4, -1, -1) => 4, 3, 2, 1, 0\n",
    "    for j in range(start, end + sw, sw):\n",
    "        n += 1\n",
    "        data[i][j] = n\n",
    "    # ===== for j\n",
    "    start, end = end, start\n",
    "    sw *= -1\n",
    "# ===== for i\n",
    "\n",
    "for i in range(len(data)):\n",
    "    for j in range(len(data[0])):\n",
    "        print('{:3d} '.format(data[i][j]), end='')\n",
    "    print()"
   ]
  },
  {
   "cell_type": "code",
   "execution_count": 30,
   "id": "f1c782d3",
   "metadata": {},
   "outputs": [
    {
     "name": "stdout",
     "output_type": "stream",
     "text": [
      "2차원 리스트를 만들려하는 행과 열의 개수: 4 5\n",
      "  1   2   3   4   5 \n",
      " 10   9   8   7   6 \n",
      " 11  12  13  14  15 \n",
      " 20  19  18  17  16 \n"
     ]
    }
   ],
   "source": [
    "row, col = map(int, input('2차원 리스트를 만들려하는 행과 열의 개수: ').split())\n",
    "data = [[0] * col for i in range(row)]\n",
    "\n",
    "n = 0\n",
    "start = [i for i in range(col)] # 0, 1, 2, 3, 4\n",
    "end = [i for i in range(col - 1, -1, -1)] # 4, 3, 2, 1, 0\n",
    "\n",
    "for i in range(row):\n",
    "    for j in start:\n",
    "        n += 1\n",
    "        data[i][j] = n\n",
    "    # ===== for j\n",
    "    start, end = end, start\n",
    "# ===== for i\n",
    "\n",
    "for i in range(len(data)):\n",
    "    for j in range(len(data[0])):\n",
    "        print('{:3d} '.format(data[i][j]), end='')\n",
    "    print()"
   ]
  },
  {
   "cell_type": "code",
   "execution_count": null,
   "id": "f1ff9b10",
   "metadata": {},
   "outputs": [],
   "source": []
  },
  {
   "cell_type": "code",
   "execution_count": null,
   "id": "f89901be",
   "metadata": {},
   "outputs": [],
   "source": []
  },
  {
   "cell_type": "code",
   "execution_count": null,
   "id": "39110963",
   "metadata": {},
   "outputs": [],
   "source": []
  }
 ],
 "metadata": {
  "kernelspec": {
   "display_name": "Python 3 (ipykernel)",
   "language": "python",
   "name": "python3"
  },
  "language_info": {
   "codemirror_mode": {
    "name": "ipython",
    "version": 3
   },
   "file_extension": ".py",
   "mimetype": "text/x-python",
   "name": "python",
   "nbconvert_exporter": "python",
   "pygments_lexer": "ipython3",
   "version": "3.10.4"
  }
 },
 "nbformat": 4,
 "nbformat_minor": 5
}
