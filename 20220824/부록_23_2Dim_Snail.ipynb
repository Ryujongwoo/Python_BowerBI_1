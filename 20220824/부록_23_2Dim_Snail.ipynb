{
 "cells": [
  {
   "cell_type": "markdown",
   "id": "64ea7448",
   "metadata": {},
   "source": [
    "<img src=\"./snail.png\" width=\"700\" align=\"left\"/>"
   ]
  },
  {
   "cell_type": "markdown",
   "id": "5587f1e9",
   "metadata": {},
   "source": [
    "<img src=\"./snail2.png\" width=\"400\" align=\"left\"/>"
   ]
  },
  {
   "cell_type": "code",
   "execution_count": 4,
   "id": "23acb158",
   "metadata": {},
   "outputs": [
    {
     "name": "stdout",
     "output_type": "stream",
     "text": [
      "  1   2   3   4   5 \n",
      " 16  17  18  19   6 \n",
      " 15  24  25  20   7 \n",
      " 14  23  22  21   8 \n",
      " 13  12  11  10   9 \n"
     ]
    }
   ],
   "source": [
    "a = [[0] * 5 for i in range(5)]\n",
    "n = 0 # 1 ~ 25까지 1씩 증가하는 변수\n",
    "s = 1 # 행과 열이 1또는 -1씩 증가 및 감소 처리를 하는 변수\n",
    "i = 0 # 행\n",
    "j = -1 # 열\n",
    "k = 5 # 반복문의 반복 횟수 제어에 사용되는 변수\n",
    "\n",
    "while True:\n",
    "    # 행 방향으로 숫자를 채운다.\n",
    "    for p in range(1, k + 1):\n",
    "        n += 1\n",
    "        j += s\n",
    "        a[i][j] = n\n",
    "    # ===== for\n",
    "    k -= 1\n",
    "    if k <= 0:\n",
    "        break\n",
    "    # 열 방향으로 숫자를 채운다.\n",
    "    for p in range(1, k + 1):\n",
    "        n += 1\n",
    "        i += s\n",
    "        a[i][j] = n\n",
    "    # ===== for\n",
    "    s *= -1\n",
    "\n",
    "for i in range(len(a)):\n",
    "    for j in range(len(a[0])):\n",
    "        print('{:3d} '.format(a[i][j]), end='')\n",
    "    print()"
   ]
  },
  {
   "cell_type": "code",
   "execution_count": 7,
   "id": "9d1643e3",
   "metadata": {},
   "outputs": [
    {
     "name": "stdout",
     "output_type": "stream",
     "text": [
      " 13  14  15  16  17 \n",
      " 12   3   4   5  18 \n",
      " 11   2   1   6  19 \n",
      " 10   9   8   7  20 \n",
      " 25  24  23  22  21 \n"
     ]
    }
   ],
   "source": [
    "a = [[0] * 5 for i in range(5)]\n",
    "n = 1; s = 1; i = 2; j = 2; k = 1; flag = False; a[i][j] = n\n",
    "\n",
    "while True:\n",
    "    # k += 1 # 3시 방향부터 숫자를 채운다.\n",
    "    for p in range(1, k):\n",
    "        n += 1; j += s\n",
    "        if n > 25:\n",
    "            flag = True\n",
    "            break\n",
    "        a[i][j] = n\n",
    "    # ===== for\n",
    "    if flag:\n",
    "        break\n",
    "    for p in range(1, k):\n",
    "        n += 1; i += s\n",
    "        a[i][j] = n\n",
    "    # ===== for\n",
    "    k += 1 # 9시 방향부터 숫자를 채운다.\n",
    "    s *= -1\n",
    "\n",
    "for i in range(len(a)):\n",
    "    for j in range(len(a[0])):\n",
    "        print('{:3d} '.format(a[i][j]), end='')\n",
    "    print()"
   ]
  },
  {
   "cell_type": "code",
   "execution_count": null,
   "id": "0faf59cc",
   "metadata": {},
   "outputs": [],
   "source": []
  },
  {
   "cell_type": "code",
   "execution_count": null,
   "id": "6b372cb9",
   "metadata": {},
   "outputs": [],
   "source": []
  },
  {
   "cell_type": "code",
   "execution_count": null,
   "id": "d9d807d6",
   "metadata": {},
   "outputs": [],
   "source": []
  },
  {
   "cell_type": "code",
   "execution_count": null,
   "id": "ad14451f",
   "metadata": {},
   "outputs": [],
   "source": []
  }
 ],
 "metadata": {
  "kernelspec": {
   "display_name": "Python 3 (ipykernel)",
   "language": "python",
   "name": "python3"
  },
  "language_info": {
   "codemirror_mode": {
    "name": "ipython",
    "version": 3
   },
   "file_extension": ".py",
   "mimetype": "text/x-python",
   "name": "python",
   "nbconvert_exporter": "python",
   "pygments_lexer": "ipython3",
   "version": "3.10.4"
  }
 },
 "nbformat": 4,
 "nbformat_minor": 5
}
