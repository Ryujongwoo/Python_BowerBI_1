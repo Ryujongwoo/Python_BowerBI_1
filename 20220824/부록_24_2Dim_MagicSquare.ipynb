{
 "cells": [
  {
   "attachments": {},
   "cell_type": "markdown",
   "id": "4e9718b2",
   "metadata": {},
   "source": [
    "# 마방진\n",
    "마방진: 가로, 세로, 대각선의 숫자 합이 모두 같은 배열로 홀수차 정방행렬(행과 열의 개수가 같은 행럴)만 가능하다.  \n",
    "최초의 '1'이 채워지는 자리는 첫 줄 정가운데 열이다.  \n",
    "직전에 채워진 숫자 값에 따라 다음에 채워질 숫자의 위치가 결정된다.  \n",
    "직전에 채워진 숫자가 행렬의 차수(n)의 배수면 다음 숫자는 아래줄에 채운다. => 행 + 1  \n",
    "직전에 채워진 숫자가 행렬의 차수(n)의 배수가 아니면 다음 숫자는 오른쪽 위 방향으로 채운다. => 행 - 1, 열 + 1  \n",
    "오른쪽 위 방향으로 숫자를 채우다 보면 배열의 인덱스 범위를 벗어나는 경우가 발생된다.  \n",
    "행이 0보다 작아지면 행의 위치를 마지막 행으로 변경한 후 채우고 열이 n이 되면 열의 위치를 0으로 변경한 후 채운다.  "
   ]
  },
  {
   "cell_type": "markdown",
   "id": "eb5ec217",
   "metadata": {},
   "source": [
    "<img src=\"./magicSquare.png\" width=\"700\" align=\"left\"/>"
   ]
  },
  {
   "cell_type": "code",
   "execution_count": 1,
   "id": "4234ee99",
   "metadata": {},
   "outputs": [
    {
     "name": "stdout",
     "output_type": "stream",
     "text": [
      " 17  24   1   8  15 \n",
      " 23   5   7  14  16 \n",
      "  4   6  13  20  22 \n",
      " 10  12  19  21   3 \n",
      " 11  18  25   2   9 \n"
     ]
    }
   ],
   "source": [
    "a = [[0] * 5 for i in range(5)]\n",
    "i = 0; j = 2 # 5행 5열일 경우 최초의 1이 채워질 위치를 정한다.\n",
    "\n",
    "# 5행 5열이므로 k값을 1 ~ 25로 반복시키며 마방진을 만든다.\n",
    "for k in range(1, 26):\n",
    "    a[i][j] = k # 마방진에 숫자를 채운다.\n",
    "    # 마방진에 채운 숫자가 5의 배수인가 판단한다.\n",
    "    if k % 5 == 0:\n",
    "        # 5의 배수면 다음에 채워질 숫자의 위치는 행만 1증가시킨다.\n",
    "        i += 1\n",
    "    else:\n",
    "        # 5의 배수가 아니면 다음에 채워질 숫자의 위치는 행은 1감소, 열은 1증가시킨다.\n",
    "        i -= 1\n",
    "        # 행이 감소하다가 0보다 작아지면 마지막 행(4행)으로 행의 위치를 조정한다.\n",
    "        if i < 0:\n",
    "            i = 4\n",
    "        j += 1\n",
    "        # 열이 증가하다가 5가되면 첫 번째 열(0열)로 열의 위치를 조정한다.\n",
    "        if j >= 5:\n",
    "            j = 0\n",
    "    # ===== if\n",
    "# ===== for\n",
    "\n",
    "for i in range(len(a)):\n",
    "    for j in range(len(a[0])):\n",
    "        print('{:3d} '.format(a[i][j]), end='')\n",
    "    print()"
   ]
  },
  {
   "cell_type": "code",
   "execution_count": 9,
   "id": "e5c8c9d3",
   "metadata": {},
   "outputs": [
    {
     "name": "stdout",
     "output_type": "stream",
     "text": [
      "3이상인 홀수를 입력하세요: 17\n",
      "155 174 193 212 231 250 269 288   1  20  39  58  77  96 115 134 153 \n",
      "173 192 211 230 249 268 287  17  19  38  57  76  95 114 133 152 154 \n",
      "191 210 229 248 267 286  16  18  37  56  75  94 113 132 151 170 172 \n",
      "209 228 247 266 285  15  34  36  55  74  93 112 131 150 169 171 190 \n",
      "227 246 265 284  14  33  35  54  73  92 111 130 149 168 187 189 208 \n",
      "245 264 283  13  32  51  53  72  91 110 129 148 167 186 188 207 226 \n",
      "263 282  12  31  50  52  71  90 109 128 147 166 185 204 206 225 244 \n",
      "281  11  30  49  68  70  89 108 127 146 165 184 203 205 224 243 262 \n",
      " 10  29  48  67  69  88 107 126 145 164 183 202 221 223 242 261 280 \n",
      " 28  47  66  85  87 106 125 144 163 182 201 220 222 241 260 279   9 \n",
      " 46  65  84  86 105 124 143 162 181 200 219 238 240 259 278   8  27 \n",
      " 64  83 102 104 123 142 161 180 199 218 237 239 258 277   7  26  45 \n",
      " 82 101 103 122 141 160 179 198 217 236 255 257 276   6  25  44  63 \n",
      "100 119 121 140 159 178 197 216 235 254 256 275   5  24  43  62  81 \n",
      "118 120 139 158 177 196 215 234 253 272 274   4  23  42  61  80  99 \n",
      "136 138 157 176 195 214 233 252 271 273   3  22  41  60  79  98 117 \n",
      "137 156 175 194 213 232 251 270 289   2  21  40  59  78  97 116 135 \n"
     ]
    }
   ],
   "source": [
    "# 작성할 마방진의 차수를 3이상인 홀수로 입력받는다.\n",
    "while True:\n",
    "    n = int(input('3이상인 홀수를 입력하세요: '))\n",
    "    if n >= 3 and n % 2 == 1:\n",
    "        break\n",
    "    print('3이상인 홀수를 입력해야합니다.')\n",
    "# ===== while\n",
    "   \n",
    "a = [[0] * n for i in range(n)] # n행 n열인 2차원 리스트를 만든다.\n",
    "i = 0\n",
    "j = n // 2 # 최초의 1이 채워질 위치를 계산한다.\n",
    "for k in range(1, n ** 2 + 1): # k를 1부터 n의 제곱까지 반복시킨다.\n",
    "    a[i][j] = k\n",
    "    if k % n == 0: # n의 배수인가?\n",
    "        i += 1\n",
    "    else:\n",
    "        i -= 1\n",
    "        if i < 0:\n",
    "            i = n - 1\n",
    "        j += 1\n",
    "        if j >= n:\n",
    "            j = 0\n",
    "    # ===== if\n",
    "# ===== for\n",
    "\n",
    "for i in range(len(a)):\n",
    "    for j in range(len(a[0])):\n",
    "        print('{:3d} '.format(a[i][j]), end='')\n",
    "    print()"
   ]
  },
  {
   "cell_type": "code",
   "execution_count": null,
   "id": "32d7a71a",
   "metadata": {},
   "outputs": [],
   "source": []
  },
  {
   "cell_type": "code",
   "execution_count": null,
   "id": "b6d4bacc",
   "metadata": {},
   "outputs": [],
   "source": []
  },
  {
   "cell_type": "code",
   "execution_count": null,
   "id": "99a585a6",
   "metadata": {},
   "outputs": [],
   "source": []
  },
  {
   "cell_type": "code",
   "execution_count": null,
   "id": "3a18a0ac",
   "metadata": {},
   "outputs": [],
   "source": []
  },
  {
   "cell_type": "code",
   "execution_count": null,
   "id": "8b417175",
   "metadata": {},
   "outputs": [],
   "source": []
  },
  {
   "cell_type": "code",
   "execution_count": null,
   "id": "3769a937",
   "metadata": {},
   "outputs": [],
   "source": []
  }
 ],
 "metadata": {
  "kernelspec": {
   "display_name": "Python 3 (ipykernel)",
   "language": "python",
   "name": "python3"
  },
  "language_info": {
   "codemirror_mode": {
    "name": "ipython",
    "version": 3
   },
   "file_extension": ".py",
   "mimetype": "text/x-python",
   "name": "python",
   "nbconvert_exporter": "python",
   "pygments_lexer": "ipython3",
   "version": "3.10.4"
  }
 },
 "nbformat": 4,
 "nbformat_minor": 5
}
