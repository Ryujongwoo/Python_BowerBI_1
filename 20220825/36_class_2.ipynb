{
 "cells": [
  {
   "cell_type": "code",
   "execution_count": 1,
   "id": "3e9670d6",
   "metadata": {},
   "outputs": [],
   "source": [
    "import math"
   ]
  },
  {
   "cell_type": "code",
   "execution_count": 2,
   "id": "90640b17",
   "metadata": {},
   "outputs": [
    {
     "name": "stdout",
     "output_type": "stream",
     "text": [
      "3.141592653589793\n"
     ]
    }
   ],
   "source": [
    "print(math.pi)"
   ]
  },
  {
   "cell_type": "code",
   "execution_count": 13,
   "id": "f8f5c209",
   "metadata": {},
   "outputs": [],
   "source": [
    "# 반지름을 인수로 넘겨받아 원의 너비와 둘레를 계산하는 함수를 포함하는 클래스\n",
    "class Circle:\n",
    "    def __init__(self, radius = 1):\n",
    "        self.radius = radius\n",
    "        \n",
    "    def __str__(self):\n",
    "        return '반지름: {}'.format(self.radius)\n",
    "    \n",
    "    # 원의 둘레를 계산해서 출력하는 함수\n",
    "    def roundCircle(self):\n",
    "        print('반지름이 {}인 원의 둘레는 {} 입니다.'.format(self.radius, 2 * math.pi * self.radius))\n",
    "    \n",
    "    # 원의 너비를 계산해서 출력하는 함수\n",
    "    def areaCircle(self):\n",
    "        # print('반지름이 {}인 원의 너비는 {} 입니다.'.format(self.radius, math.pi * self.radius * self.radius))\n",
    "        # print('반지름이 {}인 원의 너비는 {} 입니다.'.format(self.radius, math.pi * self.radius ** 2))\n",
    "        print('반지름이 {}인 원의 너비는 {} 입니다.'.format(self.radius, math.pi * math.pow(self.radius, 2)))"
   ]
  },
  {
   "cell_type": "code",
   "execution_count": 14,
   "id": "1420db64",
   "metadata": {},
   "outputs": [
    {
     "name": "stdout",
     "output_type": "stream",
     "text": [
      "반지름: 5\n",
      "반지름이 5인 원의 둘레는 31.41592653589793 입니다.\n",
      "반지름이 5인 원의 너비는 78.53981633974483 입니다.\n"
     ]
    }
   ],
   "source": [
    "circle = Circle(5)\n",
    "print(circle)\n",
    "circle.roundCircle()\n",
    "circle.areaCircle()"
   ]
  },
  {
   "cell_type": "code",
   "execution_count": null,
   "id": "3136b83b",
   "metadata": {},
   "outputs": [],
   "source": []
  }
 ],
 "metadata": {
  "kernelspec": {
   "display_name": "Python 3",
   "language": "python",
   "name": "python3"
  },
  "language_info": {
   "codemirror_mode": {
    "name": "ipython",
    "version": 3
   },
   "file_extension": ".py",
   "mimetype": "text/x-python",
   "name": "python",
   "nbconvert_exporter": "python",
   "pygments_lexer": "ipython3",
   "version": "3.6.8"
  }
 },
 "nbformat": 4,
 "nbformat_minor": 5
}
