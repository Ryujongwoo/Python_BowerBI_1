{
 "cells": [
  {
   "cell_type": "code",
   "execution_count": 1,
   "id": "6425f02f",
   "metadata": {},
   "outputs": [],
   "source": [
    "import warnings\n",
    "warnings.filterwarnings(action='ignore')\n",
    "import requests\n",
    "from bs4 import BeautifulSoup\n",
    "import time"
   ]
  },
  {
   "cell_type": "code",
   "execution_count": 9,
   "id": "bdfb2eea",
   "metadata": {},
   "outputs": [],
   "source": [
    "# 1건의 대화 내용을 저장하는 클래스 => 질문과 답변이 한 쌍으로 저장되는 클래스\n",
    "class Conversation:\n",
    "    def __init__(self, question, answer):\n",
    "        self.question = question\n",
    "        self.answer = answer\n",
    "    def __str__(self):\n",
    "        return '질문: {}\\n답변: {}'.format(self.question, self.answer)"
   ]
  },
  {
   "cell_type": "code",
   "execution_count": 10,
   "id": "396473eb",
   "metadata": {},
   "outputs": [
    {
     "name": "stdout",
     "output_type": "stream",
     "text": [
      "질문: 너... 누구야??\n",
      "답변: 글쎄... 알아서 뭐하시려고...\n"
     ]
    }
   ],
   "source": [
    "c = Conversation('너... 누구야??', '글쎄... 알아서 뭐하시려고...')\n",
    "print(c)"
   ]
  },
  {
   "cell_type": "code",
   "execution_count": 12,
   "id": "c03b1968",
   "metadata": {},
   "outputs": [],
   "source": [
    "# 75개의 대화 주제와 세부 대화 내용의 URL을 크롤링해서 리턴하는 함수\n",
    "def getSubjects():\n",
    "    targetSite = 'https://basicenglishspeaking.com/daily-english-conversation-topics/'\n",
    "    req = requests.get(targetSite)\n",
    "    html = req.text\n",
    "    soup = BeautifulSoup(html, 'html.parser')\n",
    "    \n",
    "    subjects = [] # 주제\n",
    "    contentLinks = [] # 주제에 따른 URL\n",
    "    divs = soup.findAll('div', {'class': 'tcb-col'})\n",
    "    for div in divs:\n",
    "        chapter = div.findAll('a')\n",
    "        for a in chapter:\n",
    "            subjects.append(a.text)\n",
    "            # 세부 대화 내용의 URL을 contentLinks에 추가한다.\n",
    "            contentLinks.append(a.get('href'))\n",
    "    # =====\n",
    "    \n",
    "    # 대화 주제와 대화 주제에 따른 세부 대화 내용의 URL을 리턴시킨다.\n",
    "    # 리턴되는 데이터가 2개가 아니라 subjects, contentLinks를 1개의 튜플로 묶어서 전달시킨다.\n",
    "    return subjects, contentLinks"
   ]
  },
  {
   "cell_type": "code",
   "execution_count": 14,
   "id": "8d444a32",
   "metadata": {
    "scrolled": false
   },
   "outputs": [],
   "source": [
    "subjects, contentLinks = getSubjects()\n",
    "# for i in range(len(subjects)):\n",
    "    # print('{:2d}. {}: {}'.format(i + 1, subjects[i], contentLinks[i]))\n",
    "    \n",
    "# 대화 주제에 따른 모든 대화 내용을 저장할 빈 리스트를 선언한다.\n",
    "conversation = []\n",
    "\n",
    "# 대화 주제의 개수만큼 반복하며 각각의 대화 주제에 따른 대화 내용을 읽어서 저장한다.\n",
    "for subject in subjects[:1]:\n",
    "    pass"
   ]
  },
  {
   "cell_type": "code",
   "execution_count": null,
   "id": "e426166d",
   "metadata": {},
   "outputs": [],
   "source": []
  },
  {
   "cell_type": "code",
   "execution_count": null,
   "id": "ad1a30c1",
   "metadata": {},
   "outputs": [],
   "source": []
  },
  {
   "cell_type": "code",
   "execution_count": null,
   "id": "b4efb486",
   "metadata": {},
   "outputs": [],
   "source": []
  }
 ],
 "metadata": {
  "kernelspec": {
   "display_name": "Python 3",
   "language": "python",
   "name": "python3"
  },
  "language_info": {
   "codemirror_mode": {
    "name": "ipython",
    "version": 3
   },
   "file_extension": ".py",
   "mimetype": "text/x-python",
   "name": "python",
   "nbconvert_exporter": "python",
   "pygments_lexer": "ipython3",
   "version": "3.6.8"
  }
 },
 "nbformat": 4,
 "nbformat_minor": 5
}
