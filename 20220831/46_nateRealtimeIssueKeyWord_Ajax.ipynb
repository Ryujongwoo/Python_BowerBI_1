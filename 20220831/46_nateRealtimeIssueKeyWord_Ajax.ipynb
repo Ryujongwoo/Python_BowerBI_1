{
 "cells": [
  {
   "cell_type": "code",
   "execution_count": 1,
   "id": "19841079",
   "metadata": {},
   "outputs": [],
   "source": [
    "import warnings\n",
    "warnings.filterwarnings(action='ignore')\n",
    "import requests\n",
    "# html 문서를 파싱할 때 사용하므로 json 형태로 넘어오는 데이터에는 사용하지 않는다.\n",
    "# from bs4 import BeautifulSoup\n",
    "# json 형태의 문자열을 파이썬에서 처리하기 위해 import\n",
    "import json"
   ]
  },
  {
   "cell_type": "markdown",
   "id": "f1a3cc13",
   "metadata": {},
   "source": [
    "<img src=\"./nateAjax.png\" width=\"700\" align=\"left\">"
   ]
  },
  {
   "cell_type": "markdown",
   "id": "b1c04961",
   "metadata": {},
   "source": [
    "<img src=\"./nateAjax2.png\" width=\"700\" align=\"left\">"
   ]
  },
  {
   "cell_type": "code",
   "execution_count": 2,
   "id": "4ca2e38b",
   "metadata": {},
   "outputs": [
    {
     "name": "stdout",
     "output_type": "stream",
     "text": [
      "<Response [200]>\n"
     ]
    }
   ],
   "source": [
    "# 실시간 검색어가 웹 페이지에 전부 혹은 일부가 포함되어있지 않고 ajax를 이용해서 받아오는 방식이 사용된다.\n",
    "# Request Method가 GET이므로 requests 모듈의 get() 메소드를 사용해서 실시간 검색어를 받아온다.\n",
    "targetSite = 'https://www.nate.com/js/data/jsonLiveKeywordDataV1.js?v=202208312145'\n",
    "req = requests.get(targetSite)\n",
    "print(req)\n",
    "# 파이썬은 한글 encoding이 유니코드(urf-8)로 되어있기 땨문에 'euc-kr'로 encoding 되어있는 사이트를 크롤링할 때 한글이\n",
    "# 깨지면 아래와 같이 한글 encoding을 바꿔주면 된다.\n",
    "req.encoding = 'euc-kr'"
   ]
  },
  {
   "cell_type": "code",
   "execution_count": 3,
   "id": "19660561",
   "metadata": {},
   "outputs": [
    {
     "name": "stdout",
     "output_type": "stream",
     "text": [
      "[[\"1\",  \"의혹 배모씨 송치\",  \"s\",  \"0\",  \"의혹 배모씨 송치\"], [\"2\",  \"비대위 최고위로 돌아가야\",  \"s\",  \"0\",  \"비대위 최고위로 돌아가야\"], [\"3\",  \"정예지\",  \"s\",  \"0\",  \"정예지\"], [\"4\",  \"태풍 경로\",  \"s\",  \"0\",  \"태풍 경로\"], [\"5\",  \"이대호 은퇴 투어\",  \"s\",  \"0\",  \"이대호 은퇴 투어\"], [\"6\",  \"이재명에 비정한 임대주택\",  \"s\",  \"0\",  \"이재명에 비정한 임대주택\"], [\"7\",  \"삼성생명 박신자컵 첫\",  \"s\",  \"0\",  \"삼성생명 박신자컵 첫 우승\"], [\"8\",  \"텐트 밖은 유럽\",  \"+\",  \"1\",  \"텐트 밖은 유럽\"], [\"9\",  \"김지민 김준호와 연애\",  \"-\",  \"1\",  \"김지민 김준호와 연애 아냐\"], [\"10\",  \"학폭 논란 이영하\",  \"s\",  \"0\",  \"학폭 논란 이영하\"]]\n",
      "<class 'str'>\n"
     ]
    }
   ],
   "source": [
    "issues = req.text\n",
    "print(issues)\n",
    "print(type(issues))"
   ]
  },
  {
   "cell_type": "code",
   "execution_count": 4,
   "id": "c06222d6",
   "metadata": {},
   "outputs": [
    {
     "name": "stdout",
     "output_type": "stream",
     "text": [
      "[['1', '의혹 배모씨 송치', 's', '0', '의혹 배모씨 송치'], ['2', '비대위 최고위로 돌아가야', 's', '0', '비대위 최고위로 돌아가야'], ['3', '정예지', 's', '0', '정예지'], ['4', '태풍 경로', 's', '0', '태풍 경로'], ['5', '이대호 은퇴 투어', 's', '0', '이대호 은퇴 투어'], ['6', '이재명에 비정한 임대주택', 's', '0', '이재명에 비정한 임대주택'], ['7', '삼성생명 박신자컵 첫', 's', '0', '삼성생명 박신자컵 첫 우승'], ['8', '텐트 밖은 유럽', '+', '1', '텐트 밖은 유럽'], ['9', '김지민 김준호와 연애', '-', '1', '김지민 김준호와 연애 아냐'], ['10', '학폭 논란 이영하', 's', '0', '학폭 논란 이영하']]\n",
      "<class 'list'>\n"
     ]
    }
   ],
   "source": [
    "# json 형태로 얻어온 실시간 이슈 키워드는 json 모듈의 loads() 메소드를 사용해서 파이썬에서 처리할 수 있는 데이터 타입으로\n",
    "# 변환해서 처리한다.\n",
    "# loads() 메소드는 json 타입의 문자열이 {}를 포함하면 딕셔너리로 {}없이 []만 포함하면 리스트로 자동 변환시킨다.\n",
    "ranks = json.loads(issues)\n",
    "print(ranks)\n",
    "print(type(ranks))"
   ]
  },
  {
   "cell_type": "code",
   "execution_count": 5,
   "id": "52da8f3b",
   "metadata": {},
   "outputs": [
    {
     "name": "stdout",
     "output_type": "stream",
     "text": [
      "['1', '의혹 배모씨 송치', 's', '0', '의혹 배모씨 송치']\n",
      "['2', '비대위 최고위로 돌아가야', 's', '0', '비대위 최고위로 돌아가야']\n",
      "['3', '정예지', 's', '0', '정예지']\n",
      "['4', '태풍 경로', 's', '0', '태풍 경로']\n",
      "['5', '이대호 은퇴 투어', 's', '0', '이대호 은퇴 투어']\n",
      "['6', '이재명에 비정한 임대주택', 's', '0', '이재명에 비정한 임대주택']\n",
      "['7', '삼성생명 박신자컵 첫', 's', '0', '삼성생명 박신자컵 첫 우승']\n",
      "['8', '텐트 밖은 유럽', '+', '1', '텐트 밖은 유럽']\n",
      "['9', '김지민 김준호와 연애', '-', '1', '김지민 김준호와 연애 아냐']\n",
      "['10', '학폭 논란 이영하', 's', '0', '학폭 논란 이영하']\n"
     ]
    }
   ],
   "source": [
    "for rank in ranks:\n",
    "    print(rank)"
   ]
  },
  {
   "cell_type": "code",
   "execution_count": 6,
   "id": "32d247c3",
   "metadata": {},
   "outputs": [
    {
     "name": "stdout",
     "output_type": "stream",
     "text": [
      " 1위: 의혹 배모씨 송치 [-]\n",
      " 2위: 비대위 최고위로 돌아가야 [-]\n",
      " 3위: 정예지 [-]\n",
      " 4위: 태풍 경로 [-]\n",
      " 5위: 이대호 은퇴 투어 [-]\n",
      " 6위: 이재명에 비정한 임대주택 [-]\n",
      " 7위: 삼성생명 박신자컵 첫 [-]\n",
      " 8위: 텐트 밖은 유럽 [▲1]\n",
      " 9위: 김지민 김준호와 연애 [▼1]\n",
      "10위: 학폭 논란 이영하 [-]\n"
     ]
    }
   ],
   "source": [
    "for rank in ranks:\n",
    "    print('{:>2s}위: {} '.format(rank[0], rank[1]), end='')\n",
    "    if rank[2] == '+':\n",
    "        print('[{}{}]'.format('▲', rank[3]))\n",
    "    elif rank[2] == '-':\n",
    "        print('[{}{}]'.format('▼', rank[3]))\n",
    "    elif rank[2] == 's':\n",
    "        print('[-]')\n",
    "    else:\n",
    "        print('[new]')"
   ]
  },
  {
   "cell_type": "code",
   "execution_count": null,
   "id": "aa0a3cde",
   "metadata": {},
   "outputs": [],
   "source": []
  },
  {
   "cell_type": "code",
   "execution_count": null,
   "id": "1ff5cd2a",
   "metadata": {},
   "outputs": [],
   "source": []
  }
 ],
 "metadata": {
  "kernelspec": {
   "display_name": "Python 3",
   "language": "python",
   "name": "python3"
  },
  "language_info": {
   "codemirror_mode": {
    "name": "ipython",
    "version": 3
   },
   "file_extension": ".py",
   "mimetype": "text/x-python",
   "name": "python",
   "nbconvert_exporter": "python",
   "pygments_lexer": "ipython3",
   "version": "3.6.8"
  }
 },
 "nbformat": 4,
 "nbformat_minor": 5
}
