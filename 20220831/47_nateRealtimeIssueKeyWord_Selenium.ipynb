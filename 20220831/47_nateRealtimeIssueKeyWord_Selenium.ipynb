{
 "cells": [
  {
   "cell_type": "code",
   "execution_count": 1,
   "id": "e85e919e",
   "metadata": {},
   "outputs": [],
   "source": [
    "# selenium을 사용하기 위해 selenium을 설치하고 import 한다.\n",
    "# !pip install selenium"
   ]
  },
  {
   "cell_type": "code",
   "execution_count": 3,
   "id": "e0fa1684",
   "metadata": {},
   "outputs": [],
   "source": [
    "import warnings\n",
    "warnings.filterwarnings(action='ignore')\n",
    "# selenium을 사용해서 웹 페이지의 내용을 얻어올 것이므로 사용하지 않는다.\n",
    "# import requests\n",
    "from bs4 import BeautifulSoup\n",
    "from selenium import webdriver"
   ]
  },
  {
   "cell_type": "code",
   "execution_count": 4,
   "id": "667ec5bf",
   "metadata": {},
   "outputs": [],
   "source": [
    "# selenium을 사용해서 가상 크롬을 실행한다. => 사용중인 크롬 버전과 같은 버전의 드라이버를 OS에 맞게 다운받는다.\n",
    "# 다운받은 크롬 드라이버를 워크스페이스로 복사해 넣고 사용한다.\n",
    "driver = webdriver.Chrome('./chromedriver.exe') # 가상 크롬을 실행한다."
   ]
  },
  {
   "cell_type": "code",
   "execution_count": null,
   "id": "b60fc42c",
   "metadata": {},
   "outputs": [],
   "source": []
  }
 ],
 "metadata": {
  "kernelspec": {
   "display_name": "Python 3",
   "language": "python",
   "name": "python3"
  },
  "language_info": {
   "codemirror_mode": {
    "name": "ipython",
    "version": 3
   },
   "file_extension": ".py",
   "mimetype": "text/x-python",
   "name": "python",
   "nbconvert_exporter": "python",
   "pygments_lexer": "ipython3",
   "version": "3.6.8"
  }
 },
 "nbformat": 4,
 "nbformat_minor": 5
}
