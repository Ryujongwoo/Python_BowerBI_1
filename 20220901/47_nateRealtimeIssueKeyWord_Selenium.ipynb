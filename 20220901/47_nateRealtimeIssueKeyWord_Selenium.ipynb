{
 "cells": [
  {
   "cell_type": "code",
   "execution_count": 1,
   "id": "e85e919e",
   "metadata": {},
   "outputs": [],
   "source": [
    "# selenium을 사용하기 위해 selenium을 설치하고 import 한다.\n",
    "# !pip install selenium"
   ]
  },
  {
   "cell_type": "code",
   "execution_count": 2,
   "id": "e0fa1684",
   "metadata": {},
   "outputs": [],
   "source": [
    "import warnings\n",
    "warnings.filterwarnings(action='ignore')\n",
    "# selenium을 사용해서 웹 페이지의 내용을 얻어올 것이므로 사용하지 않는다.\n",
    "# import requests\n",
    "from bs4 import BeautifulSoup\n",
    "from selenium import webdriver"
   ]
  },
  {
   "cell_type": "code",
   "execution_count": 9,
   "id": "667ec5bf",
   "metadata": {},
   "outputs": [
    {
     "name": "stdout",
     "output_type": "stream",
     "text": [
      " 1위: 론스타 배상에 정부 [-]\n",
      " 2위: 수리온 헬기 충돌 [-]\n",
      " 3위: 태풍 힌남노 5~7일 [▲1]\n",
      " 4위: 유준선 [▼1]\n",
      " 5위: 국방부 BTS 병역 [-]\n"
     ]
    }
   ],
   "source": [
    "# selenium을 사용해서 가상 크롬을 실행한다. => 사용중인 크롬 버전과 같은 버전의 드라이버를 OS에 맞게 다운받는다.\n",
    "# 다운받은 크롬 드라이버를 워크스페이스로 복사해 넣고 사용한다.\n",
    "driver = webdriver.Chrome('./chromedriver.exe') # 가상 크롬을 실행한다.\n",
    "# get() 메소드로 가상 크롬에 크롤링 할 타겟 사이트를 띄운다.\n",
    "driver.get('https://www.nate.com/')\n",
    "# 사상 크롬에 실행된 사이트의 html 정보를 얻어온다.\n",
    "html = driver.page_source\n",
    "# print(html)\n",
    "soup = BeautifulSoup(html, 'html.parser')\n",
    "# print(soup)\n",
    "\n",
    "ranks = soup.select('.isKeywordList .num_rank')\n",
    "issues = soup.findAll('a', {'class': 'ik'})\n",
    "for i in range(5):\n",
    "    rank = ranks[i].text\n",
    "    issue = issues[i].text.strip().split('\\n')[0]\n",
    "    upDown = issues[i].text.strip().split('\\n')[1]\n",
    "    print('{:>2s}위: {} '.format(rank, issue), end='')\n",
    "    if upDown[:2] == '상승':\n",
    "        print('[{}{}]'.format('▲', upDown[2:]))\n",
    "    elif upDown[:2] == '하락':\n",
    "        print('[{}{}]'.format('▼', upDown[2:]))\n",
    "    elif upDown[:2] == '동일':\n",
    "        print('[-]')\n",
    "    else:\n",
    "        print('[new]')"
   ]
  },
  {
   "cell_type": "code",
   "execution_count": null,
   "id": "b60fc42c",
   "metadata": {},
   "outputs": [],
   "source": []
  }
 ],
 "metadata": {
  "kernelspec": {
   "display_name": "Python 3",
   "language": "python",
   "name": "python3"
  },
  "language_info": {
   "codemirror_mode": {
    "name": "ipython",
    "version": 3
   },
   "file_extension": ".py",
   "mimetype": "text/x-python",
   "name": "python",
   "nbconvert_exporter": "python",
   "pygments_lexer": "ipython3",
   "version": "3.6.8"
  }
 },
 "nbformat": 4,
 "nbformat_minor": 5
}
