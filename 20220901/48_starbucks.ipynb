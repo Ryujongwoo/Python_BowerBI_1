{
 "cells": [
  {
   "cell_type": "code",
   "execution_count": null,
   "id": "14823f92",
   "metadata": {},
   "outputs": [],
   "source": [
    "import warnings\n",
    "warnings.filterwarnings(action='ignore')\n",
    "import requests\n",
    "import json"
   ]
  },
  {
   "cell_type": "markdown",
   "id": "5de83034",
   "metadata": {},
   "source": [
    "시도코드 크롤링"
   ]
  },
  {
   "cell_type": "code",
   "execution_count": null,
   "id": "396e371e",
   "metadata": {
    "scrolled": false
   },
   "outputs": [],
   "source": [
    "targetsite = 'https://www.starbucks.co.kr/store/getSidoList.do'\n",
    "# Request Method가 POST이므로 requests 모듈의 post() 메소드를 사용해 서버에 정보를 요청한다.\n",
    "req = requests.post(targetsite, data={\n",
    "    'rndCod': 'X6NR7K40M8'\n",
    "})\n",
    "# print(req) # <Response [200]>\n",
    "\n",
    "starbucks = req.text\n",
    "# print(type(starbucks)) # <class 'str'>\n",
    "# print(starbucks)\n",
    "\n",
    "# json 모듈의 loads() 메소드로 json 형태의 문자열을 파이썬에서 처리하기 위해 딕셔너리 형태로 변환한다.\n",
    "sidoList = json.loads(starbucks)\n",
    "# print(type(sidoList))\n",
    "# print(sidoList)\n",
    "# print(sidoList.keys()) # dict_keys(['list'])\n",
    "# json 형태의 문자열이 {'list': [17개의 시도코드 데이터가 저장된 딕셔너리]} 형태로 저장되어 있다.\n",
    "\n",
    "# 딕셔너리로 변환된 데이터에서 'list'라는 key에 할당된 시도 정보를 얻어온다.\n",
    "# print(type(sidoList.get('list')))\n",
    "# print(len(sidoList.get('list')))\n",
    "# print(sidoList.get('list'))\n",
    "# print(type(sidoList['list']))\n",
    "# print(len(sidoList['list']))\n",
    "# print(sidoList['list'])\n",
    "\n",
    "# 시도코드 개수만큼 반복하며 시도코드('sido_cd')를 key로 하고 시도이름('sido_nm')을 value로 하는 딕셔너리를 만든다.\n",
    "sido_list = {}\n",
    "for sido in sidoList['list']:\n",
    "    # print('{}: {}'.format(sido['sido_cd'], sido['sido_nm']))\n",
    "    sido_list[sido['sido_cd']] = sido['sido_nm']\n",
    "print(sido_list)"
   ]
  },
  {
   "cell_type": "code",
   "execution_count": 1,
   "id": "8919e1cc",
   "metadata": {},
   "outputs": [],
   "source": [
    "import warnings\n",
    "warnings.filterwarnings(action='ignore')\n",
    "import requests"
   ]
  },
  {
   "cell_type": "code",
   "execution_count": 4,
   "id": "08a7b66b",
   "metadata": {},
   "outputs": [
    {
     "name": "stdout",
     "output_type": "stream",
     "text": [
      "{'01': '서울', '08': '경기', '02': '광주', '03': '대구', '04': '대전', '05': '부산', '06': '울산', '07': '인천', '09': '강원', '10': '경남', '11': '경북', '12': '전남', '13': '전북', '14': '충남', '15': '충북', '16': '제주', '17': '세종'}\n"
     ]
    }
   ],
   "source": [
    "targetsite = 'https://www.starbucks.co.kr/store/getSidoList.do'\n",
    "req = requests.post(targetsite)\n",
    "# requests 모듈의 json() 메소드로 서버에 요청해서 응답받은 json 형태의 문자열을 파이썬에서 처리하기 위해 딕셔너리\n",
    "# 형태로 변환한다.\n",
    "starbucks = req.json()\n",
    "# print(type(starbucks))\n",
    "# print(starbucks)\n",
    "\n",
    "sido_list = {}\n",
    "for sido in starbucks['list']:\n",
    "    sido_list[sido['sido_cd']] = sido['sido_nm']\n",
    "print(sido_list)"
   ]
  },
  {
   "cell_type": "markdown",
   "id": "69bc941b",
   "metadata": {},
   "source": [
    "구군코드 크롤링"
   ]
  },
  {
   "cell_type": "code",
   "execution_count": 20,
   "id": "5b2be30b",
   "metadata": {},
   "outputs": [
    {
     "name": "stdout",
     "output_type": "stream",
     "text": [
      "구군코드를 검색하려는 시도코드를 입력하세요: 01\n",
      "{'0101': '강남구', '0120': '강동구', '0102': '강북구', '0103': '강서구', '0104': '관악구', '0105': '광진구', '0121': '구로구', '0106': '금천구', '0107': '노원구', '0108': '도봉구', '0122': '동대문구', '0109': '동작구', '0110': '마포구', '0111': '서대문구', '0112': '서초구', '0123': '성동구', '0113': '성북구', '0114': '송파구', '0115': '양천구', '0116': '영등포구', '0124': '용산구', '0117': '은평구', '0118': '종로구', '0119': '중구', '0125': '중랑구'}\n"
     ]
    }
   ],
   "source": [
    "sido_cd = input('구군코드를 검색하려는 시도코드를 입력하세요: ')\n",
    "\n",
    "targetsite = 'https://www.starbucks.co.kr/store/getGugunList.do'\n",
    "req = requests.post(targetsite, data={\n",
    "    'sido_cd': sido_cd\n",
    "})\n",
    "gugunList = req.json()\n",
    "# print(type(gugunList))\n",
    "# print(gugunList)\n",
    "# print(len(gugunList.get('list')))\n",
    "# print(gugunList.get('list'))\n",
    "\n",
    "# 구군코드의 개수만큼 반복하며 구군코드('gugun_cd')를 key로 하고 구군이름('gugun_nm')을 value로 하는 딕셔너리를 만든다.\n",
    "gugun_list = {}\n",
    "for gugun in gugunList.get('list'):\n",
    "    gugun_list[gugun.get('gugun_cd')] = gugun.get('gugun_nm')\n",
    "print(gugun_list)"
   ]
  },
  {
   "cell_type": "code",
   "execution_count": 45,
   "id": "d5fb2454",
   "metadata": {
    "scrolled": false
   },
   "outputs": [
    {
     "name": "stdout",
     "output_type": "stream",
     "text": [
      "   1. 태릉입구역DT: 서울특별시 노원구 화랑로 469 (공릉동)(37.61942, 127.07932)\n",
      "   2. 월계이마트: 서울특별시 노원구 마들로3길 15 (월계동)(37.627155, 127.062094)\n",
      "   3. 노원역: 서울특별시 노원구 동일로 1413 (상계동) 1층(37.654751, 127.060034)\n",
      "   4. 중계역: 서울특별시 노원구 동일로 1339, 대한빌딩 (상계동)(37.64817, 127.062244)\n",
      "   5. 광운대: 서울특별시 노원구 석계로 104 (월계동)(37.6231479, 127.06070090000003)\n",
      "   6. 노원KT: 서울특별시 노원구 노해로 502, (주)KT 노원사옥 (상계동)(37.654562, 127.063617)\n",
      "   7. 은행사거리: 서울특별시 노원구 중계로 217, 중흥빌딩 103,203호 (중계동)(37.65048737, 127.0759861)\n",
      "   8. 공릉역: 서울특별시 노원구 동일로 1081 (공릉동)(37.626337, 127.072252)\n",
      "   9. 노원마들역: 서울특별시 노원구 노원로 569 (상계동, 임광아파트)(37.660941, 127.058008)\n",
      "  10. 공릉DT: 서울특별시 노원구 동일로 1015 (공릉동)(37.6206884, 127.0743116)\n",
      "  11. 상계초교사거리: 서울특별시 노원구 노원로 449 (상계동)(37.656776, 127.066442)\n",
      "  12. 월계트레이더스: 서울특별시 노원구 마들로3길 15 (월계동)(37.6277053, 127.06149779999998)\n",
      "  13. 월계역: 서울특별시 노원구 초안산로2라길26 월계동(104,105,106호)(37.6295, 127.0574)\n"
     ]
    }
   ],
   "source": [
    "targetsite = 'https://www.starbucks.co.kr/store/getStore.do?r=YXDA07I17Q'\n",
    "req = requests.post(targetsite, data={\n",
    "    'ins_lat': 37.5619584, # 위도\n",
    "    'ins_lng': 126.9694464, # 경도\n",
    "    'p_sido_cd': '', # 시도코드\n",
    "    'p_gugun_cd': '0107', # 구군코드\n",
    "    'in_biz_cd': '', # ?\n",
    "    'iend': 1800, # 서버가 응답하는 매장의 최대개수\n",
    "    'set_date': '', # ?\n",
    "    # in_biz_cd, set_date를 넘겨주지 않으면 서버에서 데이터를 얻어오지 못한다.\n",
    "})\n",
    "\n",
    "storeList = req.json()\n",
    "# print(storeList)\n",
    "# print(len(storeList['list']))\n",
    "\n",
    "count = 0\n",
    "for store in storeList['list']:\n",
    "    count += 1\n",
    "    print('{:4d}. {}: {}({}, {})'.format(count, store['s_name'], store['doro_address'], store['lat'], store['lot']))"
   ]
  },
  {
   "cell_type": "code",
   "execution_count": null,
   "id": "05e5b20f",
   "metadata": {},
   "outputs": [],
   "source": []
  },
  {
   "cell_type": "code",
   "execution_count": null,
   "id": "88c1997a",
   "metadata": {},
   "outputs": [],
   "source": []
  },
  {
   "cell_type": "code",
   "execution_count": null,
   "id": "ddfa6594",
   "metadata": {},
   "outputs": [],
   "source": []
  },
  {
   "cell_type": "code",
   "execution_count": null,
   "id": "a46a88b1",
   "metadata": {},
   "outputs": [],
   "source": []
  }
 ],
 "metadata": {
  "kernelspec": {
   "display_name": "Python 3",
   "language": "python",
   "name": "python3"
  },
  "language_info": {
   "codemirror_mode": {
    "name": "ipython",
    "version": 3
   },
   "file_extension": ".py",
   "mimetype": "text/x-python",
   "name": "python",
   "nbconvert_exporter": "python",
   "pygments_lexer": "ipython3",
   "version": "3.6.8"
  }
 },
 "nbformat": 4,
 "nbformat_minor": 5
}
