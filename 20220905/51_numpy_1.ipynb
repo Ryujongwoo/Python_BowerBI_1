{
 "cells": [
  {
   "cell_type": "markdown",
   "id": "e4d7e92b",
   "metadata": {},
   "source": [
    "파이썬 기반 데이터 분석 환경에서 넘파이 행렬(배열) 연산을 위한 핵심 라이브러리 이다.  \n",
    "넘파이는 대규모 다차원 배열과 행렬 연산에 필요한 다양한 함수를 제공하고 메모리 버퍼에 배열 데이터를 저장하고 처하는 효율적인 인터페이스를 제공한다.  \n",
    "파이썬의 리스트 객체를 개선한 넘파이 ndarray 객체를 사용하면 더 많은 데이터를 더 빠르게 처리할 수 있다."
   ]
  },
  {
   "cell_type": "code",
   "execution_count": 1,
   "id": "8da9d96e",
   "metadata": {},
   "outputs": [
    {
     "name": "stdout",
     "output_type": "stream",
     "text": [
      "1.19.5\n"
     ]
    }
   ],
   "source": [
    "# !pip install numpy\n",
    "import numpy as np\n",
    "print(np.__version__)"
   ]
  },
  {
   "cell_type": "markdown",
   "id": "eba8c1c2",
   "metadata": {},
   "source": [
    " 넘파이 데이터 타입"
   ]
  },
  {
   "cell_type": "code",
   "execution_count": 2,
   "id": "10699044",
   "metadata": {},
   "outputs": [],
   "source": [
    "# 넘파이는 다음과 같은 데이터 타입을 지원하고 배열을 생성할 dtype 속성으로 데이터 타입을 지정할 수 있다.\n",
    "# np.int: 정수(int8, int16, int32, int64)\n",
    "# np.float: 실수(float32, float64)\n",
    "# np.bool: 불린(논리값)\n",
    "# np.string: 문자열"
   ]
  },
  {
   "cell_type": "code",
   "execution_count": 3,
   "id": "1fbd5ce0",
   "metadata": {},
   "outputs": [],
   "source": [
    "# 넘파이는 다차원 배열을 지원하고 넘파이 배열의 구조는 shape으로 표현한다.\n",
    "# shape은 배열의 구조를 튜플 자료형을 사용해서 표한한다. 예를 들면 28 * 28 컬러 사신의 각 픽셀은 3개의 채널(RGB)로\n",
    "# 구성된 구조를 가진다. 따라서, 컬러 사진의 데이터 구조는 shape(28, 28, 3)인 3차원 배열이 된다.\n",
    "# 다차원 배열은 입체적인 구조를 가지며 데이터의 차원은 여러 갈래의 데이터 방향(axis)을 가진다."
   ]
  },
  {
   "cell_type": "code",
   "execution_count": 4,
   "id": "d76e6390",
   "metadata": {},
   "outputs": [],
   "source": [
    "# 넘파이 배열 객체 정보 출력용으로 사용할 함수를 정의한다.\n",
    "def pprint(arr):\n",
    "    print('type: {}'.format(type(arr)))\n",
    "    print('shape: {}, dimension: {}, dtype: {}'.format(arr.shape, arr.ndim, arr.dtype))\n",
    "    print('data\\n', arr)"
   ]
  },
  {
   "cell_type": "markdown",
   "id": "5a42702c",
   "metadata": {},
   "source": [
    "파이썬 리스트 객체로 넘파이 배열을 생성할 수 있다.  \n",
    "인수로 리스트 객체와 데이터 타입(dtype)을 입력해서 넘파이 배열을 생성하고 dtype을 생략하면 리스트의 데이터 타입으로 넘파이 배열이 생성된다."
   ]
  },
  {
   "cell_type": "code",
   "execution_count": 5,
   "id": "300fbf52",
   "metadata": {},
   "outputs": [
    {
     "name": "stdout",
     "output_type": "stream",
     "text": [
      "<class 'list'>\n",
      "[1, 2, 3]\n",
      "type: <class 'numpy.ndarray'>\n",
      "shape: (3,), dimension: 1, dtype: int32\n",
      "data\n",
      " [1 2 3]\n"
     ]
    }
   ],
   "source": [
    "# 파이썬 1차원 리스트로 넘파이 배열 만들기\n",
    "arr = [1, 2, 3]\n",
    "print(type(arr))\n",
    "print(arr)\n",
    "# 넘파이의 array() 함수는 파이썬 리스트 객체를 넘겨받아 넘파이 배열을 생성한다.\n",
    "a = np.array(arr, dtype=np.int)\n",
    "pprint(a)"
   ]
  },
  {
   "cell_type": "code",
   "execution_count": 6,
   "id": "6cdf0bb3",
   "metadata": {},
   "outputs": [
    {
     "name": "stdout",
     "output_type": "stream",
     "text": [
      "<class 'list'>\n",
      "[[1, 2, 3], [4, 5, 6]]\n",
      "type: <class 'numpy.ndarray'>\n",
      "shape: (2, 3), dimension: 2, dtype: int32\n",
      "data\n",
      " [[1 2 3]\n",
      " [4 5 6]]\n"
     ]
    }
   ],
   "source": [
    "# 파이썬 2차원 리스트로 넘파이 배열 만들기\n",
    "arr = [[1, 2, 3], [4, 5, 6]]\n",
    "print(type(arr))\n",
    "print(arr)\n",
    "\n",
    "a = np.array(arr, dtype=np.int)\n",
    "pprint(a)"
   ]
  },
  {
   "cell_type": "code",
   "execution_count": 7,
   "id": "44f90d6d",
   "metadata": {},
   "outputs": [
    {
     "name": "stdout",
     "output_type": "stream",
     "text": [
      "<class 'list'>\n",
      "[[[1, 2, 3], [4, 5, 6]], [[11, 22, 33], [44, 55, 66]]]\n",
      "type: <class 'numpy.ndarray'>\n",
      "shape: (2, 2, 3), dimension: 3, dtype: int32\n",
      "data\n",
      " [[[ 1  2  3]\n",
      "  [ 4  5  6]]\n",
      "\n",
      " [[11 22 33]\n",
      "  [44 55 66]]]\n"
     ]
    }
   ],
   "source": [
    "# 파이썬 3차원 리스트로 넘파이 배열 만들기\n",
    "arr = [[[1, 2, 3], [4, 5, 6]], [[11, 22, 33], [44, 55, 66]]]\n",
    "print(type(arr))\n",
    "print(arr)\n",
    "\n",
    "a = np.array(arr, dtype=np.int)\n",
    "pprint(a)"
   ]
  },
  {
   "cell_type": "markdown",
   "id": "11df0b41",
   "metadata": {},
   "source": [
    "넘파이는 원하는 shape으로 배열을 만들고 각 요소를 특정값으로 초기화하는 함수를 제공한다."
   ]
  },
  {
   "cell_type": "code",
   "execution_count": 8,
   "id": "cfbd9141",
   "metadata": {},
   "outputs": [
    {
     "name": "stdout",
     "output_type": "stream",
     "text": [
      "type: <class 'numpy.ndarray'>\n",
      "shape: (3, 4), dimension: 2, dtype: int32\n",
      "data\n",
      " [[0 0 0 0]\n",
      " [0 0 0 0]\n",
      " [0 0 0 0]]\n"
     ]
    }
   ],
   "source": [
    "# zeros() 함수는 지정된 shape의 배열을 생성하고 모든 요소를 0으로 초기화시킨다.\n",
    "# zeros(차원, 데이터 타입(기본값: float64))\n",
    "a = np.zeros(shape=(3, 4), dtype=np.int)\n",
    "pprint(a)"
   ]
  },
  {
   "cell_type": "code",
   "execution_count": 9,
   "id": "e6647558",
   "metadata": {},
   "outputs": [
    {
     "name": "stdout",
     "output_type": "stream",
     "text": [
      "type: <class 'numpy.ndarray'>\n",
      "shape: (3, 4), dimension: 2, dtype: float64\n",
      "data\n",
      " [[1. 1. 1. 1.]\n",
      " [1. 1. 1. 1.]\n",
      " [1. 1. 1. 1.]]\n"
     ]
    }
   ],
   "source": [
    "# ones() 함수는 지정된 shape의 배열을 생성하고 모든 요소를 1으로 초기화시킨다.\n",
    "# ones(차원, 데이터 타입)\n",
    "a = np.ones(shape=(3, 4), dtype=np.float)\n",
    "pprint(a)"
   ]
  },
  {
   "cell_type": "code",
   "execution_count": 10,
   "id": "00c7cdf4",
   "metadata": {},
   "outputs": [
    {
     "name": "stdout",
     "output_type": "stream",
     "text": [
      "type: <class 'numpy.ndarray'>\n",
      "shape: (3, 4), dimension: 2, dtype: int32\n",
      "data\n",
      " [[999 999 999 999]\n",
      " [999 999 999 999]\n",
      " [999 999 999 999]]\n"
     ]
    }
   ],
   "source": [
    "# full() 함수는 지정된 shape의 배열을 생성하고 모든 요소를 특정값으로 초기화시킨다.\n",
    "# full(차원, 특정값, 데이터 타입)\n",
    "a = np.full(shape=(3, 4), fill_value=999, dtype=np.int)\n",
    "pprint(a)"
   ]
  },
  {
   "cell_type": "code",
   "execution_count": 11,
   "id": "ea52cd8c",
   "metadata": {},
   "outputs": [
    {
     "name": "stdout",
     "output_type": "stream",
     "text": [
      "type: <class 'numpy.ndarray'>\n",
      "shape: (5, 5), dimension: 2, dtype: float64\n",
      "data\n",
      " [[1. 0. 0. 0. 0.]\n",
      " [0. 1. 0. 0. 0.]\n",
      " [0. 0. 1. 0. 0.]\n",
      " [0. 0. 0. 1. 0.]\n",
      " [0. 0. 0. 0. 1.]]\n"
     ]
    }
   ],
   "source": [
    "# eye() 함수는 shape이 (n, n)인 단위행렬(대각선 요소만 1, 나머지 요소는 0)을 생성한다.\n",
    "# eye(n)\n",
    "a = np.eye(5)\n",
    "pprint(a)"
   ]
  },
  {
   "cell_type": "code",
   "execution_count": 12,
   "id": "b98b6c99",
   "metadata": {},
   "outputs": [
    {
     "name": "stdout",
     "output_type": "stream",
     "text": [
      "type: <class 'numpy.ndarray'>\n",
      "shape: (3, 4), dimension: 2, dtype: int32\n",
      "data\n",
      " [[999 999 999 999]\n",
      " [999 999 999 999]\n",
      " [999 999 999 999]]\n"
     ]
    }
   ],
   "source": [
    "# empty() 함수는 지정된 shape인 빈 배열을 만든다. => 초기화를 하지 않는다. => 쓰레기가 들어있다.\n",
    "# empty(차원, 데이터 타입)\n",
    "a = np.empty(shape=(3, 4), dtype=np.int)\n",
    "pprint(a)"
   ]
  },
  {
   "cell_type": "code",
   "execution_count": 13,
   "id": "38d4b0a3",
   "metadata": {},
   "outputs": [
    {
     "name": "stdout",
     "output_type": "stream",
     "text": [
      "type: <class 'numpy.ndarray'>\n",
      "shape: (2, 3), dimension: 2, dtype: int32\n",
      "data\n",
      " [[ 1  2  3]\n",
      " [11 22 33]]\n",
      "type: <class 'numpy.ndarray'>\n",
      "shape: (2, 3), dimension: 2, dtype: int32\n",
      "data\n",
      " [[0 0 0]\n",
      " [0 0 0]]\n",
      "type: <class 'numpy.ndarray'>\n",
      "shape: (2, 3), dimension: 2, dtype: int32\n",
      "data\n",
      " [[1 1 1]\n",
      " [1 1 1]]\n",
      "type: <class 'numpy.ndarray'>\n",
      "shape: (2, 3), dimension: 2, dtype: int32\n",
      "data\n",
      " [[777 777 777]\n",
      " [777 777 777]]\n",
      "type: <class 'numpy.ndarray'>\n",
      "shape: (2, 3), dimension: 2, dtype: int32\n",
      "data\n",
      " [[ 543236128 1634166126 1702259060]\n",
      " [1701998624  544762214 1735288172]]\n"
     ]
    }
   ],
   "source": [
    "# like 함수\n",
    "# 넘파이는 인수로 지정된 배열과 shape이 같은 배열을 만드는 *_like() 함수를 제공한다.\n",
    "# zeros_like(), ones_like(), full_like(), empty_like()\n",
    "a = np.array([[1, 2, 3,], [11, 22, 33]])\n",
    "pprint(a)\n",
    "b = np.zeros_like(a)\n",
    "pprint(b)\n",
    "c = np.ones_like(a)\n",
    "pprint(c)\n",
    "d = np.full_like(a, 777)\n",
    "pprint(d)\n",
    "e = np.empty_like(a)\n",
    "pprint(e)"
   ]
  },
  {
   "cell_type": "code",
   "execution_count": 14,
   "id": "b41e8def",
   "metadata": {},
   "outputs": [],
   "source": [
    "# 넘파이는 주어진 조건으로 데이터를 생성한 후 배열을 만드는 데이터 생성 함수를 제공한다.\n",
    "# linspace(), arange, logspace()\n",
    "# !pip install matplotlib\n",
    "# !pip install seaborn\n",
    "import matplotlib.pyplot as plt"
   ]
  },
  {
   "cell_type": "code",
   "execution_count": 40,
   "id": "6740a7a7",
   "metadata": {},
   "outputs": [
    {
     "name": "stdout",
     "output_type": "stream",
     "text": [
      "type: <class 'numpy.ndarray'>\n",
      "shape: (5,), dimension: 1, dtype: float64\n",
      "data\n",
      " [0.   0.25 0.5  0.75 1.  ]\n"
     ]
    },
    {
     "data": {
      "image/png": "[encoded data removed]",
      "text/plain": [
       "<Figure size 432x288 with 1 Axes>"
      ]
     },
     "metadata": {
      "needs_background": "light"
     },
     "output_type": "display_data"
    }
   ],
   "source": [
    "# linspace() 함수는 start 부터 stop의 범위에서 num개를 균일한 간격으로 데이터를 생성해서 배열을 만든다.\n",
    "# linspace(시작, 끝, 개수)\n",
    "# 요소의 개수를 기준으로 균등 간격 배열을 생성한다.\n",
    "a = np.linspace(0, 1, 5)\n",
    "pprint(a)\n",
    "\n",
    "# linspace() 함수 실행 결과 시각화\n",
    "plt.plot(a, 'r^')\n",
    "plt.show()"
   ]
  },
  {
   "cell_type": "code",
   "execution_count": 41,
   "id": "0d990d05",
   "metadata": {},
   "outputs": [
    {
     "name": "stdout",
     "output_type": "stream",
     "text": [
      "type: <class 'numpy.ndarray'>\n",
      "shape: (5,), dimension: 1, dtype: int32\n",
      "data\n",
      " [0 2 4 6 8]\n"
     ]
    },
    {
     "data": {
      "image/png": "[encoded data removed]",
      "text/plain": [
       "<Figure size 432x288 with 1 Axes>"
      ]
     },
     "metadata": {
      "needs_background": "light"
     },
     "output_type": "display_data"
    }
   ],
   "source": [
    "# arange() 함수는 start 부터 stop 미만까지 step 간격으로 데이터를 생성하고 배열을 만든다.\n",
    "# arange([초기치, ]최종치[, 증가치])\n",
    "# linspace() 함수는 요소의 개수로 배열을 만들었지만 arange() 함수는 데이터 간격을 기준으로 배열을 만든다.\n",
    "# 초기치를 생략하면 0, 증가치를 생략하면 1이 기본값으로 사용된다.\n",
    "# arange(10), arange(0, 10), arange(0, 10, 1)는 모두 같은 기능이 실행된다.\n",
    "a = np.arange(0, 10, 2)\n",
    "pprint(a)\n",
    "\n",
    "plt.plot(a, 'gs')\n",
    "plt.show()"
   ]
  },
  {
   "cell_type": "code",
   "execution_count": 80,
   "id": "a502f674",
   "metadata": {},
   "outputs": [
    {
     "name": "stdout",
     "output_type": "stream",
     "text": [
      "type: <class 'numpy.ndarray'>\n",
      "shape: (100,), dimension: 1, dtype: float64\n",
      "data\n",
      " [   2.            2.13008218    2.26862504    2.41617889    2.5733298\n",
      "    2.74070197    2.91896021    3.10881256    3.31101312    3.52636502\n",
      "    3.75572364    4.            4.26016436    4.53725009    4.83235778\n",
      "    5.14665959    5.48140394    5.83792042    6.21762513    6.62202624\n",
      "    7.05273004    7.51144729    8.            8.52032872    9.07450018\n",
      "    9.66471556   10.29331918   10.96280788   11.67584085   12.43525025\n",
      "   13.24405248   14.10546008   15.02289457   16.           17.04065743\n",
      "   18.14900036   19.32943111   20.58663837   21.92561576   23.35168169\n",
      "   24.87050051   26.48810496   28.21092016   30.04578914   32.\n",
      "   34.08131486   36.29800071   38.65886222   41.17327674   43.85123151\n",
      "   46.70336338   49.74100102   52.97620991   56.42184032   60.09157828\n",
      "   64.           68.16262972   72.59600142   77.31772444   82.34655347\n",
      "   87.70246302   93.40672676   99.48200203  105.95241983  112.84368064\n",
      "  120.18315656  128.          136.32525945  145.19200284  154.63544888\n",
      "  164.69310695  175.40492604  186.81345353  198.96400407  211.90483965\n",
      "  225.68736128  240.36631313  256.          272.6505189   290.38400568\n",
      "  309.27089777  329.38621389  350.80985209  373.62690705  397.92800813\n",
      "  423.8096793   451.37472256  480.73262626  512.          545.30103779\n",
      "  580.76801136  618.54179554  658.77242778  701.61970418  747.25381411\n",
      "  795.85601627  847.6193586   902.74944512  961.46525252 1024.        ]\n"
     ]
    },
    {
     "data": {
      "image/png": "[encoded data removed]",
      "text/plain": [
       "<Figure size 432x288 with 1 Axes>"
      ]
     },
     "metadata": {
      "needs_background": "light"
     },
     "output_type": "display_data"
    }
   ],
   "source": [
    "# logspace() 함수는 로그 스케일로 지정된 범위(start 부터 stop 사이)에서 num개 만큼 균등 간격으로 데이터를 \n",
    "# 생성하고 배열을 만든다.\n",
    "# logspace(시작, 끝, 개수, base)\n",
    "a = np.logspace(1, 10, 100, base=2)\n",
    "pprint(a)\n",
    "\n",
    "plt.plot(a, 'c')\n",
    "plt.show()"
   ]
  },
  {
   "cell_type": "markdown",
   "id": "4f6bc7e7",
   "metadata": {},
   "source": [
    "난수 기반 배열 생성"
   ]
  },
  {
   "cell_type": "code",
   "execution_count": 51,
   "id": "76910c1c",
   "metadata": {},
   "outputs": [],
   "source": [
    "# 넘파이는 난수 발생 및 배열을 생성하는 random 모듈을 제공하고 다음과 같은 함수를 사용할 수 있다.\n",
    "# normal(), randn(), rand(), randint(), random()"
   ]
  },
  {
   "cell_type": "code",
   "execution_count": 62,
   "id": "57a93af3",
   "metadata": {},
   "outputs": [
    {
     "name": "stdout",
     "output_type": "stream",
     "text": [
      "type: <class 'numpy.ndarray'>\n",
      "shape: (10,), dimension: 1, dtype: float64\n",
      "data\n",
      " [-1.73273688e-01 -1.07097318e+00 -1.45610344e+00 -1.24728218e+00\n",
      " -4.21584051e-01 -4.25831350e-01  5.18599211e-01 -4.60895389e-04\n",
      "  2.11964856e+00 -4.98989755e-01]\n"
     ]
    },
    {
     "data": {
      "image/png": "[encoded data removed]",
      "text/plain": [
       "<Figure size 432x288 with 1 Axes>"
      ]
     },
     "metadata": {
      "needs_background": "light"
     },
     "output_type": "display_data"
    }
   ],
   "source": [
    "# normal() 함수는 정규 분포를 따르는 난수 데이터를 생성하고 배열을 만든다.\n",
    "# normal(평균, 표준편차, 난수의 개수)\n",
    "a = np.random.normal(0, 1, 10)\n",
    "pprint(a)\n",
    "\n",
    "# 히스토그램을 만들어서 확인한다.\n",
    "plt.hist(a)\n",
    "plt.show()"
   ]
  },
  {
   "cell_type": "code",
   "execution_count": 69,
   "id": "6c38f694",
   "metadata": {},
   "outputs": [
    {
     "data": {
      "image/png": "[encoded data removed]",
      "text/plain": [
       "<Figure size 432x288 with 1 Axes>"
      ]
     },
     "metadata": {
      "needs_background": "light"
     },
     "output_type": "display_data"
    }
   ],
   "source": [
    "# normal() 함수가 생성한 난수는 정규 분포의 형상을 가진다.\n",
    "a = np.random.normal(0, 1, 10000)\n",
    "# hist() 함수에 bins 옵션으로 히스토그램 막대(구간)의 개수를 지정할 수 있다.\n",
    "plt.hist(a, bins=100)\n",
    "plt.show()"
   ]
  },
  {
   "cell_type": "code",
   "execution_count": 70,
   "id": "870142cc",
   "metadata": {},
   "outputs": [
    {
     "data": {
      "image/png": "[encoded data removed]",
      "text/plain": [
       "<Figure size 432x288 with 1 Axes>"
      ]
     },
     "metadata": {
      "needs_background": "light"
     },
     "output_type": "display_data"
    }
   ],
   "source": [
    "# randn() 함수는 표준 정규 분포(평균이 0이고 표준편차가 1인 분포)를 따르는 난수 데이터를 생성하고 배열을 만든다.\n",
    "# randn(난수의 개수)\n",
    "a = np.random.randn(10)\n",
    "plt.hist(a)\n",
    "plt.show()"
   ]
  },
  {
   "cell_type": "code",
   "execution_count": 72,
   "id": "a26f91ed",
   "metadata": {},
   "outputs": [
    {
     "data": {
      "image/png": "[encoded data removed]",
      "text/plain": [
       "<Figure size 432x288 with 1 Axes>"
      ]
     },
     "metadata": {
      "needs_background": "light"
     },
     "output_type": "display_data"
    }
   ],
   "source": [
    "a = np.random.randn(10000)\n",
    "plt.hist(a, bins=100)\n",
    "plt.show()"
   ]
  },
  {
   "cell_type": "code",
   "execution_count": 76,
   "id": "90baaa84",
   "metadata": {
    "scrolled": false
   },
   "outputs": [
    {
     "name": "stdout",
     "output_type": "stream",
     "text": [
      "type: <class 'numpy.ndarray'>\n",
      "shape: (10,), dimension: 1, dtype: float64\n",
      "data\n",
      " [0.43866865 0.0291289  0.09580115 0.7944533  0.29331676 0.67382149\n",
      " 0.5393858  0.69776024 0.23112707 0.73375466]\n"
     ]
    },
    {
     "data": {
      "image/png": "[encoded data removed]",
      "text/plain": [
       "<Figure size 432x288 with 1 Axes>"
      ]
     },
     "metadata": {
      "needs_background": "light"
     },
     "output_type": "display_data"
    }
   ],
   "source": [
    "# rand() 함수는 0 ~ 1 사이의 균등 분포를 따르는 난수로 데이터를 생성하고 배열을 만든다.\n",
    "# rand(난수의 개수를 차원으로 지정한다.)\n",
    "a = np.random.rand(10)\n",
    "pprint(a)\n",
    "plt.hist(a)\n",
    "plt.show()"
   ]
  },
  {
   "cell_type": "code",
   "execution_count": 79,
   "id": "21b1ae6e",
   "metadata": {},
   "outputs": [
    {
     "name": "stdout",
     "output_type": "stream",
     "text": [
      "type: <class 'numpy.ndarray'>\n",
      "shape: (2, 3), dimension: 2, dtype: float64\n",
      "data\n",
      " [[0.03409326 0.13906443 0.5439311 ]\n",
      " [0.46536686 0.79320039 0.93185885]]\n"
     ]
    },
    {
     "data": {
      "image/png": "[encoded data removed]",
      "text/plain": [
       "<Figure size 432x288 with 1 Axes>"
      ]
     },
     "metadata": {
      "needs_background": "light"
     },
     "output_type": "display_data"
    }
   ],
   "source": [
    "a = np.random.rand(2, 3)\n",
    "pprint(a)\n",
    "plt.hist(a)\n",
    "plt.show()"
   ]
  },
  {
   "cell_type": "code",
   "execution_count": 78,
   "id": "8b38a50a",
   "metadata": {},
   "outputs": [
    {
     "name": "stdout",
     "output_type": "stream",
     "text": [
      "type: <class 'numpy.ndarray'>\n",
      "shape: (10000,), dimension: 1, dtype: float64\n",
      "data\n",
      " [0.32122408 0.20992249 0.12374325 ... 0.60602664 0.75278044 0.24000883]\n"
     ]
    },
    {
     "data": {
      "image/png": "[encoded data removed]",
      "text/plain": [
       "<Figure size 432x288 with 1 Axes>"
      ]
     },
     "metadata": {
      "needs_background": "light"
     },
     "output_type": "display_data"
    }
   ],
   "source": [
    "a = np.random.rand(10000)\n",
    "pprint(a)\n",
    "plt.hist(a)\n",
    "plt.show()"
   ]
  },
  {
   "cell_type": "code",
   "execution_count": null,
   "id": "6898baa2",
   "metadata": {},
   "outputs": [],
   "source": []
  }
 ],
 "metadata": {
  "kernelspec": {
   "display_name": "Python 3",
   "language": "python",
   "name": "python3"
  },
  "language_info": {
   "codemirror_mode": {
    "name": "ipython",
    "version": 3
   },
   "file_extension": ".py",
   "mimetype": "text/x-python",
   "name": "python",
   "nbconvert_exporter": "python",
   "pygments_lexer": "ipython3",
   "version": "3.6.8"
  }
 },
 "nbformat": 4,
 "nbformat_minor": 5
}
