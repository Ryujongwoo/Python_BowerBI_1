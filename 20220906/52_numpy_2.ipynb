{
 "cells": [
  {
   "cell_type": "code",
   "execution_count": 1,
   "id": "c2f9540a",
   "metadata": {},
   "outputs": [],
   "source": [
    "import numpy as np\n",
    "\n",
    "def pprint(arr):\n",
    "    print('type: {}'.format(type(arr)))\n",
    "    print('shape: {}, dimension: {}, dtype: {}'.format(arr.shape, arr.ndim, arr.dtype))\n",
    "    print('data\\n', arr)"
   ]
  },
  {
   "cell_type": "markdown",
   "id": "cbbcfc45",
   "metadata": {},
   "source": [
    "넘파이 배열 파일 입출력"
   ]
  },
  {
   "cell_type": "code",
   "execution_count": 20,
   "id": "7baf70d7",
   "metadata": {},
   "outputs": [
    {
     "name": "stdout",
     "output_type": "stream",
     "text": [
      "type: <class 'numpy.ndarray'>\n",
      "shape: (2, 3), dimension: 2, dtype: int32\n",
      "data\n",
      " [[9 9 4]\n",
      " [8 8 1]]\n",
      "type: <class 'numpy.ndarray'>\n",
      "shape: (2, 3), dimension: 2, dtype: int32\n",
      "data\n",
      " [[5 3 6]\n",
      " [3 3 3]]\n"
     ]
    }
   ],
   "source": [
    "np.random.seed(100)\n",
    "a = np.random.randint(1, 10, (2, 3))\n",
    "pprint(a)\n",
    "b = np.random.randint(1, 10, (2, 3))\n",
    "pprint(b)"
   ]
  },
  {
   "cell_type": "code",
   "execution_count": 23,
   "id": "9cadee89",
   "metadata": {},
   "outputs": [],
   "source": [
    "# 배열 객체 저장 - 바이너리(2진) 파일\n",
    "# save(), savez() 함수를 이용해서 배열 객체를 바이너리 형태의 파일로 저장할 수 있다.\n",
    "# save('파일이름', 배열이름): 배열 1개를 저장한다. 확장명 => npy\n",
    "# savez('파일이름', 배열이름1, 배열이름2, ...): 배열 여러개를 저장한다. 확장명 => npz\n",
    "\n",
    "# a 배열을 파일로 저장한다.\n",
    "np.save('./output/my_array1', a)\n",
    "# a, b 배열을 파일로 저장한다.\n",
    "np.savez('./output/my_array2', a, b)"
   ]
  },
  {
   "cell_type": "code",
   "execution_count": 29,
   "id": "c3f3744e",
   "metadata": {},
   "outputs": [
    {
     "name": "stdout",
     "output_type": "stream",
     "text": [
      "[[9 9 4]\n",
      " [8 8 1]]\n",
      "<numpy.lib.npyio.NpzFile object at 0x0000016B7EF922E8>\n",
      "[[9 9 4]\n",
      " [8 8 1]]\n",
      "[[5 3 6]\n",
      " [3 3 3]]\n"
     ]
    }
   ],
   "source": [
    "# load() 함수로 npy, npz 파일로부터 배열 데이터를 읽어올 수 있다. 이 때, 확장명을 반드시 적어야 한다.\n",
    "# npy 파일 읽기\n",
    "print(np.load('./output/my_array1.npy'))\n",
    "# npz 파일 읽기\n",
    "print(np.load('./output/my_array2.npz'))\n",
    "print(np.load('./output/my_array2.npz')['arr_0'])\n",
    "print(np.load('./output/my_array2.npz')['arr_1'])"
   ]
  },
  {
   "cell_type": "code",
   "execution_count": 37,
   "id": "b7d3e190",
   "metadata": {},
   "outputs": [
    {
     "name": "stdout",
     "output_type": "stream",
     "text": [
      "type: <class 'numpy.ndarray'>\n",
      "shape: (3, 4), dimension: 2, dtype: float64\n",
      "data\n",
      " [[0.1107879  0.3126403  0.45697913 0.65894007]\n",
      " [0.25425752 0.64110126 0.20012361 0.65762481]\n",
      " [0.77828922 0.7795984  0.61032815 0.30900035]]\n"
     ]
    }
   ],
   "source": [
    "data = np.random.random((3, 4))\n",
    "pprint(data)"
   ]
  },
  {
   "cell_type": "code",
   "execution_count": 38,
   "id": "e237c231",
   "metadata": {},
   "outputs": [],
   "source": [
    "# 배열 객체 저장 - 텍스트 파일\n",
    "# savetxt() 함수로 배열 객체를 텍스트 파일로 저장할 수 있다. => csv 파일, tsv 파일\n",
    "# savetxt('파일 이름', 데이터, delimiter='구분자')"
   ]
  },
  {
   "cell_type": "code",
   "execution_count": 42,
   "id": "5b1a22de",
   "metadata": {},
   "outputs": [],
   "source": [
    "# data 배열을 텍스트 파일로 저장한다.\n",
    "# np.savetxt('./output/saved.csv', data) # 구분자를 생략하면 기본값으로 csv 파일로 저장한다.\n",
    "np.savetxt('./output/saved.csv', data, delimiter=',')\n",
    "np.savetxt('./output/saved.tsv', data, delimiter='\\t')"
   ]
  },
  {
   "cell_type": "code",
   "execution_count": 44,
   "id": "6fb62e94",
   "metadata": {},
   "outputs": [
    {
     "name": "stdout",
     "output_type": "stream",
     "text": [
      "[[0.1107879  0.3126403  0.45697913 0.65894007]\n",
      " [0.25425752 0.64110126 0.20012361 0.65762481]\n",
      " [0.77828922 0.7795984  0.61032815 0.30900035]]\n",
      "[[0.1107879  0.3126403  0.45697913 0.65894007]\n",
      " [0.25425752 0.64110126 0.20012361 0.65762481]\n",
      " [0.77828922 0.7795984  0.61032815 0.30900035]]\n"
     ]
    }
   ],
   "source": [
    "# loadtxt() 함수로 csv, tsv 파일로부터 배열 데이터를 읽어올 수 있다. 확장명을 반드시 적어야 한다.\n",
    "print(np.loadtxt('./output/saved.csv', delimiter=','))\n",
    "print(np.loadtxt('./output/saved.tsv', delimiter='\\t'))"
   ]
  },
  {
   "cell_type": "markdown",
   "id": "3f506157",
   "metadata": {},
   "source": [
    "배열(행렬) 연산 - 산술연산"
   ]
  },
  {
   "cell_type": "code",
   "execution_count": 66,
   "id": "3c6a3ba3",
   "metadata": {},
   "outputs": [
    {
     "name": "stdout",
     "output_type": "stream",
     "text": [
      "[[1 2 3]\n",
      " [4 5 6]\n",
      " [7 8 9]]\n",
      "(3, 3)\n",
      "[[9 8 7]\n",
      " [6 5 4]\n",
      " [3 2 1]]\n"
     ]
    }
   ],
   "source": [
    "a = np.arange(1, 10).reshape(3, 3)\n",
    "print(a)\n",
    "print(a.shape)\n",
    "b = np.arange(9, 0, -1).reshape(3, 3)\n",
    "print(b)"
   ]
  },
  {
   "cell_type": "code",
   "execution_count": 67,
   "id": "ecabf8b9",
   "metadata": {},
   "outputs": [
    {
     "name": "stdout",
     "output_type": "stream",
     "text": [
      "[[10 10 10]\n",
      " [10 10 10]\n",
      " [10 10 10]]\n",
      "[[10 10 10]\n",
      " [10 10 10]\n",
      " [10 10 10]]\n"
     ]
    }
   ],
   "source": [
    "# 덧셈: +, add()\n",
    "print(a + b)\n",
    "print(np.add(a, b))"
   ]
  },
  {
   "cell_type": "code",
   "execution_count": 57,
   "id": "d38aa939",
   "metadata": {},
   "outputs": [
    {
     "name": "stdout",
     "output_type": "stream",
     "text": [
      "[[-8 -6 -4]\n",
      " [-2  0  2]\n",
      " [ 4  6  8]]\n",
      "[[-8 -6 -4]\n",
      " [-2  0  2]\n",
      " [ 4  6  8]]\n"
     ]
    }
   ],
   "source": [
    "# 뺄셈: -, subtract()\n",
    "print(a - b)\n",
    "print(np.subtract(a, b))"
   ]
  },
  {
   "cell_type": "code",
   "execution_count": 59,
   "id": "2fcc57a7",
   "metadata": {},
   "outputs": [
    {
     "name": "stdout",
     "output_type": "stream",
     "text": [
      "[[ 9 16 21]\n",
      " [24 25 24]\n",
      " [21 16  9]]\n",
      "[[ 9 16 21]\n",
      " [24 25 24]\n",
      " [21 16  9]]\n"
     ]
    }
   ],
   "source": [
    "# 곱셈: *, multiply()\n",
    "print(a * b)\n",
    "print(np.multiply(a, b))"
   ]
  },
  {
   "cell_type": "code",
   "execution_count": 62,
   "id": "db646fda",
   "metadata": {},
   "outputs": [
    {
     "name": "stdout",
     "output_type": "stream",
     "text": [
      "[[0.11111111 0.25       0.42857143]\n",
      " [0.66666667 1.         1.5       ]\n",
      " [2.33333333 4.         9.        ]]\n",
      "[[0.11111111 0.25       0.42857143]\n",
      " [0.66666667 1.         1.5       ]\n",
      " [2.33333333 4.         9.        ]]\n"
     ]
    }
   ],
   "source": [
    "# 나눗셈: /, divide()\n",
    "print(a / b)\n",
    "print(np.divide(a, b))"
   ]
  },
  {
   "cell_type": "code",
   "execution_count": 68,
   "id": "81798026",
   "metadata": {},
   "outputs": [
    {
     "name": "stdout",
     "output_type": "stream",
     "text": [
      "[[2.71828183e+00 7.38905610e+00 2.00855369e+01]\n",
      " [5.45981500e+01 1.48413159e+02 4.03428793e+02]\n",
      " [1.09663316e+03 2.98095799e+03 8.10308393e+03]]\n"
     ]
    }
   ],
   "source": [
    "# 지수\n",
    "print(np.exp(a))"
   ]
  },
  {
   "cell_type": "code",
   "execution_count": 69,
   "id": "de6729b4",
   "metadata": {},
   "outputs": [
    {
     "name": "stdout",
     "output_type": "stream",
     "text": [
      "[[1.         1.41421356 1.73205081]\n",
      " [2.         2.23606798 2.44948974]\n",
      " [2.64575131 2.82842712 3.        ]]\n"
     ]
    }
   ],
   "source": [
    "# 제곱근\n",
    "print(np.sqrt(a))"
   ]
  },
  {
   "cell_type": "code",
   "execution_count": 71,
   "id": "5859e9f6",
   "metadata": {},
   "outputs": [
    {
     "name": "stdout",
     "output_type": "stream",
     "text": [
      "[[ 0.84147098  0.90929743  0.14112001]\n",
      " [-0.7568025  -0.95892427 -0.2794155 ]\n",
      " [ 0.6569866   0.98935825  0.41211849]]\n",
      "[[ 0.54030231 -0.41614684 -0.9899925 ]\n",
      " [-0.65364362  0.28366219  0.96017029]\n",
      " [ 0.75390225 -0.14550003 -0.91113026]]\n",
      "[[ 1.55740772 -2.18503986 -0.14254654]\n",
      " [ 1.15782128 -3.38051501 -0.29100619]\n",
      " [ 0.87144798 -6.79971146 -0.45231566]]\n"
     ]
    }
   ],
   "source": [
    "# 삼각함수\n",
    "print(np.sin(a))\n",
    "print(np.cos(a))\n",
    "print(np.tan(a))"
   ]
  },
  {
   "cell_type": "code",
   "execution_count": 72,
   "id": "645fab2a",
   "metadata": {},
   "outputs": [
    {
     "name": "stdout",
     "output_type": "stream",
     "text": [
      "[[0.         0.69314718 1.09861229]\n",
      " [1.38629436 1.60943791 1.79175947]\n",
      " [1.94591015 2.07944154 2.19722458]]\n"
     ]
    }
   ],
   "source": [
    "# 로그\n",
    "print(np.log(a))"
   ]
  },
  {
   "cell_type": "code",
   "execution_count": 73,
   "id": "9f5285de",
   "metadata": {},
   "outputs": [
    {
     "name": "stdout",
     "output_type": "stream",
     "text": [
      "[[ 30  24  18]\n",
      " [ 84  69  54]\n",
      " [138 114  90]]\n"
     ]
    }
   ],
   "source": [
    "# 행렬의 내적 => 행렬의 곱\n",
    "print(np.dot(a, b))"
   ]
  },
  {
   "cell_type": "markdown",
   "id": "db044b50",
   "metadata": {},
   "source": [
    "<img src=\"./matrix.png\" width=1000 align=\"left\"/>"
   ]
  },
  {
   "cell_type": "markdown",
   "id": "1df69959",
   "metadata": {},
   "source": [
    "비교 연산"
   ]
  },
  {
   "cell_type": "code",
   "execution_count": 74,
   "id": "507ba437",
   "metadata": {},
   "outputs": [
    {
     "name": "stdout",
     "output_type": "stream",
     "text": [
      "[[False False False]\n",
      " [False  True False]\n",
      " [False False False]]\n"
     ]
    }
   ],
   "source": [
    "# 배열 요소별 비교: >, <=, <, <=, ==, !=\n",
    "print(a == b)"
   ]
  },
  {
   "cell_type": "code",
   "execution_count": 75,
   "id": "d2fd8385",
   "metadata": {},
   "outputs": [
    {
     "name": "stdout",
     "output_type": "stream",
     "text": [
      "False\n"
     ]
    }
   ],
   "source": [
    "# 배열 전체 비교: array_equal() 함수를 사용하면 배열 전체를 비교할 수 있다.\n",
    "print(np.array_equal(a, b))"
   ]
  },
  {
   "cell_type": "markdown",
   "id": "a207d13d",
   "metadata": {},
   "source": [
    "집계 함수"
   ]
  },
  {
   "cell_type": "code",
   "execution_count": null,
   "id": "5a4842b1",
   "metadata": {},
   "outputs": [],
   "source": [
    "# 넘파이의 거의 모든 집계 함수는 axis를 기준으로 계산된다. \n",
    "# 집계 함수에 axis를 지정하지 않으면 axis=None이 기본값으로 사용된다.\n",
    "# axis=None, axis=0, axis=1과 같이 지정한다."
   ]
  },
  {
   "cell_type": "code",
   "execution_count": 76,
   "id": "97e701e7",
   "metadata": {},
   "outputs": [
    {
     "name": "stdout",
     "output_type": "stream",
     "text": [
      "[[1 2 3]\n",
      " [4 5 6]\n",
      " [7 8 9]]\n"
     ]
    }
   ],
   "source": [
    "a = np.arange(1, 10).reshape(3, 3)\n",
    "print(a)"
   ]
  },
  {
   "cell_type": "markdown",
   "id": "1d426253",
   "metadata": {},
   "source": [
    "합계: 배열.sum(axis), np.sum(배열, axis)"
   ]
  },
  {
   "cell_type": "code",
   "execution_count": null,
   "id": "e64ca283",
   "metadata": {},
   "outputs": [],
   "source": [
    "# axis=None, 생략시 기본값\n",
    "# axis=None은 전체 배열을 하나의 배열로 간주하고 집계 함수의 범위를 전체 배열로 정의한다."
   ]
  },
  {
   "cell_type": "markdown",
   "id": "b2ecd579",
   "metadata": {},
   "source": [
    "<img src=\"./numpyImage02.jpg\" width=200 align=\"left\"/>"
   ]
  },
  {
   "cell_type": "code",
   "execution_count": 80,
   "id": "dab1498b",
   "metadata": {},
   "outputs": [
    {
     "name": "stdout",
     "output_type": "stream",
     "text": [
      "45\n",
      "45\n",
      "45\n",
      "45\n"
     ]
    }
   ],
   "source": [
    "print(a.sum())\n",
    "print(a.sum(axis=None))\n",
    "print(np.sum(a))\n",
    "print(np.sum(a, axis=None))"
   ]
  },
  {
   "cell_type": "code",
   "execution_count": 82,
   "id": "7779c954",
   "metadata": {},
   "outputs": [],
   "source": [
    "# axis=0은 행을 기준으로 각 행의 동일한 인덱스 요소를 그룹으로 연결한다. => 각 열의 합계"
   ]
  },
  {
   "cell_type": "markdown",
   "id": "d028aeba",
   "metadata": {},
   "source": [
    "<img src=\"./numpyImage03.jpg\" width=200 align=\"left\"/>"
   ]
  },
  {
   "cell_type": "code",
   "execution_count": 81,
   "id": "8d8e2e45",
   "metadata": {},
   "outputs": [
    {
     "name": "stdout",
     "output_type": "stream",
     "text": [
      "[12 15 18]\n",
      "[12 15 18]\n"
     ]
    }
   ],
   "source": [
    "print(a.sum(axis=0))\n",
    "print(np.sum(a, axis=0))"
   ]
  },
  {
   "cell_type": "code",
   "execution_count": 83,
   "id": "279ef402",
   "metadata": {},
   "outputs": [],
   "source": [
    "# axis=1은 열을 기준으로 각 열의 동일한 인덱스 요소를 그룹으로 연결한다. => 각 행의 합계"
   ]
  },
  {
   "cell_type": "markdown",
   "id": "929d9085",
   "metadata": {},
   "source": [
    "<img src=\"./numpyImage04.jpg\" width=200 align=\"left\"/>"
   ]
  },
  {
   "cell_type": "code",
   "execution_count": 84,
   "id": "528f98b4",
   "metadata": {},
   "outputs": [
    {
     "name": "stdout",
     "output_type": "stream",
     "text": [
      "[ 6 15 24]\n",
      "[ 6 15 24]\n"
     ]
    }
   ],
   "source": [
    "print(a.sum(axis=1))\n",
    "print(np.sum(a, axis=1))"
   ]
  },
  {
   "cell_type": "markdown",
   "id": "ce627949",
   "metadata": {},
   "source": [
    "최대값: 배열.max(axis), np.max(배열, axis)  \n",
    "최소값: 배열.min(axis), np.min(배열, axis)"
   ]
  },
  {
   "cell_type": "code",
   "execution_count": 85,
   "id": "4c89ca17",
   "metadata": {},
   "outputs": [
    {
     "name": "stdout",
     "output_type": "stream",
     "text": [
      "9\n",
      "9\n",
      "1\n",
      "1\n"
     ]
    }
   ],
   "source": [
    "print(a.max())\n",
    "print(a.max(axis=None))\n",
    "print(np.min(a))\n",
    "print(np.min(a, axis=None))"
   ]
  },
  {
   "cell_type": "code",
   "execution_count": 87,
   "id": "64f49f28",
   "metadata": {},
   "outputs": [
    {
     "name": "stdout",
     "output_type": "stream",
     "text": [
      "[7 8 9]\n",
      "[7 8 9]\n",
      "[1 2 3]\n",
      "[1 2 3]\n"
     ]
    }
   ],
   "source": [
    "print(a.max(axis=0))\n",
    "print(np.max(a, axis=0))\n",
    "print(a.min(axis=0))\n",
    "print(np.min(a, axis=0))"
   ]
  },
  {
   "cell_type": "code",
   "execution_count": 88,
   "id": "e9ed13cb",
   "metadata": {},
   "outputs": [
    {
     "name": "stdout",
     "output_type": "stream",
     "text": [
      "[3 6 9]\n",
      "[3 6 9]\n",
      "[1 4 7]\n",
      "[1 4 7]\n"
     ]
    }
   ],
   "source": [
    "print(a.max(axis=1))\n",
    "print(np.max(a, axis=1))\n",
    "print(a.min(axis=1))\n",
    "print(np.min(a, axis=1))"
   ]
  },
  {
   "cell_type": "markdown",
   "id": "a9c2fbe6",
   "metadata": {},
   "source": [
    "누적 합계: 배열.cumsum(axis), np.cumsum(배열, axis)"
   ]
  },
  {
   "cell_type": "code",
   "execution_count": 93,
   "id": "1a280b78",
   "metadata": {},
   "outputs": [
    {
     "name": "stdout",
     "output_type": "stream",
     "text": [
      "[ 1  3  6 10 15 21 28 36 45]\n",
      "[ 1  3  6 10 15 21 28 36 45]\n",
      "[ 1  3  6 10 15 21 28 36 45]\n",
      "[ 1  3  6 10 15 21 28 36 45]\n"
     ]
    }
   ],
   "source": [
    "print(a.cumsum())\n",
    "print(np.cumsum(a))\n",
    "print(a.cumsum(axis=None))\n",
    "print(np.cumsum(a, axis=None))"
   ]
  },
  {
   "cell_type": "code",
   "execution_count": 94,
   "id": "30d8ba72",
   "metadata": {},
   "outputs": [
    {
     "name": "stdout",
     "output_type": "stream",
     "text": [
      "[[ 1  2  3]\n",
      " [ 5  7  9]\n",
      " [12 15 18]]\n",
      "[[ 1  2  3]\n",
      " [ 5  7  9]\n",
      " [12 15 18]]\n"
     ]
    }
   ],
   "source": [
    "print(a.cumsum(axis=0))\n",
    "print(np.cumsum(a, axis=0))"
   ]
  },
  {
   "cell_type": "code",
   "execution_count": 95,
   "id": "e3256d57",
   "metadata": {},
   "outputs": [
    {
     "name": "stdout",
     "output_type": "stream",
     "text": [
      "[[ 1  3  6]\n",
      " [ 4  9 15]\n",
      " [ 7 15 24]]\n",
      "[[ 1  3  6]\n",
      " [ 4  9 15]\n",
      " [ 7 15 24]]\n"
     ]
    }
   ],
   "source": [
    "print(a.cumsum(axis=1))\n",
    "print(np.cumsum(a, axis=1))"
   ]
  },
  {
   "cell_type": "markdown",
   "id": "a88aec55",
   "metadata": {},
   "source": [
    "평균: 배열.mean(axis), np.mean(배열, axis)"
   ]
  },
  {
   "cell_type": "code",
   "execution_count": 96,
   "id": "97f71339",
   "metadata": {},
   "outputs": [
    {
     "name": "stdout",
     "output_type": "stream",
     "text": [
      "5.0\n",
      "5.0\n",
      "5.0\n",
      "5.0\n"
     ]
    }
   ],
   "source": [
    "print(a.mean())\n",
    "print(np.mean(a))\n",
    "print(a.mean(axis=None))\n",
    "print(np.mean(a, axis=None))"
   ]
  },
  {
   "cell_type": "code",
   "execution_count": 97,
   "id": "f979de5d",
   "metadata": {},
   "outputs": [
    {
     "name": "stdout",
     "output_type": "stream",
     "text": [
      "[4. 5. 6.]\n",
      "[4. 5. 6.]\n"
     ]
    }
   ],
   "source": [
    "print(a.mean(axis=0))\n",
    "print(np.mean(a, axis=0))"
   ]
  },
  {
   "cell_type": "code",
   "execution_count": 98,
   "id": "c5d713c8",
   "metadata": {},
   "outputs": [
    {
     "name": "stdout",
     "output_type": "stream",
     "text": [
      "[2. 5. 8.]\n",
      "[2. 5. 8.]\n"
     ]
    }
   ],
   "source": [
    "print(a.mean(axis=1))\n",
    "print(np.mean(a, axis=1))"
   ]
  },
  {
   "cell_type": "markdown",
   "id": "fc7502cc",
   "metadata": {},
   "source": [
    "중위수: np.median(배열, axis)"
   ]
  },
  {
   "cell_type": "code",
   "execution_count": 103,
   "id": "17dc4e66",
   "metadata": {},
   "outputs": [
    {
     "name": "stdout",
     "output_type": "stream",
     "text": [
      "5.0\n",
      "5.0\n",
      "[4. 5. 6.]\n",
      "[2. 5. 8.]\n"
     ]
    }
   ],
   "source": [
    "print(np.median(a))\n",
    "print(np.median(a, axis=None))\n",
    "print(np.median(a, axis=0))\n",
    "print(np.median(a, axis=1))"
   ]
  },
  {
   "cell_type": "markdown",
   "id": "99c8ce04",
   "metadata": {},
   "source": [
    "표준편차: 배열.std(axis), np.std(배열, axis)"
   ]
  },
  {
   "cell_type": "code",
   "execution_count": 104,
   "id": "1e589ed7",
   "metadata": {},
   "outputs": [
    {
     "name": "stdout",
     "output_type": "stream",
     "text": [
      "2.581988897471611\n",
      "2.581988897471611\n",
      "2.581988897471611\n",
      "2.581988897471611\n"
     ]
    }
   ],
   "source": [
    "print(a.std())\n",
    "print(np.std(a))\n",
    "print(a.std(axis=None))\n",
    "print(np.std(a, axis=None))"
   ]
  },
  {
   "cell_type": "code",
   "execution_count": 105,
   "id": "33715f72",
   "metadata": {},
   "outputs": [
    {
     "name": "stdout",
     "output_type": "stream",
     "text": [
      "[2.44948974 2.44948974 2.44948974]\n",
      "[2.44948974 2.44948974 2.44948974]\n"
     ]
    }
   ],
   "source": [
    "print(a.std(axis=0))\n",
    "print(np.std(a, axis=0))"
   ]
  },
  {
   "cell_type": "code",
   "execution_count": 107,
   "id": "5c566eaf",
   "metadata": {},
   "outputs": [
    {
     "name": "stdout",
     "output_type": "stream",
     "text": [
      "[0.81649658 0.81649658 0.81649658]\n",
      "[0.81649658 0.81649658 0.81649658]\n"
     ]
    }
   ],
   "source": [
    "print(a.std(axis=1))\n",
    "print(np.std(a, axis=1))"
   ]
  },
  {
   "cell_type": "markdown",
   "id": "7081d81f",
   "metadata": {},
   "source": [
    "브로드 캐스팅 => 다대일 연산"
   ]
  },
  {
   "cell_type": "code",
   "execution_count": 109,
   "id": "cfc0aed2",
   "metadata": {},
   "outputs": [],
   "source": [
    "# shape이 같은 배열의 이항 연산은 배열 요소별로 실행된다.\n",
    "# 배열의 shape이 다를 경우 배열의 형상을 맞추는 아래 그림과 같은 브로드 캐스팅 과정을 거쳐서 실행된다."
   ]
  },
  {
   "cell_type": "markdown",
   "id": "bc63f7a6",
   "metadata": {},
   "source": [
    "<img src=\"./numpyImage05.jpg\" width=800 align=\"left\"/>"
   ]
  },
  {
   "cell_type": "code",
   "execution_count": 112,
   "id": "481e1920",
   "metadata": {},
   "outputs": [
    {
     "name": "stdout",
     "output_type": "stream",
     "text": [
      "[[ 1  2  3  4  5  6]\n",
      " [ 7  8  9 10 11 12]\n",
      " [13 14 15 16 17 18]\n",
      " [19 20 21 22 23 24]]\n",
      "[[25 26 27 28 29 30]\n",
      " [31 32 33 34 35 36]\n",
      " [37 38 39 40 41 42]\n",
      " [43 44 45 46 47 48]]\n"
     ]
    }
   ],
   "source": [
    "a = np.arange(1, 25).reshape(4, 6)\n",
    "print(a)\n",
    "b = np.arange(25, 49).reshape(4, 6)\n",
    "print(b)"
   ]
  },
  {
   "cell_type": "code",
   "execution_count": 113,
   "id": "954ac99a",
   "metadata": {},
   "outputs": [
    {
     "name": "stdout",
     "output_type": "stream",
     "text": [
      "[[26 28 30 32 34 36]\n",
      " [38 40 42 44 46 48]\n",
      " [50 52 54 56 58 60]\n",
      " [62 64 66 68 70 72]]\n"
     ]
    }
   ],
   "source": [
    "# 두 배열의 shape이 같은 경우\n",
    "print(a + b)"
   ]
  },
  {
   "cell_type": "markdown",
   "id": "c36e671d",
   "metadata": {},
   "source": [
    "shape이 다른 배열의 연산  \n",
    "shape이 다른 배열 사이의 이항 연산에서 브로드 캐스팅 발생 시 배열을 같은 shape으로 만든 후 연산을 실행한다."
   ]
  },
  {
   "cell_type": "code",
   "execution_count": 115,
   "id": "12700117",
   "metadata": {},
   "outputs": [
    {
     "name": "stdout",
     "output_type": "stream",
     "text": [
      "[[ 1  2  3  4  5  6]\n",
      " [ 7  8  9 10 11 12]\n",
      " [13 14 15 16 17 18]\n",
      " [19 20 21 22 23 24]]\n",
      "[[101 102 103 104 105 106]\n",
      " [107 108 109 110 111 112]\n",
      " [113 114 115 116 117 118]\n",
      " [119 120 121 122 123 124]]\n"
     ]
    }
   ],
   "source": [
    "# 배열과 스칼라(단일 값)의 연산\n",
    "# 배열과 스칼라 사이의 이항 연산 시 스칼라를 배열로 변환한다.\n",
    "a = np.arange(1, 25).reshape(4, 6)\n",
    "print(a)\n",
    "print(a + 100)"
   ]
  },
  {
   "cell_type": "code",
   "execution_count": 117,
   "id": "59a11991",
   "metadata": {},
   "outputs": [
    {
     "name": "stdout",
     "output_type": "stream",
     "text": [
      "[[100 100 100 100 100 100]\n",
      " [100 100 100 100 100 100]\n",
      " [100 100 100 100 100 100]\n",
      " [100 100 100 100 100 100]]\n",
      "[[101 102 103 104 105 106]\n",
      " [107 108 109 110 111 112]\n",
      " [113 114 115 116 117 118]\n",
      " [119 120 121 122 123 124]]\n"
     ]
    }
   ],
   "source": [
    "# a + 100은 다음과 같은 과정을 거쳐 처리된다.\n",
    "new_arr = np.full_like(a, 100)\n",
    "print(new_arr)\n",
    "print(a + new_arr)"
   ]
  },
  {
   "cell_type": "code",
   "execution_count": 121,
   "id": "417a3dd1",
   "metadata": {},
   "outputs": [
    {
     "name": "stdout",
     "output_type": "stream",
     "text": [
      "[[0 1 2 3 4]]\n",
      "[[0]\n",
      " [1]\n",
      " [2]\n",
      " [3]\n",
      " [4]]\n",
      "[[0 1 2 3 4]\n",
      " [1 2 3 4 5]\n",
      " [2 3 4 5 6]\n",
      " [3 4 5 6 7]\n",
      " [4 5 6 7 8]]\n"
     ]
    }
   ],
   "source": [
    "# shape이 다른 배열의 연산\n",
    "a = np.arange(5).reshape(1, 5)\n",
    "print(a)\n",
    "b = np.arange(5).reshape(5, 1)\n",
    "print(b)\n",
    "print(a + b)"
   ]
  },
  {
   "cell_type": "markdown",
   "id": "2b7ab616",
   "metadata": {},
   "source": [
    "벡터 연산"
   ]
  },
  {
   "cell_type": "code",
   "execution_count": 122,
   "id": "4d672d19",
   "metadata": {},
   "outputs": [
    {
     "name": "stdout",
     "output_type": "stream",
     "text": [
      "[       1        2        3 ...  9999998  9999999 10000000]\n"
     ]
    }
   ],
   "source": [
    "# 넘파이는 벡터 연산을 지원한다.\n",
    "# 넘파이의 집합 연산에서는 벡터화 기능이 있어서 배열 처리에 대해 벡터 연산을 적용할 경우 속도가 100배 이상 빠르다.\n",
    "# 머신러닝에서 선형대수 연산을 처리할 때 매우 높은 효과(효율)을 낼 수 있다.\n",
    "a = np.arange(1, 10000001, dtype=np.int64)\n",
    "print(a)"
   ]
  },
  {
   "cell_type": "code",
   "execution_count": 126,
   "id": "442b1b98",
   "metadata": {},
   "outputs": [
    {
     "name": "stdout",
     "output_type": "stream",
     "text": [
      "50000005000000\n",
      "Wall time: 2.91 s\n"
     ]
    }
   ],
   "source": [
    "%%time\n",
    "result = 0\n",
    "for i in a:\n",
    "    result += i\n",
    "print(result)"
   ]
  },
  {
   "cell_type": "code",
   "execution_count": 128,
   "id": "9313b78b",
   "metadata": {},
   "outputs": [
    {
     "name": "stdout",
     "output_type": "stream",
     "text": [
      "50000005000000\n",
      "Wall time: 15 ms\n"
     ]
    }
   ],
   "source": [
    "%%time\n",
    "result = np.sum(a)\n",
    "print(result)"
   ]
  },
  {
   "cell_type": "markdown",
   "id": "95692b72",
   "metadata": {},
   "source": [
    "배열 복사"
   ]
  },
  {
   "cell_type": "code",
   "execution_count": 129,
   "id": "f481fc74",
   "metadata": {},
   "outputs": [],
   "source": [
    "# ndarray 배열에 대한 인덱싱, 슬라이싱(subset)의 결과는 새로운 배열이 아닌 원본 배열의 view 이다.\n",
    "# 반환된 배열의 값을 변경하면 원본 배열에 변경한 내용이 반영된다. => 원본과 사본이 같은 메모리를 사용한다.\n",
    "# 따라서, 원본 배열로 부터 새로운 배열을 생성하기 위해서 copy() 함수를 사용해야 한다.\n",
    "# copy() 함수로 복사한 배열은 원본 배열과 완전히 다른 별도의 배열이 된다."
   ]
  },
  {
   "cell_type": "code",
   "execution_count": 130,
   "id": "8e92e335",
   "metadata": {},
   "outputs": [
    {
     "name": "stdout",
     "output_type": "stream",
     "text": [
      "[[1 2 3]\n",
      " [4 5 6]\n",
      " [7 8 9]]\n"
     ]
    }
   ],
   "source": [
    "a = np.arange(1, 10).reshape(3, 3)\n",
    "print(a)"
   ]
  },
  {
   "cell_type": "code",
   "execution_count": 133,
   "id": "6f1d89e8",
   "metadata": {},
   "outputs": [
    {
     "name": "stdout",
     "output_type": "stream",
     "text": [
      "[1 4 7]\n"
     ]
    }
   ],
   "source": [
    "# 행에 ':'만 사용하면 처음부터 끝까지(어떤 행이라도 상관없이, 행 전체)를 의미한다.\n",
    "print(a[:, 0]) # 행은 어떤 행이 나와도 상관없고 열은 무조건 0열을 슬라이싱 한다."
   ]
  },
  {
   "cell_type": "code",
   "execution_count": 134,
   "id": "3f310086",
   "metadata": {},
   "outputs": [
    {
     "name": "stdout",
     "output_type": "stream",
     "text": [
      "[999 999 999]\n"
     ]
    }
   ],
   "source": [
    "a[:, 0] = 999\n",
    "print(a[:, 0])"
   ]
  },
  {
   "cell_type": "code",
   "execution_count": 135,
   "id": "891eccf8",
   "metadata": {},
   "outputs": [
    {
     "name": "stdout",
     "output_type": "stream",
     "text": [
      "[[999   2   3]\n",
      " [999   5   6]\n",
      " [999   8   9]]\n"
     ]
    }
   ],
   "source": [
    "print(a)"
   ]
  },
  {
   "cell_type": "code",
   "execution_count": 136,
   "id": "f053676b",
   "metadata": {},
   "outputs": [
    {
     "name": "stdout",
     "output_type": "stream",
     "text": [
      "[[999   2   3]\n",
      " [999   5   6]\n",
      " [999   8   9]]\n"
     ]
    }
   ],
   "source": [
    "copied_a = np.copy(a)\n",
    "print(copied_a)"
   ]
  },
  {
   "cell_type": "code",
   "execution_count": 137,
   "id": "662ad700",
   "metadata": {},
   "outputs": [
    {
     "name": "stdout",
     "output_type": "stream",
     "text": [
      "[999 999 999]\n"
     ]
    }
   ],
   "source": [
    "print(copied_a[:, 0])"
   ]
  },
  {
   "cell_type": "code",
   "execution_count": 139,
   "id": "ecc74371",
   "metadata": {},
   "outputs": [
    {
     "name": "stdout",
     "output_type": "stream",
     "text": [
      "[777 777 777]\n"
     ]
    }
   ],
   "source": [
    "copied_a[:, 0] = 777\n",
    "print(copied_a[:, 0])"
   ]
  },
  {
   "cell_type": "code",
   "execution_count": 142,
   "id": "f7383245",
   "metadata": {},
   "outputs": [
    {
     "name": "stdout",
     "output_type": "stream",
     "text": [
      "[[777   2   3]\n",
      " [777   5   6]\n",
      " [777   8   9]]\n"
     ]
    }
   ],
   "source": [
    "print(copied_a)"
   ]
  },
  {
   "cell_type": "code",
   "execution_count": 144,
   "id": "573dc2ca",
   "metadata": {},
   "outputs": [
    {
     "name": "stdout",
     "output_type": "stream",
     "text": [
      "[[999   2   3]\n",
      " [999   5   6]\n",
      " [999   8   9]]\n"
     ]
    }
   ],
   "source": [
    "print(a)"
   ]
  },
  {
   "cell_type": "markdown",
   "id": "917c7b0b",
   "metadata": {},
   "source": [
    "배열 정렬"
   ]
  },
  {
   "cell_type": "code",
   "execution_count": null,
   "id": "2d03bf70",
   "metadata": {},
   "outputs": [],
   "source": [
    "# ndarray 객체는 axis를 기준으로 요소를 정렬하는 sort() 함수를 제공한다."
   ]
  },
  {
   "cell_type": "code",
   "execution_count": 147,
   "id": "86618851",
   "metadata": {},
   "outputs": [
    {
     "name": "stdout",
     "output_type": "stream",
     "text": [
      "[[0.95354985 0.21097842 0.36052525]\n",
      " [0.54937526 0.27183085 0.46060162]\n",
      " [0.69616156 0.5003559  0.71607099]]\n"
     ]
    }
   ],
   "source": [
    "unsorted_arr = np.random.random((3, 3))\n",
    "print(unsorted_arr)"
   ]
  },
  {
   "cell_type": "code",
   "execution_count": 148,
   "id": "2d0e2f87",
   "metadata": {},
   "outputs": [],
   "source": [
    "# 정렬 작업을 위해 원본을 복사한다.\n",
    "unsorted_arr1 = unsorted_arr.copy()\n",
    "unsorted_arr2 = unsorted_arr.copy()\n",
    "unsorted_arr3 = unsorted_arr.copy()"
   ]
  },
  {
   "cell_type": "code",
   "execution_count": 149,
   "id": "d5c80050",
   "metadata": {},
   "outputs": [],
   "source": [
    "# 배열.sort()\n",
    "# sort() 함수는 axis으 기본값이 None이 아니고 -1이다.\n",
    "# -1은 현재 배열의 마지막 axis를 의미하고 unsorted_arr 배열은 2차원 배열이므로 마지막 axis는 1이다.\n",
    "# 배열.sort()와 배열.sort(axis=-1)와 배열.sort(axis=1)의 결과는 같다."
   ]
  },
  {
   "cell_type": "code",
   "execution_count": 150,
   "id": "24417fb4",
   "metadata": {},
   "outputs": [
    {
     "name": "stdout",
     "output_type": "stream",
     "text": [
      "[[0.21097842 0.36052525 0.95354985]\n",
      " [0.27183085 0.46060162 0.54937526]\n",
      " [0.5003559  0.69616156 0.71607099]]\n"
     ]
    }
   ],
   "source": [
    "unsorted_arr1.sort()\n",
    "print(unsorted_arr1)"
   ]
  },
  {
   "cell_type": "code",
   "execution_count": 151,
   "id": "b8fcdfa9",
   "metadata": {},
   "outputs": [
    {
     "name": "stdout",
     "output_type": "stream",
     "text": [
      "[[0.21097842 0.36052525 0.95354985]\n",
      " [0.27183085 0.46060162 0.54937526]\n",
      " [0.5003559  0.69616156 0.71607099]]\n"
     ]
    }
   ],
   "source": [
    "unsorted_arr1.sort(axis=-1)\n",
    "print(unsorted_arr1)"
   ]
  },
  {
   "cell_type": "code",
   "execution_count": 152,
   "id": "e19bf069",
   "metadata": {},
   "outputs": [
    {
     "name": "stdout",
     "output_type": "stream",
     "text": [
      "[[0.21097842 0.36052525 0.95354985]\n",
      " [0.27183085 0.46060162 0.54937526]\n",
      " [0.5003559  0.69616156 0.71607099]]\n"
     ]
    }
   ],
   "source": [
    "unsorted_arr1.sort(axis=1)\n",
    "print(unsorted_arr1)"
   ]
  },
  {
   "cell_type": "code",
   "execution_count": 153,
   "id": "121dfcbf",
   "metadata": {},
   "outputs": [
    {
     "name": "stdout",
     "output_type": "stream",
     "text": [
      "[[0.21097842 0.36052525 0.54937526]\n",
      " [0.27183085 0.46060162 0.71607099]\n",
      " [0.5003559  0.69616156 0.95354985]]\n"
     ]
    }
   ],
   "source": [
    "unsorted_arr1.sort(axis=0)\n",
    "print(unsorted_arr1)"
   ]
  },
  {
   "cell_type": "code",
   "execution_count": null,
   "id": "7521f288",
   "metadata": {},
   "outputs": [],
   "source": []
  },
  {
   "cell_type": "code",
   "execution_count": null,
   "id": "d2fcd498",
   "metadata": {},
   "outputs": [],
   "source": []
  },
  {
   "cell_type": "code",
   "execution_count": null,
   "id": "f1afc661",
   "metadata": {},
   "outputs": [],
   "source": []
  }
 ],
 "metadata": {
  "kernelspec": {
   "display_name": "Python 3",
   "language": "python",
   "name": "python3"
  },
  "language_info": {
   "codemirror_mode": {
    "name": "ipython",
    "version": 3
   },
   "file_extension": ".py",
   "mimetype": "text/x-python",
   "name": "python",
   "nbconvert_exporter": "python",
   "pygments_lexer": "ipython3",
   "version": "3.6.8"
  }
 },
 "nbformat": 4,
 "nbformat_minor": 5
}
