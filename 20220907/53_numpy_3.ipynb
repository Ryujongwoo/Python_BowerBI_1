{
 "cells": [
  {
   "cell_type": "code",
   "execution_count": 1,
   "id": "adea1dde",
   "metadata": {},
   "outputs": [],
   "source": [
    "import numpy as np\n",
    "\n",
    "def pprint(arr):\n",
    "    print('type: {}'.format(type(arr)))\n",
    "    print('shape: {}, dimension: {}, dtype: {}'.format(arr.shape, arr.ndim, arr.dtype))\n",
    "    print('data\\n', arr)"
   ]
  },
  {
   "cell_type": "markdown",
   "id": "5b2d5bfe",
   "metadata": {},
   "source": [
    "인덱싱"
   ]
  },
  {
   "cell_type": "code",
   "execution_count": 2,
   "id": "921de283",
   "metadata": {},
   "outputs": [],
   "source": [
    "# 배열의 각 요소는 axis 인덱스로 참조할 수 있다.\n",
    "# 1차원 배열은 1개의 인덱스, 2차원 배열은 2개의 인덱스, 3차원 배열은 3개의 인덱스 요소를 참조할 수 있다.\n",
    "# 인덱싱 작업시 [행][열]과 같이 인덱스를 지정하거나 [행, 열]과 같이 인덱스를 지정할 수 있다."
   ]
  },
  {
   "cell_type": "code",
   "execution_count": 3,
   "id": "82e8d7fe",
   "metadata": {},
   "outputs": [
    {
     "name": "stdout",
     "output_type": "stream",
     "text": [
      "[ 0  1  2  3  4  5  6  7  8  9 10 11 12 13 14 15 16 17 18 19 20 21 22 23]\n",
      "5\n",
      "[10000     1     2     3     4     5     6     7     8     9    10    11\n",
      "    12    13    14    15    16    17    18    19    20    21    22    23]\n"
     ]
    }
   ],
   "source": [
    "# 1차원 배열\n",
    "a = np.arange(24)\n",
    "print(a)\n",
    "# 1차원 배열 요소 참조 및 변경\n",
    "print(a[5])\n",
    "a[0] = 10000\n",
    "print(a)"
   ]
  },
  {
   "cell_type": "code",
   "execution_count": 4,
   "id": "89b31339",
   "metadata": {},
   "outputs": [
    {
     "name": "stdout",
     "output_type": "stream",
     "text": [
      "[[ 0  1  2  3  4  5]\n",
      " [ 6  7  8  9 10 11]\n",
      " [12 13 14 15 16 17]\n",
      " [18 19 20 21 22 23]]\n",
      "1\n",
      "1\n",
      "[[    0 10000     2     3     4     5]\n",
      " [    6     7     8     9    10    11]\n",
      " [   12    13    14    15 20000    17]\n",
      " [   18    19    20    21    22    23]]\n"
     ]
    }
   ],
   "source": [
    "# 2차원 배열\n",
    "a = np.arange(24).reshape(4, 6)\n",
    "print(a)\n",
    "# 2차원 배열 요소 참조 및 변경\n",
    "print(a[0][1])\n",
    "print(a[0, 1])\n",
    "a[0][1] = 10000\n",
    "a[2, 4] = 20000\n",
    "print(a)"
   ]
  },
  {
   "cell_type": "code",
   "execution_count": 5,
   "id": "2aabdd6b",
   "metadata": {},
   "outputs": [
    {
     "name": "stdout",
     "output_type": "stream",
     "text": [
      "[[[ 0  1  2]\n",
      "  [ 3  4  5]\n",
      "  [ 6  7  8]\n",
      "  [ 9 10 11]]\n",
      "\n",
      " [[12 13 14]\n",
      "  [15 16 17]\n",
      "  [18 19 20]\n",
      "  [21 22 23]]]\n",
      "7\n",
      "20\n",
      "[[[    0     1     2]\n",
      "  [    3     4     5]\n",
      "  [    6 99999     8]\n",
      "  [    9    10    11]]\n",
      "\n",
      " [[   12    13    14]\n",
      "  [   15    16    17]\n",
      "  [   18    19 77777]\n",
      "  [   21    22    23]]]\n"
     ]
    }
   ],
   "source": [
    "# 3차원 배열\n",
    "a = np.arange(24).reshape(2, 4, 3)\n",
    "print(a)\n",
    "# 3차원 배열 요소 참조 및 변경\n",
    "print(a[0][2][1])\n",
    "print(a[1, 2, 2])\n",
    "a[0][2][1] = 99999\n",
    "a[1, 2, 2] = 77777\n",
    "print(a)"
   ]
  },
  {
   "cell_type": "markdown",
   "id": "9661a0ac",
   "metadata": {},
   "source": [
    "슬라이싱"
   ]
  },
  {
   "cell_type": "code",
   "execution_count": 6,
   "id": "29100b03",
   "metadata": {},
   "outputs": [
    {
     "name": "stdout",
     "output_type": "stream",
     "text": [
      "[ 0  1  2  3  4  5  6  7  8  9 10 11 12 13 14 15 16 17 18 19 20 21 22 23]\n",
      "[2 3 4 5]\n",
      "[0 1 2 3 4 5]\n",
      "[ 2  3  4  5  6  7  8  9 10 11 12 13 14 15 16 17 18 19 20 21 22 23]\n",
      "[ 0  1  2  3  4  5  6  7  8  9 10 11 12 13 14 15 16 17 18 19 20 21 22 23]\n",
      "[ 0  2  4  6  8 10 12 14 16 18 20 22]\n",
      "[23 22 21 20 19 18 17 16 15 14 13 12 11 10  9  8  7  6  5  4  3  2  1  0]\n"
     ]
    }
   ],
   "source": [
    "# 1차원 슬라이싱\n",
    "a = np.arange(24)\n",
    "print(a)\n",
    "print(a[2:6])\n",
    "print(a[:6])\n",
    "print(a[2:])\n",
    "print(a[:])\n",
    "print(a[::2])\n",
    "print(a[::-1])"
   ]
  },
  {
   "cell_type": "code",
   "execution_count": 7,
   "id": "f6181252",
   "metadata": {},
   "outputs": [
    {
     "name": "stdout",
     "output_type": "stream",
     "text": [
      "[[ 1  2  3  4  5  6]\n",
      " [ 7  8  9 10 11 12]\n",
      " [13 14 15 16 17 18]\n",
      " [19 20 21 22 23 24]]\n"
     ]
    }
   ],
   "source": [
    "# 2차원 배열 슬라이싱\n",
    "a = np.arange(1, 25).reshape(4, 6)\n",
    "print(a)"
   ]
  },
  {
   "cell_type": "markdown",
   "id": "6bb82f0e",
   "metadata": {},
   "source": [
    "<img src=\"./numpyImage06.jpg\" width=800 align=\"left\"/>"
   ]
  },
  {
   "cell_type": "code",
   "execution_count": 8,
   "id": "5cfda167",
   "metadata": {},
   "outputs": [
    {
     "name": "stdout",
     "output_type": "stream",
     "text": [
      "[[ 7  8  9 10 11 12]\n",
      " [13 14 15 16 17 18]]\n",
      "[[ 2  3  4]\n",
      " [ 8  9 10]\n",
      " [14 15 16]\n",
      " [20 21 22]]\n",
      "[[ 8  9 10 11]\n",
      " [14 15 16 17]]\n"
     ]
    }
   ],
   "source": [
    "# 2차원 배열을 슬라이싱 할 때 열을 슬라이싱하려면 [] 내부에 행과 열을 모두 입력해야 한다.\n",
    "print(a[1:3]) # 행 단위로 슬라이싱을 하려면 열을 생략하면 된다.\n",
    "print(a[:, 1:4]) # 열 단위로 슬라이싱을 하려면 행을 생략할 수 없고 ':'을 써야한다.\n",
    "print(a[1:3, 1:5])"
   ]
  },
  {
   "cell_type": "code",
   "execution_count": 9,
   "id": "37d72124",
   "metadata": {},
   "outputs": [
    {
     "name": "stdout",
     "output_type": "stream",
     "text": [
      "[[ 7  8  9 10 11 12]\n",
      " [13 14 15 16 17 18]]\n",
      "[[13 14 15 16 17 18]]\n",
      "[[13 14 15 16 17 18]]\n",
      "[[ 7  8  9 10 11 12]\n",
      " [13 14 15 16 17 18]\n",
      " [19 20 21 22 23 24]]\n"
     ]
    }
   ],
   "source": [
    "print(a[1:3])\n",
    "# 슬라이싱 작업시 []를 연속해서 사용하면 앞의 슬라이싱 결과를 가지고 뒤의 슬라이싱을 실행한다.\n",
    "# 아래와 같이 실행하면 a[1:3]가 먼저 실행되고 실행된 결과를 가지고 [1:5]을 행으로 인식해서 슬라이싱 한다.\n",
    "# [행][열]과 같은 방식으로는 2차원 배열 이상의 인덱싱이 불가능하므로 반드시 [행, 열]과 같은 방식을\n",
    "# 사용해야 한다.\n",
    "print(a[1:3][1:5])\n",
    "print((a[1:3])[1:5])\n",
    "print(a[:][1:4]) # '[:]'는 배열 전체이고, 배열 전체에서 [1:4]를 행으로 인식해서 슬라이싱한다."
   ]
  },
  {
   "cell_type": "code",
   "execution_count": 10,
   "id": "def3d25c",
   "metadata": {},
   "outputs": [
    {
     "name": "stdout",
     "output_type": "stream",
     "text": [
      "[[ 8  9 10 11]\n",
      " [14 15 16 17]]\n"
     ]
    }
   ],
   "source": [
    "# 음수 인덱싱을 이용한 범위 지정: -1은 마지막 요소의 인덱스이다.\n",
    "print(a[1:-1, 1:-1])"
   ]
  },
  {
   "cell_type": "markdown",
   "id": "e68094cb",
   "metadata": {},
   "source": [
    "<img src=\"./numpyImage07.jpg\" width=800 align=\"left\"/>"
   ]
  },
  {
   "cell_type": "code",
   "execution_count": 11,
   "id": "9e5afe38",
   "metadata": {},
   "outputs": [
    {
     "name": "stdout",
     "output_type": "stream",
     "text": [
      "[[ 1  2  3  4  5  6]\n",
      " [ 7  8  9 10 11 12]\n",
      " [13 14 15 16 17 18]\n",
      " [19 20 21 22 23 24]]\n",
      "[[ 8  9 10 11]\n",
      " [14 15 16 17]]\n",
      "[[ 9 10]\n",
      " [15 16]]\n",
      "[[99999 99999]\n",
      " [99999 99999]]\n",
      "[[    8 99999 99999    11]\n",
      " [   14 99999 99999    17]]\n",
      "[[    1     2     3     4     5     6]\n",
      " [    7     8 99999 99999    11    12]\n",
      " [   13    14 99999 99999    17    18]\n",
      " [   19    20    21    22    23    24]]\n"
     ]
    }
   ],
   "source": [
    "# 슬라이싱을 이용한 데이터 수정\n",
    "print(a)\n",
    "slide_arr = a[1:3, 1:5]\n",
    "print(slide_arr)\n",
    "print(slide_arr[:, 1:3])\n",
    "# 슬라이싱의 결과는 원본의 view이므로(메모리를 공유한다) 슬라이싱 결과를 수정하면 원본도 같이 수정된다.\n",
    "slide_arr[:, 1:3] = 99999\n",
    "print(slide_arr[:, 1:3])\n",
    "print(slide_arr)\n",
    "print(a)"
   ]
  },
  {
   "cell_type": "markdown",
   "id": "255e0815",
   "metadata": {},
   "source": [
    "불린 인덱싱 => 전체 데이터에서 특정 조건을 만족하는 데이터를 추출할 경우 많이 사용된다.  \n",
    "넘파이의 불린 인덱싱은 각 배열 요소의 선택 여부를 True, False로 지정하는 방식으로 True를 선택한다."
   ]
  },
  {
   "cell_type": "code",
   "execution_count": 12,
   "id": "d2d7100a",
   "metadata": {},
   "outputs": [
    {
     "name": "stdout",
     "output_type": "stream",
     "text": [
      "[[ 1  2  3  4  5  6]\n",
      " [ 7  8  9 10 11 12]\n",
      " [13 14 15 16 17 18]\n",
      " [19 20 21 22 23 24]]\n"
     ]
    }
   ],
   "source": [
    "a = np.arange(1, 25).reshape(4, 6)\n",
    "print(a)"
   ]
  },
  {
   "cell_type": "code",
   "execution_count": 13,
   "id": "473fc588",
   "metadata": {},
   "outputs": [
    {
     "name": "stdout",
     "output_type": "stream",
     "text": [
      "[[1 0 1 0 1 0]\n",
      " [1 0 1 0 1 0]\n",
      " [1 0 1 0 1 0]\n",
      " [1 0 1 0 1 0]]\n",
      "[[False  True False  True False  True]\n",
      " [False  True False  True False  True]\n",
      " [False  True False  True False  True]\n",
      " [False  True False  True False  True]]\n"
     ]
    }
   ],
   "source": [
    "# a 배열에서 요소의 값이 짝수인 요소의 총 합계\n",
    "even_arr = a % 2 # 브로드 캐스팅\n",
    "print(even_arr)\n",
    "even_arr = a % 2 == 0 # 불린 인덱싱을 하기위해 연산 결과를 논리값을 만든다.\n",
    "print(even_arr)"
   ]
  },
  {
   "cell_type": "code",
   "execution_count": 14,
   "id": "58a72d74",
   "metadata": {},
   "outputs": [
    {
     "name": "stdout",
     "output_type": "stream",
     "text": [
      "[ 2  4  6  8 10 12 14 16 18 20 22 24]\n",
      "[ 2  4  6  8 10 12 14 16 18 20 22 24]\n"
     ]
    }
   ],
   "source": [
    "print(a[a % 2 == 0])\n",
    "print(a[even_arr])"
   ]
  },
  {
   "cell_type": "code",
   "execution_count": 15,
   "id": "be118f9e",
   "metadata": {},
   "outputs": [
    {
     "name": "stdout",
     "output_type": "stream",
     "text": [
      "300\n",
      "156\n",
      "144\n"
     ]
    }
   ],
   "source": [
    "print(np.sum(a))\n",
    "print(np.sum(a[a % 2 == 0]))\n",
    "print(np.sum(a[a % 2 == 1]))"
   ]
  },
  {
   "cell_type": "markdown",
   "id": "5f9098b6",
   "metadata": {},
   "source": [
    "배열 변환  \n",
    "배열을 변환하는 방법은 전치, 배열 shape 변환, 배열 요소 추가, 배열 분리 등이 있다."
   ]
  },
  {
   "cell_type": "code",
   "execution_count": 16,
   "id": "213ae10e",
   "metadata": {},
   "outputs": [],
   "source": [
    "# 전치는 행렬의 인덱스가 바뀌는 것이다."
   ]
  },
  {
   "cell_type": "markdown",
   "id": "1ed3dbeb",
   "metadata": {},
   "source": [
    "<img src=\"./numpyImage08.jpg\" width=200 align=\"left\"/>"
   ]
  },
  {
   "cell_type": "code",
   "execution_count": 17,
   "id": "0a4c4984",
   "metadata": {},
   "outputs": [
    {
     "name": "stdout",
     "output_type": "stream",
     "text": [
      "[[1 2 3]\n",
      " [4 5 6]]\n",
      "[[1 4]\n",
      " [2 5]\n",
      " [3 6]]\n"
     ]
    }
   ],
   "source": [
    "# 넘파이에서 배열을 전치하기 위해 배열.T 속성을 사용한다.\n",
    "a = np.arange(1, 7).reshape(2, 3)\n",
    "print(a)\n",
    "print(a.T) # 소문자 't'를 사용하면 에러가 발생된다."
   ]
  },
  {
   "cell_type": "code",
   "execution_count": 18,
   "id": "006bf487",
   "metadata": {},
   "outputs": [],
   "source": [
    "# 배열 형태 변경\n",
    "# 넘파이는 배열의 shape을 변경하는 reshape() 메소드와 ravel() 메소드를 제공한다.\n",
    "# reshape() 메소드는 데이터 변경없이 지정된 shape으로 배열의 형태를 변환한다.\n",
    "# ravel() 함수는 배열의 shape을 무조건 1차원 배열로 변환한다."
   ]
  },
  {
   "cell_type": "code",
   "execution_count": 19,
   "id": "4ff4fa45",
   "metadata": {},
   "outputs": [
    {
     "name": "stdout",
     "output_type": "stream",
     "text": [
      "[[ 1  2  3  4  5  6  7  8  9 10 11 12]]\n",
      "[[ 1  2  3  4  5  6]\n",
      " [ 7  8  9 10 11 12]]\n",
      "[[ 1  2  3  4  5  6  7  8  9 10 11 12]]\n",
      "[[ 1  2  3  4  5  6]\n",
      " [ 7  8  9 10 11 12]]\n",
      "[ 1  2  3  4  5  6  7  8  9 10 11 12]\n",
      "[[ 1  2  3  4  5  6]\n",
      " [ 7  8  9 10 11 12]]\n",
      "[ 1  2  3  4  5  6  7  8  9 10 11 12]\n"
     ]
    }
   ],
   "source": [
    "a = np.arange(1, 13).reshape(1, 12)\n",
    "print(a)\n",
    "print(a.reshape(2, 6)) # 배열의 차원을 변경해서 보여주기만 한다.\n",
    "print(a)\n",
    "a = a.reshape(2, 6) # 원본이 변경되게 하려면 변경한 결과를 다시 넣어줘야 한다.\n",
    "print(a)\n",
    "print(a.ravel()) # 배열의 차원을 변경해서 보여주기만 한다.\n",
    "print(a)\n",
    "a = a.ravel() # 원본이 변경되게 하려면 변경한 결과를 다시 넣어줘야 한다.\n",
    "print(a)"
   ]
  },
  {
   "cell_type": "code",
   "execution_count": 20,
   "id": "15bdc4bc",
   "metadata": {},
   "outputs": [
    {
     "name": "stdout",
     "output_type": "stream",
     "text": [
      "[[ 1  2  3  4  5  6  7  8  9 10 11 12]]\n",
      "[ 1  2  3  4  5  6  7  8  9 10 11 12]\n",
      "[99999     2     3     4     5     6     7     8     9    10    11    12]\n",
      "[[99999     2     3     4     5     6     7     8     9    10    11    12]]\n"
     ]
    }
   ],
   "source": [
    "# ravel() 함수도 인덱싱, 슬라이싱의 경우처럼 원본 배열의 view를 보여준다.\n",
    "# ravel() 함수가 반환한 배열을 수정하면 원본 배열의 내용이 같이 수정된다.\n",
    "a = np.arange(1, 13).reshape(1, 12)\n",
    "print(a)\n",
    "b = a.ravel()\n",
    "print(b)\n",
    "b[0] = 99999\n",
    "print(b)\n",
    "print(a)"
   ]
  },
  {
   "cell_type": "code",
   "execution_count": 21,
   "id": "50c51269",
   "metadata": {},
   "outputs": [
    {
     "name": "stdout",
     "output_type": "stream",
     "text": [
      "[[ 1  2  3  4  5  6  7  8  9 10 11 12]]\n",
      "[[[ 1  2]\n",
      "  [ 3  4]]\n",
      "\n",
      " [[ 5  6]\n",
      "  [ 7  8]]\n",
      "\n",
      " [[ 9 10]\n",
      "  [11 12]]]\n",
      "[[[    1     2]\n",
      "  [    3     4]]\n",
      "\n",
      " [[    5 99999]\n",
      "  [    7     8]]\n",
      "\n",
      " [[    9    10]\n",
      "  [   11    12]]]\n",
      "[[    1     2     3     4     5 99999     7     8     9    10    11    12]]\n"
     ]
    }
   ],
   "source": [
    "# reshape() 함수도 인덱싱, 슬라이싱의 경우처럼 원본 배열의 view를 보여준다.\n",
    "# reshape() 함수가 반환한 배열을 수정하면 원본 배열의 내용이 같이 수정된다.\n",
    "a = np.arange(1, 13).reshape(1, 12)\n",
    "print(a)\n",
    "b = a.reshape(3, 2, 2)\n",
    "print(b)\n",
    "b[1][0][1] = 99999\n",
    "print(b)\n",
    "print(a)"
   ]
  },
  {
   "cell_type": "code",
   "execution_count": 22,
   "id": "d1889220",
   "metadata": {},
   "outputs": [],
   "source": [
    "# resize() 메소드는 배열의 shape과 크기를 변경한다.\n",
    "# np.resize(배열, new_shape), 배열.resize(new_shape)\n",
    "# resize()와 reshape() 메소드는 shape을 변경한다는 부분에서는 동일하지만 reshape() 메소드는 요소의 개수가 변경되면\n",
    "# 에러가 발생되지만 resize() 메소드는 shape을 변경하는 과정에서 요소의 개수를 늘이거나 줄일 수 있다."
   ]
  },
  {
   "cell_type": "code",
   "execution_count": 23,
   "id": "6c87ac61",
   "metadata": {},
   "outputs": [
    {
     "name": "stdout",
     "output_type": "stream",
     "text": [
      "[[ 1  2  3  4  5  6  7  8  9 10 11 12]]\n",
      "[[ 1  2]\n",
      " [ 3  4]\n",
      " [ 5  6]\n",
      " [ 7  8]\n",
      " [ 9 10]\n",
      " [11 12]]\n",
      "[[ 1  2  3  4  5  6  7  8  9 10 11 12]]\n",
      "[[ 1  2]\n",
      " [ 3  4]\n",
      " [ 5  6]\n",
      " [ 7  8]\n",
      " [ 9 10]\n",
      " [11 12]]\n"
     ]
    }
   ],
   "source": [
    "a = np.arange(1, 13).reshape(1, 12)\n",
    "print(a)\n",
    "print(np.resize(a, (6, 2))) # 원본을 변경하지 않는다.\n",
    "print(a)\n",
    "a.resize(6, 2) # 원본을 변경한다.\n",
    "print(a)"
   ]
  },
  {
   "cell_type": "code",
   "execution_count": 39,
   "id": "14a1f895",
   "metadata": {},
   "outputs": [
    {
     "name": "stdout",
     "output_type": "stream",
     "text": [
      "[ 1  2  3  4  5  6  7  8  9 10 11 12]\n",
      "[[ 1  2  3  4  5  6  7  8  9 10]\n",
      " [11 12  1  2  3  4  5  6  7  8]]\n",
      "[[ 1  2  3  4  5  6  7  8  9 10]]\n",
      "[[ 1  2  3  4  5  6  7  8  9 10]\n",
      " [11 12  0  0  0  0  0  0  0  0]]\n"
     ]
    }
   ],
   "source": [
    "# a = np.arange(1, 13).reshape(1, 12)\n",
    "a = np.arange(1, 13)\n",
    "# a = np.random.randint(1, 10, (1, 12))\n",
    "print(a)\n",
    "# a.reshape(2, 10) # reshape() 메소드는 원본 요소의 개수와 변경하려는 요소의 개수가 같아야 한다.\n",
    "\n",
    "# np.resize(배열, new_shape) 형식은 실행결과 원붠 데이터가 변경되지 않기 때문에 다른 변수에 저장해 사용한다.\n",
    "# 배열 요소의 개수가 12개에서 20개로 늘어나고 늘어난 요소에는 원본 내용이 반복되서 채워진다.\n",
    "b = np.resize(a, (2, 10))\n",
    "print(b)\n",
    "# 배열 요소의 개수가 12개에서 10개로 줄어들고 남는 데이터는 사라진다.\n",
    "c = np.resize(a, (1, 10))\n",
    "print(c)\n",
    "\n",
    "# 배열.resize(new_shape) 형식은 실행하면 원본 데이터가 변경되므로 원본 그대로 사용하면 된다.\n",
    "# 배열 요소의 개수가 12개에서 20개로 늘어나고 늘어난 요소에는 0이 반복되서 채워진다.\n",
    "# 배열 요소의 개수가 12개에서 10개로 줄어들면 남는 데이터는 사라진다.\n",
    "# reshape이 적용된 배열에는 사용할 수 없다.\n",
    "a.resize(2, 10)\n",
    "print(a)"
   ]
  },
  {
   "cell_type": "code",
   "execution_count": 40,
   "id": "c1de8f10",
   "metadata": {},
   "outputs": [],
   "source": [
    "# append() 메소드는 배열 끝에 데이터(배열)을 추가한다.\n",
    "# axis로 데이터가 추가되는 방향을 지정할 수 있다.\n",
    "# np.append(배열, 추가할 데이터, axis)"
   ]
  },
  {
   "cell_type": "code",
   "execution_count": 43,
   "id": "f9dab95c",
   "metadata": {},
   "outputs": [
    {
     "name": "stdout",
     "output_type": "stream",
     "text": [
      "[[1 2 3]\n",
      " [4 5 6]\n",
      " [7 8 9]]\n",
      "[[10 11 12]\n",
      " [13 14 15]\n",
      " [16 17 18]]\n"
     ]
    }
   ],
   "source": [
    "a = np.arange(1, 10).reshape(3, 3)\n",
    "print(a)\n",
    "b = np.arange(10, 19).reshape(3, 3)\n",
    "print(b)"
   ]
  },
  {
   "cell_type": "code",
   "execution_count": 45,
   "id": "7b241ab0",
   "metadata": {},
   "outputs": [
    {
     "name": "stdout",
     "output_type": "stream",
     "text": [
      "[ 1  2  3  4  5  6  7  8  9 10 11 12 13 14 15 16 17 18]\n"
     ]
    }
   ],
   "source": [
    "# axis를 지정하지 않으면 None으로 지정되며 1차원 배열로 변환되서 결합된다.\n",
    "# result = np.append(a, b, axis=None)\n",
    "result = np.append(a, b)\n",
    "print(result)"
   ]
  },
  {
   "cell_type": "code",
   "execution_count": 53,
   "id": "47e4e59b",
   "metadata": {},
   "outputs": [
    {
     "name": "stdout",
     "output_type": "stream",
     "text": [
      "[[ 1  2  3]\n",
      " [ 4  5  6]\n",
      " [ 7  8  9]\n",
      " [10 11 12]\n",
      " [13 14 15]\n",
      " [16 17 18]]\n",
      "========================================\n",
      "[[19 20 21]\n",
      " [22 23 24]\n",
      " [25 26 27]\n",
      " [28 29 30]]\n",
      "[[ 1  2  3]\n",
      " [ 4  5  6]\n",
      " [ 7  8  9]\n",
      " [19 20 21]\n",
      " [22 23 24]\n",
      " [25 26 27]\n",
      " [28 29 30]]\n",
      "========================================\n",
      "[[19 20 21 22]\n",
      " [23 24 25 26]\n",
      " [27 28 29 30]]\n"
     ]
    },
    {
     "ename": "ValueError",
     "evalue": "all the input array dimensions for the concatenation axis must match exactly, but along dimension 1, the array at index 0 has size 3 and the array at index 1 has size 4",
     "output_type": "error",
     "traceback": [
      "\u001b[1;31m---------------------------------------------------------------------------\u001b[0m",
      "\u001b[1;31mValueError\u001b[0m                                Traceback (most recent call last)",
      "\u001b[1;32m<ipython-input-53-f046ddbaf9c3>\u001b[0m in \u001b[0;36m<module>\u001b[1;34m\u001b[0m\n\u001b[0;32m     13\u001b[0m \u001b[0mc\u001b[0m \u001b[1;33m=\u001b[0m \u001b[0mnp\u001b[0m\u001b[1;33m.\u001b[0m\u001b[0marange\u001b[0m\u001b[1;33m(\u001b[0m\u001b[1;36m19\u001b[0m\u001b[1;33m,\u001b[0m \u001b[1;36m31\u001b[0m\u001b[1;33m)\u001b[0m\u001b[1;33m.\u001b[0m\u001b[0mreshape\u001b[0m\u001b[1;33m(\u001b[0m\u001b[1;36m3\u001b[0m\u001b[1;33m,\u001b[0m \u001b[1;36m4\u001b[0m\u001b[1;33m)\u001b[0m\u001b[1;33m\u001b[0m\u001b[1;33m\u001b[0m\u001b[0m\n\u001b[0;32m     14\u001b[0m \u001b[0mprint\u001b[0m\u001b[1;33m(\u001b[0m\u001b[0mc\u001b[0m\u001b[1;33m)\u001b[0m\u001b[1;33m\u001b[0m\u001b[1;33m\u001b[0m\u001b[0m\n\u001b[1;32m---> 15\u001b[1;33m \u001b[0mresult\u001b[0m \u001b[1;33m=\u001b[0m \u001b[0mnp\u001b[0m\u001b[1;33m.\u001b[0m\u001b[0mappend\u001b[0m\u001b[1;33m(\u001b[0m\u001b[0ma\u001b[0m\u001b[1;33m,\u001b[0m \u001b[0mc\u001b[0m\u001b[1;33m,\u001b[0m \u001b[0maxis\u001b[0m\u001b[1;33m=\u001b[0m\u001b[1;36m0\u001b[0m\u001b[1;33m)\u001b[0m \u001b[1;31m#열의 개수가 달라서 에러가 발생된다.\u001b[0m\u001b[1;33m\u001b[0m\u001b[1;33m\u001b[0m\u001b[0m\n\u001b[0m\u001b[0;32m     16\u001b[0m \u001b[0mprint\u001b[0m\u001b[1;33m(\u001b[0m\u001b[0mresult\u001b[0m\u001b[1;33m)\u001b[0m\u001b[1;33m\u001b[0m\u001b[1;33m\u001b[0m\u001b[0m\n",
      "\u001b[1;32m<__array_function__ internals>\u001b[0m in \u001b[0;36mappend\u001b[1;34m(*args, **kwargs)\u001b[0m\n",
      "\u001b[1;32me:\\python36\\lib\\site-packages\\numpy\\lib\\function_base.py\u001b[0m in \u001b[0;36mappend\u001b[1;34m(arr, values, axis)\u001b[0m\n\u001b[0;32m   4669\u001b[0m         \u001b[0mvalues\u001b[0m \u001b[1;33m=\u001b[0m \u001b[0mravel\u001b[0m\u001b[1;33m(\u001b[0m\u001b[0mvalues\u001b[0m\u001b[1;33m)\u001b[0m\u001b[1;33m\u001b[0m\u001b[1;33m\u001b[0m\u001b[0m\n\u001b[0;32m   4670\u001b[0m         \u001b[0maxis\u001b[0m \u001b[1;33m=\u001b[0m \u001b[0marr\u001b[0m\u001b[1;33m.\u001b[0m\u001b[0mndim\u001b[0m\u001b[1;33m-\u001b[0m\u001b[1;36m1\u001b[0m\u001b[1;33m\u001b[0m\u001b[1;33m\u001b[0m\u001b[0m\n\u001b[1;32m-> 4671\u001b[1;33m     \u001b[1;32mreturn\u001b[0m \u001b[0mconcatenate\u001b[0m\u001b[1;33m(\u001b[0m\u001b[1;33m(\u001b[0m\u001b[0marr\u001b[0m\u001b[1;33m,\u001b[0m \u001b[0mvalues\u001b[0m\u001b[1;33m)\u001b[0m\u001b[1;33m,\u001b[0m \u001b[0maxis\u001b[0m\u001b[1;33m=\u001b[0m\u001b[0maxis\u001b[0m\u001b[1;33m)\u001b[0m\u001b[1;33m\u001b[0m\u001b[1;33m\u001b[0m\u001b[0m\n\u001b[0m\u001b[0;32m   4672\u001b[0m \u001b[1;33m\u001b[0m\u001b[0m\n\u001b[0;32m   4673\u001b[0m \u001b[1;33m\u001b[0m\u001b[0m\n",
      "\u001b[1;32m<__array_function__ internals>\u001b[0m in \u001b[0;36mconcatenate\u001b[1;34m(*args, **kwargs)\u001b[0m\n",
      "\u001b[1;31mValueError\u001b[0m: all the input array dimensions for the concatenation axis must match exactly, but along dimension 1, the array at index 0 has size 3 and the array at index 1 has size 4"
     ]
    }
   ],
   "source": [
    "# axis를 0으로 지정하면 배열의 아래쪽에 배열이 추가(열방항으로)되기 때문에 행의 개수는 달라도 상관없지만\n",
    "# 열의 개수는 반드시 같아야 한다.\n",
    "result = np.append(a, b, axis=0)\n",
    "print(result)\n",
    "print('=' * 40)\n",
    "\n",
    "c = np.arange(19, 31).reshape(4, 3)\n",
    "print(c)\n",
    "result = np.append(a, c, axis=0) # 행의 개수는 달라도 상관없다.\n",
    "print(result)\n",
    "print('=' * 40)\n",
    "\n",
    "c = np.arange(19, 31).reshape(3, 4)\n",
    "print(c)\n",
    "result = np.append(a, c, axis=0) # 열의 개수가 달라서 에러가 발생된다.\n",
    "print(result)"
   ]
  },
  {
   "cell_type": "code",
   "execution_count": 56,
   "id": "b902b8cc",
   "metadata": {},
   "outputs": [
    {
     "name": "stdout",
     "output_type": "stream",
     "text": [
      "[[ 1  2  3 10 11 12]\n",
      " [ 4  5  6 13 14 15]\n",
      " [ 7  8  9 16 17 18]]\n",
      "========================================\n",
      "[[19 20 21 22]\n",
      " [23 24 25 26]\n",
      " [27 28 29 30]]\n",
      "[[ 1  2  3 19 20 21 22]\n",
      " [ 4  5  6 23 24 25 26]\n",
      " [ 7  8  9 27 28 29 30]]\n",
      "========================================\n",
      "[[19 20 21]\n",
      " [22 23 24]\n",
      " [25 26 27]\n",
      " [28 29 30]]\n"
     ]
    },
    {
     "ename": "ValueError",
     "evalue": "all the input array dimensions for the concatenation axis must match exactly, but along dimension 0, the array at index 0 has size 3 and the array at index 1 has size 4",
     "output_type": "error",
     "traceback": [
      "\u001b[1;31m---------------------------------------------------------------------------\u001b[0m",
      "\u001b[1;31mValueError\u001b[0m                                Traceback (most recent call last)",
      "\u001b[1;32m<ipython-input-56-998d275ca2d4>\u001b[0m in \u001b[0;36m<module>\u001b[1;34m\u001b[0m\n\u001b[0;32m     13\u001b[0m \u001b[0mc\u001b[0m \u001b[1;33m=\u001b[0m \u001b[0mnp\u001b[0m\u001b[1;33m.\u001b[0m\u001b[0marange\u001b[0m\u001b[1;33m(\u001b[0m\u001b[1;36m19\u001b[0m\u001b[1;33m,\u001b[0m \u001b[1;36m31\u001b[0m\u001b[1;33m)\u001b[0m\u001b[1;33m.\u001b[0m\u001b[0mreshape\u001b[0m\u001b[1;33m(\u001b[0m\u001b[1;36m4\u001b[0m\u001b[1;33m,\u001b[0m \u001b[1;36m3\u001b[0m\u001b[1;33m)\u001b[0m\u001b[1;33m\u001b[0m\u001b[1;33m\u001b[0m\u001b[0m\n\u001b[0;32m     14\u001b[0m \u001b[0mprint\u001b[0m\u001b[1;33m(\u001b[0m\u001b[0mc\u001b[0m\u001b[1;33m)\u001b[0m\u001b[1;33m\u001b[0m\u001b[1;33m\u001b[0m\u001b[0m\n\u001b[1;32m---> 15\u001b[1;33m \u001b[0mresult\u001b[0m \u001b[1;33m=\u001b[0m \u001b[0mnp\u001b[0m\u001b[1;33m.\u001b[0m\u001b[0mappend\u001b[0m\u001b[1;33m(\u001b[0m\u001b[0ma\u001b[0m\u001b[1;33m,\u001b[0m \u001b[0mc\u001b[0m\u001b[1;33m,\u001b[0m \u001b[0maxis\u001b[0m\u001b[1;33m=\u001b[0m\u001b[1;36m1\u001b[0m\u001b[1;33m)\u001b[0m \u001b[1;31m# 행의 개수가 달라서 에러가 발생된다.\u001b[0m\u001b[1;33m\u001b[0m\u001b[1;33m\u001b[0m\u001b[0m\n\u001b[0m\u001b[0;32m     16\u001b[0m \u001b[0mprint\u001b[0m\u001b[1;33m(\u001b[0m\u001b[0mresult\u001b[0m\u001b[1;33m)\u001b[0m\u001b[1;33m\u001b[0m\u001b[1;33m\u001b[0m\u001b[0m\n",
      "\u001b[1;32m<__array_function__ internals>\u001b[0m in \u001b[0;36mappend\u001b[1;34m(*args, **kwargs)\u001b[0m\n",
      "\u001b[1;32me:\\python36\\lib\\site-packages\\numpy\\lib\\function_base.py\u001b[0m in \u001b[0;36mappend\u001b[1;34m(arr, values, axis)\u001b[0m\n\u001b[0;32m   4669\u001b[0m         \u001b[0mvalues\u001b[0m \u001b[1;33m=\u001b[0m \u001b[0mravel\u001b[0m\u001b[1;33m(\u001b[0m\u001b[0mvalues\u001b[0m\u001b[1;33m)\u001b[0m\u001b[1;33m\u001b[0m\u001b[1;33m\u001b[0m\u001b[0m\n\u001b[0;32m   4670\u001b[0m         \u001b[0maxis\u001b[0m \u001b[1;33m=\u001b[0m \u001b[0marr\u001b[0m\u001b[1;33m.\u001b[0m\u001b[0mndim\u001b[0m\u001b[1;33m-\u001b[0m\u001b[1;36m1\u001b[0m\u001b[1;33m\u001b[0m\u001b[1;33m\u001b[0m\u001b[0m\n\u001b[1;32m-> 4671\u001b[1;33m     \u001b[1;32mreturn\u001b[0m \u001b[0mconcatenate\u001b[0m\u001b[1;33m(\u001b[0m\u001b[1;33m(\u001b[0m\u001b[0marr\u001b[0m\u001b[1;33m,\u001b[0m \u001b[0mvalues\u001b[0m\u001b[1;33m)\u001b[0m\u001b[1;33m,\u001b[0m \u001b[0maxis\u001b[0m\u001b[1;33m=\u001b[0m\u001b[0maxis\u001b[0m\u001b[1;33m)\u001b[0m\u001b[1;33m\u001b[0m\u001b[1;33m\u001b[0m\u001b[0m\n\u001b[0m\u001b[0;32m   4672\u001b[0m \u001b[1;33m\u001b[0m\u001b[0m\n\u001b[0;32m   4673\u001b[0m \u001b[1;33m\u001b[0m\u001b[0m\n",
      "\u001b[1;32m<__array_function__ internals>\u001b[0m in \u001b[0;36mconcatenate\u001b[1;34m(*args, **kwargs)\u001b[0m\n",
      "\u001b[1;31mValueError\u001b[0m: all the input array dimensions for the concatenation axis must match exactly, but along dimension 0, the array at index 0 has size 3 and the array at index 1 has size 4"
     ]
    }
   ],
   "source": [
    "# axis를 1으로 지정하면 배열의 오른쪽에 배열이 추가(행방항으로)되기 때문에 열의 개수는 달라도 상관없지만\n",
    "# 행의 개수는 반드시 같아야 한다.\n",
    "result = np.append(a, b, axis=1)\n",
    "print(result)\n",
    "print('=' * 40)\n",
    "\n",
    "c = np.arange(19, 31).reshape(3, 4)\n",
    "print(c)\n",
    "result = np.append(a, c, axis=1) # 열행의 개수는 달라도 상관없다.\n",
    "print(result)\n",
    "print('=' * 40)\n",
    "\n",
    "c = np.arange(19, 31).reshape(4, 3)\n",
    "print(c)\n",
    "result = np.append(a, c, axis=1) # 행의 개수가 달라서 에러가 발생된다.\n",
    "print(result)"
   ]
  },
  {
   "cell_type": "code",
   "execution_count": 57,
   "id": "7880ffab",
   "metadata": {},
   "outputs": [
    {
     "name": "stdout",
     "output_type": "stream",
     "text": [
      "[[1 2 3]\n",
      " [4 5 6]\n",
      " [7 8 9]]\n"
     ]
    }
   ],
   "source": [
    "# insert() 메소드는 지정된 index 위치에 데이터를 삽입한다.\n",
    "# axis로 데이터가 삽입되는 방향을 지정할 수 있다.\n",
    "# insert(배열, index, 데이터, axis)\n",
    "a = np.arange(1, 10).reshape(3, 3)\n",
    "print(a)"
   ]
  },
  {
   "cell_type": "code",
   "execution_count": 59,
   "id": "3ee44a6b",
   "metadata": {},
   "outputs": [
    {
     "name": "stdout",
     "output_type": "stream",
     "text": [
      "[    1 77777     2     3     4     5     6     7     8     9]\n"
     ]
    }
   ],
   "source": [
    "# axis를 지정하지 않으면 1차원 배열로 변환하고 index 위치에 데이터를 삽입한다.\n",
    "# print(np.insert(a, 1, 77777))\n",
    "print(np.insert(a, 1, 77777, axis=None))"
   ]
  },
  {
   "cell_type": "code",
   "execution_count": 60,
   "id": "10dece2e",
   "metadata": {},
   "outputs": [
    {
     "name": "stdout",
     "output_type": "stream",
     "text": [
      "[[    1     2     3]\n",
      " [77777 77777 77777]\n",
      " [    4     5     6]\n",
      " [    7     8     9]]\n"
     ]
    }
   ],
   "source": [
    "# axis을 0으로 지정하면 열 방향 index 전체에 데이터를 삽입한다.\n",
    "print(np.insert(a, 1, 77777, axis=0))"
   ]
  },
  {
   "cell_type": "code",
   "execution_count": 62,
   "id": "8eee1ad5",
   "metadata": {},
   "outputs": [
    {
     "name": "stdout",
     "output_type": "stream",
     "text": [
      "[[    1 77777     2     3]\n",
      " [    4 77777     5     6]\n",
      " [    7 77777     8     9]]\n"
     ]
    }
   ],
   "source": [
    "# axis을 1으로 지정하면 행 방향 index 전체에 데이터를 삽입한다.\n",
    "print(np.insert(a, 1, 77777, axis=1))"
   ]
  },
  {
   "cell_type": "code",
   "execution_count": 63,
   "id": "c5b940d1",
   "metadata": {},
   "outputs": [
    {
     "name": "stdout",
     "output_type": "stream",
     "text": [
      "[[1 2 3]\n",
      " [4 5 6]\n",
      " [7 8 9]]\n"
     ]
    }
   ],
   "source": [
    "# delete() 메소드는 지정된 index의 데이터를 삭제한다.\n",
    "# axis로 데이터가 삭제되는 방향을 지정할 수 있다.\n",
    "# np.delete(배열, index, axis)\n",
    "a = np.arange(1, 10).reshape(3, 3)\n",
    "print(a)"
   ]
  },
  {
   "cell_type": "code",
   "execution_count": 66,
   "id": "f1ece3b8",
   "metadata": {},
   "outputs": [
    {
     "name": "stdout",
     "output_type": "stream",
     "text": [
      "[1 3 4 5 6 7 8 9]\n"
     ]
    }
   ],
   "source": [
    "# axis를 지정하지 않으면 1차원 배열로 변환하고 index 위치에 데이터를 삭제한다. \n",
    "# print(np.delete(a, 1))\n",
    "print(np.delete(a, 1, axis=None))"
   ]
  },
  {
   "cell_type": "code",
   "execution_count": 68,
   "id": "51401dfb",
   "metadata": {},
   "outputs": [
    {
     "name": "stdout",
     "output_type": "stream",
     "text": [
      "[[1 2 3]\n",
      " [7 8 9]]\n"
     ]
    }
   ],
   "source": [
    "# axis을 0으로 지정하면 열 방향 index 전체 데이터를 삭제한다.\n",
    "print(np.delete(a, 1, axis=0))"
   ]
  },
  {
   "cell_type": "code",
   "execution_count": 70,
   "id": "c771dd33",
   "metadata": {},
   "outputs": [
    {
     "name": "stdout",
     "output_type": "stream",
     "text": [
      "[[1 3]\n",
      " [4 6]\n",
      " [7 9]]\n"
     ]
    }
   ],
   "source": [
    "# axis을 1으로 지정하면 행 방향 index 전체 데이터를 삭제한다.\n",
    "print(np.delete(a, 1, axis=1))"
   ]
  },
  {
   "cell_type": "markdown",
   "id": "e781f7b3",
   "metadata": {},
   "source": [
    "배열 분리  \n",
    "넘파이는 수평 방향으로 분할하는 hsplit() 메소드와 수직 방향으로 분할하는 vsplit() 메소드를 제공한다."
   ]
  },
  {
   "cell_type": "code",
   "execution_count": 71,
   "id": "66a7a42f",
   "metadata": {},
   "outputs": [
    {
     "name": "stdout",
     "output_type": "stream",
     "text": [
      "[[ 1  2  3  4  5  6]\n",
      " [ 7  8  9 10 11 12]\n",
      " [13 14 15 16 17 18]\n",
      " [19 20 21 22 23 24]]\n"
     ]
    }
   ],
   "source": [
    "# np.hsplit(배열, 분할할 배열의 개수), np.hsplit(배열, [분할할 인덱스])\n",
    "a = np.arange(1, 25).reshape(4, 6)\n",
    "print(a)"
   ]
  },
  {
   "cell_type": "code",
   "execution_count": 77,
   "id": "bc4db8bb",
   "metadata": {},
   "outputs": [
    {
     "name": "stdout",
     "output_type": "stream",
     "text": [
      "<class 'list'>\n",
      "[array([[ 1,  2,  3],\n",
      "       [ 7,  8,  9],\n",
      "       [13, 14, 15],\n",
      "       [19, 20, 21]]), array([[ 4,  5,  6],\n",
      "       [10, 11, 12],\n",
      "       [16, 17, 18],\n",
      "       [22, 23, 24]])]\n",
      "<class 'numpy.ndarray'>\n",
      "<class 'numpy.ndarray'>\n",
      "[[ 1  2  3]\n",
      " [ 7  8  9]\n",
      " [13 14 15]\n",
      " [19 20 21]]\n",
      "[[ 4  5  6]\n",
      " [10 11 12]\n",
      " [16 17 18]\n",
      " [22 23 24]]\n"
     ]
    }
   ],
   "source": [
    "result = np.hsplit(a, 2) # hsplit() 메소드의 실행 결과는 파이썬 리스트이다.\n",
    "print(type(result))\n",
    "print(result)\n",
    "print(type(result[0]))\n",
    "print(type(result[1]))\n",
    "print(result[0])\n",
    "print(result[1])"
   ]
  },
  {
   "cell_type": "markdown",
   "id": "19e1fbf2",
   "metadata": {},
   "source": [
    "<img src=\"./numpyImage09.jpg\" width=800 align=\"left\"/>"
   ]
  },
  {
   "cell_type": "code",
   "execution_count": 78,
   "id": "f838a3ee",
   "metadata": {},
   "outputs": [
    {
     "name": "stdout",
     "output_type": "stream",
     "text": [
      "[array([[ 1,  2],\n",
      "       [ 7,  8],\n",
      "       [13, 14],\n",
      "       [19, 20]]), array([[ 3,  4],\n",
      "       [ 9, 10],\n",
      "       [15, 16],\n",
      "       [21, 22]]), array([[ 5,  6],\n",
      "       [11, 12],\n",
      "       [17, 18],\n",
      "       [23, 24]])]\n"
     ]
    }
   ],
   "source": [
    "result = np.hsplit(a, 3)\n",
    "print(result)"
   ]
  },
  {
   "cell_type": "markdown",
   "id": "f935f63c",
   "metadata": {},
   "source": [
    "<img src=\"./numpyImage10.jpg\" width=800 align=\"left\"/>"
   ]
  },
  {
   "cell_type": "code",
   "execution_count": 79,
   "id": "c2d1b4c0",
   "metadata": {},
   "outputs": [
    {
     "name": "stdout",
     "output_type": "stream",
     "text": [
      "[array([[ 1],\n",
      "       [ 7],\n",
      "       [13],\n",
      "       [19]]), array([[ 2,  3],\n",
      "       [ 8,  9],\n",
      "       [14, 15],\n",
      "       [20, 21]]), array([[ 4,  5],\n",
      "       [10, 11],\n",
      "       [16, 17],\n",
      "       [22, 23]]), array([[ 6],\n",
      "       [12],\n",
      "       [18],\n",
      "       [24]])]\n"
     ]
    }
   ],
   "source": [
    "result = np.hsplit(a, [1, 3, 5])\n",
    "print(result)"
   ]
  },
  {
   "cell_type": "markdown",
   "id": "9c7b2091",
   "metadata": {},
   "source": [
    "<img src=\"./numpyImage11.jpg\" width=800 align=\"left\"/>"
   ]
  },
  {
   "cell_type": "code",
   "execution_count": 80,
   "id": "4d2f101c",
   "metadata": {},
   "outputs": [
    {
     "name": "stdout",
     "output_type": "stream",
     "text": [
      "[[ 1  2  3  4  5  6]\n",
      " [ 7  8  9 10 11 12]\n",
      " [13 14 15 16 17 18]\n",
      " [19 20 21 22 23 24]]\n"
     ]
    }
   ],
   "source": [
    "# np.vsplit(배열, 분할할 배열의 개수), np.hsplit(배열, [분할할 인덱스])\n",
    "a = np.arange(1, 25).reshape(4, 6)\n",
    "print(a)"
   ]
  },
  {
   "cell_type": "code",
   "execution_count": 81,
   "id": "ff367f9b",
   "metadata": {},
   "outputs": [
    {
     "name": "stdout",
     "output_type": "stream",
     "text": [
      "[array([[ 1,  2,  3,  4,  5,  6],\n",
      "       [ 7,  8,  9, 10, 11, 12]]), array([[13, 14, 15, 16, 17, 18],\n",
      "       [19, 20, 21, 22, 23, 24]])]\n"
     ]
    }
   ],
   "source": [
    "result = np.vsplit(a, 2)\n",
    "print(result)"
   ]
  },
  {
   "cell_type": "markdown",
   "id": "71f0aa3b",
   "metadata": {},
   "source": [
    "<img src=\"./numpyImage12.jpg\" width=800 align=\"left\"/>"
   ]
  },
  {
   "cell_type": "code",
   "execution_count": 85,
   "id": "638662ac",
   "metadata": {},
   "outputs": [
    {
     "name": "stdout",
     "output_type": "stream",
     "text": [
      "[array([[1, 2, 3, 4, 5, 6]]), array([[ 7,  8,  9, 10, 11, 12]]), array([[13, 14, 15, 16, 17, 18]]), array([[19, 20, 21, 22, 23, 24]])]\n"
     ]
    }
   ],
   "source": [
    "result = np.vsplit(a, 4)\n",
    "print(result)"
   ]
  },
  {
   "cell_type": "markdown",
   "id": "13f300a4",
   "metadata": {},
   "source": [
    "<img src=\"./numpyImage13.jpg\" width=800 align=\"left\"/>"
   ]
  },
  {
   "cell_type": "code",
   "execution_count": 86,
   "id": "ffa25195",
   "metadata": {},
   "outputs": [
    {
     "name": "stdout",
     "output_type": "stream",
     "text": [
      "[array([[1, 2, 3, 4, 5, 6]]), array([[ 7,  8,  9, 10, 11, 12],\n",
      "       [13, 14, 15, 16, 17, 18]]), array([[19, 20, 21, 22, 23, 24]])]\n"
     ]
    }
   ],
   "source": [
    "result = np.vsplit(a, [1, 3])\n",
    "print(result)"
   ]
  },
  {
   "cell_type": "markdown",
   "id": "86f638d3",
   "metadata": {},
   "source": [
    "<img src=\"./numpyImage14.jpg\" width=800 align=\"left\"/>"
   ]
  }
 ],
 "metadata": {
  "kernelspec": {
   "display_name": "Python 3",
   "language": "python",
   "name": "python3"
  },
  "language_info": {
   "codemirror_mode": {
    "name": "ipython",
    "version": 3
   },
   "file_extension": ".py",
   "mimetype": "text/x-python",
   "name": "python",
   "nbconvert_exporter": "python",
   "pygments_lexer": "ipython3",
   "version": "3.6.8"
  }
 },
 "nbformat": 4,
 "nbformat_minor": 5
}
