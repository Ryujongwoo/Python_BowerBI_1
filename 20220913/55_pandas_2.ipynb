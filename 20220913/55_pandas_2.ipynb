{
 "cells": [
  {
   "cell_type": "code",
   "execution_count": 1,
   "id": "3766d893",
   "metadata": {},
   "outputs": [],
   "source": [
    "import numpy as np\n",
    "import pandas as pd"
   ]
  },
  {
   "cell_type": "markdown",
   "id": "b5395577",
   "metadata": {},
   "source": [
    "판다스의 데이터프레임과 시리즈  \n",
    "데이터프레임과 시리즈는 딕셔너리와 비슷하지만 데이터를 다루는데 더 특화되어 있다.  \n",
    "파이썬의 리스트와 딕셔너리는 많은 양의 데이터를 저장하거나 조작할 수 있는 함수가 많치 않은 반면에 판다스의 데이터프레임과 시리즈는 많은 양의 데이터를 저장할 수 있을 뿐만아니라 스프레드시트 프로그램을 사용하는 것 처럼 행과 열 단위로 데이터를 조작할 수 있는 다양한 속성과 메소드가 제공된다."
   ]
  },
  {
   "cell_type": "markdown",
   "id": "37dc4bb9",
   "metadata": {},
   "source": [
    "시리즈 만들기"
   ]
  },
  {
   "cell_type": "code",
   "execution_count": 4,
   "id": "a1967f33",
   "metadata": {},
   "outputs": [
    {
     "name": "stdout",
     "output_type": "stream",
     "text": [
      "<class 'pandas.core.series.Series'>\n",
      "0    banana\n",
      "1      2000\n",
      "dtype: object\n"
     ]
    }
   ],
   "source": [
    "s = pd.Series(['banana', 2000])\n",
    "print(type(s))\n",
    "print(s)"
   ]
  },
  {
   "cell_type": "code",
   "execution_count": 8,
   "id": "07565d9b",
   "metadata": {},
   "outputs": [
    {
     "name": "stdout",
     "output_type": "stream",
     "text": [
      "0    홍길동\n",
      "1    이몽룡\n",
      "dtype: object\n",
      "==================================================\n",
      "도적넘    홍길동\n",
      "공무원    이몽룡\n",
      "dtype: object\n"
     ]
    }
   ],
   "source": [
    "# 시리즈를 생성할 때 문자열을 인덱스로 지정할 수 있다.\n",
    "# 문자열을 인덱스로 지정하려면 Series() 메소드의 index 속성에 인덱스로 사용하려는 문자열을 리스트에 담아\n",
    "# 전달하면 된다.\n",
    "s = pd.Series(['홍길동', '이몽룡']) # 인덱스를 지정하지 않으면 인덱스가 숫자로 자동 부여된다.\n",
    "print(s)\n",
    "print('=' * 50)\n",
    "s = pd.Series(['홍길동', '이몽룡'], index=['도적넘', '공무원'])\n",
    "print(s)"
   ]
  },
  {
   "cell_type": "markdown",
   "id": "9382b5f3",
   "metadata": {},
   "source": [
    "데이터프레임 만들기"
   ]
  },
  {
   "cell_type": "code",
   "execution_count": 14,
   "id": "dc504d68",
   "metadata": {},
   "outputs": [
    {
     "name": "stdout",
     "output_type": "stream",
     "text": [
      "<class 'pandas.core.frame.DataFrame'>\n"
     ]
    },
    {
     "data": {
      "text/html": [
       "<div>\n",
       "<style scoped>\n",
       "    .dataframe tbody tr th:only-of-type {\n",
       "        vertical-align: middle;\n",
       "    }\n",
       "\n",
       "    .dataframe tbody tr th {\n",
       "        vertical-align: top;\n",
       "    }\n",
       "\n",
       "    .dataframe thead th {\n",
       "        text-align: right;\n",
       "    }\n",
       "</style>\n",
       "<table border=\"1\" class=\"dataframe\">\n",
       "  <thead>\n",
       "    <tr style=\"text-align: right;\">\n",
       "      <th></th>\n",
       "      <th>name</th>\n",
       "      <th>job</th>\n",
       "      <th>born</th>\n",
       "      <th>died</th>\n",
       "      <th>age</th>\n",
       "    </tr>\n",
       "  </thead>\n",
       "  <tbody>\n",
       "    <tr>\n",
       "      <th>0</th>\n",
       "      <td>홍길동</td>\n",
       "      <td>도적넘</td>\n",
       "      <td>1920-04-20</td>\n",
       "      <td>1957-08-20</td>\n",
       "      <td>37</td>\n",
       "    </tr>\n",
       "    <tr>\n",
       "      <th>1</th>\n",
       "      <td>임꺽정</td>\n",
       "      <td>도둑넘</td>\n",
       "      <td>1875-05-10</td>\n",
       "      <td>1930-12-10</td>\n",
       "      <td>56</td>\n",
       "    </tr>\n",
       "  </tbody>\n",
       "</table>\n",
       "</div>"
      ],
      "text/plain": [
       "  name  job        born        died  age\n",
       "0  홍길동  도적넘  1920-04-20  1957-08-20   37\n",
       "1  임꺽정  도둑넘  1875-05-10  1930-12-10   56"
      ]
     },
     "execution_count": 14,
     "metadata": {},
     "output_type": "execute_result"
    }
   ],
   "source": [
    "# 데이터프레임을 만들기 위해서는 딕셔너리를 DataFrame() 함수의 인수로 전달하면 된다.\n",
    "df = pd.DataFrame({\n",
    "    # 'key': [value, value, ...] # key는 데이터프레임의 열 이름이 되고 value는 데이터가 된다.\n",
    "    'name': ['홍길동', '임꺽정'],\n",
    "    'job': ['도적넘', '도둑넘'],\n",
    "    'born': ['1920-04-20', '1875-05-10'],\n",
    "    'died': ['1957-08-20', '1930-12-10'],\n",
    "    'age': [37, 56]\n",
    "})\n",
    "print(type(df))\n",
    "df"
   ]
  },
  {
   "cell_type": "code",
   "execution_count": 23,
   "id": "4276198f",
   "metadata": {},
   "outputs": [
    {
     "name": "stdout",
     "output_type": "stream",
     "text": [
      "<class 'pandas.core.frame.DataFrame'>\n"
     ]
    },
    {
     "data": {
      "text/html": [
       "<div>\n",
       "<style scoped>\n",
       "    .dataframe tbody tr th:only-of-type {\n",
       "        vertical-align: middle;\n",
       "    }\n",
       "\n",
       "    .dataframe tbody tr th {\n",
       "        vertical-align: top;\n",
       "    }\n",
       "\n",
       "    .dataframe thead th {\n",
       "        text-align: right;\n",
       "    }\n",
       "</style>\n",
       "<table border=\"1\" class=\"dataframe\">\n",
       "  <thead>\n",
       "    <tr style=\"text-align: right;\">\n",
       "      <th></th>\n",
       "      <th>job</th>\n",
       "      <th>born</th>\n",
       "      <th>died</th>\n",
       "      <th>age</th>\n",
       "    </tr>\n",
       "  </thead>\n",
       "  <tbody>\n",
       "    <tr>\n",
       "      <th>홍길동</th>\n",
       "      <td>도적넘</td>\n",
       "      <td>1920-04-20</td>\n",
       "      <td>1957-08-20</td>\n",
       "      <td>37</td>\n",
       "    </tr>\n",
       "    <tr>\n",
       "      <th>임꺽정</th>\n",
       "      <td>도둑넘</td>\n",
       "      <td>1875-05-10</td>\n",
       "      <td>1930-12-10</td>\n",
       "      <td>56</td>\n",
       "    </tr>\n",
       "  </tbody>\n",
       "</table>\n",
       "</div>"
      ],
      "text/plain": [
       "     job        born        died  age\n",
       "홍길동  도적넘  1920-04-20  1957-08-20   37\n",
       "임꺽정  도둑넘  1875-05-10  1930-12-10   56"
      ]
     },
     "execution_count": 23,
     "metadata": {},
     "output_type": "execute_result"
    }
   ],
   "source": [
    "# DataFrame() 함수의 data 속성에 데이터를 index 속성에 인덱스를 columns 속성에 열 이름을 지정할 수 있다.\n",
    "df = pd.DataFrame(\n",
    "    data={\n",
    "        'job': ['도적넘', '도둑넘'],\n",
    "        'born': ['1920-04-20', '1875-05-10'],\n",
    "        'died': ['1957-08-20', '1930-12-10'],\n",
    "        'age': [37, 56]\n",
    "    },\n",
    "    index=['홍길동', '임꺽정'],\n",
    "    # columns=['job', 'age'] # data 중에서 columns 속성으로 지정한 데이터만 데이터프레임으로 만든다.\n",
    ")\n",
    "print(type(df))\n",
    "df"
   ]
  },
  {
   "cell_type": "markdown",
   "id": "5fe38575",
   "metadata": {},
   "source": [
    "시리즈 다루기"
   ]
  },
  {
   "cell_type": "code",
   "execution_count": 25,
   "id": "c973f4b4",
   "metadata": {},
   "outputs": [
    {
     "name": "stdout",
     "output_type": "stream",
     "text": [
      "<class 'pandas.core.series.Series'>\n",
      "job            도둑넘\n",
      "born    1875-05-10\n",
      "died    1930-12-10\n",
      "age             56\n",
      "Name: 임꺽정, dtype: object\n"
     ]
    }
   ],
   "source": [
    "# 데이터프레임에서 시리즈를 선택하려면 loc, iloc에 인덱스를 전달하면 된다.\n",
    "row = df.loc['임꺽정']\n",
    "print(type(row))\n",
    "print(row)"
   ]
  },
  {
   "cell_type": "code",
   "execution_count": 27,
   "id": "02505369",
   "metadata": {},
   "outputs": [
    {
     "name": "stdout",
     "output_type": "stream",
     "text": [
      "<class 'pandas.core.series.Series'>\n",
      "job            도둑넘\n",
      "born    1875-05-10\n",
      "died    1930-12-10\n",
      "age             56\n",
      "Name: 임꺽정, dtype: object\n"
     ]
    }
   ],
   "source": [
    "row = df.iloc[1]\n",
    "print(type(row))\n",
    "print(row)"
   ]
  },
  {
   "cell_type": "code",
   "execution_count": 29,
   "id": "a03d3169",
   "metadata": {},
   "outputs": [
    {
     "name": "stdout",
     "output_type": "stream",
     "text": [
      "<class 'pandas.core.series.Series'>\n",
      "홍길동    도적넘\n",
      "임꺽정    도둑넘\n",
      "Name: job, dtype: object\n"
     ]
    }
   ],
   "source": [
    "col = df.loc[:, 'job']\n",
    "print(type(col))\n",
    "print(col)"
   ]
  },
  {
   "cell_type": "code",
   "execution_count": 30,
   "id": "d53390aa",
   "metadata": {},
   "outputs": [
    {
     "name": "stdout",
     "output_type": "stream",
     "text": [
      "<class 'pandas.core.series.Series'>\n",
      "홍길동    도적넘\n",
      "임꺽정    도둑넘\n",
      "Name: job, dtype: object\n"
     ]
    }
   ],
   "source": [
    "col = df.iloc[:, 0]\n",
    "print(type(col))\n",
    "print(col)"
   ]
  },
  {
   "cell_type": "code",
   "execution_count": 40,
   "id": "7e31b6a0",
   "metadata": {},
   "outputs": [
    {
     "name": "stdout",
     "output_type": "stream",
     "text": [
      "<class 'pandas.core.series.Series'>\n",
      "홍길동    도적넘\n",
      "임꺽정    도둑넘\n",
      "Name: job, dtype: object\n"
     ]
    }
   ],
   "source": [
    "# []에 지정한 열 이름이 데이터프레임에 없으면 에러가 발생된다.\n",
    "col = df['job']\n",
    "print(type(col))\n",
    "print(col)"
   ]
  },
  {
   "cell_type": "code",
   "execution_count": 41,
   "id": "b5f1f80a",
   "metadata": {},
   "outputs": [
    {
     "name": "stdout",
     "output_type": "stream",
     "text": [
      "<class 'pandas.core.series.Series'>\n",
      "홍길동    도적넘\n",
      "임꺽정    도둑넘\n",
      "Name: job, dtype: object\n"
     ]
    }
   ],
   "source": [
    "# get() 메소드의 인수로 지정한 열 이름이 데이터프레임에 없으면 None이 리턴된다.\n",
    "col = df.get('job')\n",
    "print(type(col))\n",
    "print(col)"
   ]
  },
  {
   "cell_type": "code",
   "execution_count": 42,
   "id": "4c9a8126",
   "metadata": {},
   "outputs": [
    {
     "name": "stdout",
     "output_type": "stream",
     "text": [
      "<class 'pandas.core.series.Series'>\n",
      "홍길동    도적넘\n",
      "임꺽정    도둑넘\n",
      "Name: job, dtype: object\n"
     ]
    }
   ],
   "source": [
    "col = df.job # 1개의 열만 얻어올 때 사용한다.\n",
    "print(type(col))\n",
    "print(col)"
   ]
  },
  {
   "cell_type": "markdown",
   "id": "6e19bf6d",
   "metadata": {},
   "source": [
    "index, values 속성과 keys() 메소드"
   ]
  },
  {
   "cell_type": "code",
   "execution_count": 44,
   "id": "145d68b8",
   "metadata": {},
   "outputs": [
    {
     "name": "stdout",
     "output_type": "stream",
     "text": [
      "<class 'pandas.core.series.Series'>\n",
      "Index(['job', 'born', 'died', 'age'], dtype='object')\n"
     ]
    }
   ],
   "source": [
    "# index 속성은 시리즈의 인덱스를 얻어온다.\n",
    "print(type(row))\n",
    "print(row.index)"
   ]
  },
  {
   "cell_type": "code",
   "execution_count": 45,
   "id": "75b88ed0",
   "metadata": {},
   "outputs": [
    {
     "name": "stdout",
     "output_type": "stream",
     "text": [
      "<class 'pandas.core.series.Series'>\n",
      "Index(['홍길동', '임꺽정'], dtype='object')\n"
     ]
    }
   ],
   "source": [
    "print(type(col))\n",
    "print(col.index)"
   ]
  },
  {
   "cell_type": "code",
   "execution_count": 47,
   "id": "96eb0880",
   "metadata": {},
   "outputs": [
    {
     "name": "stdout",
     "output_type": "stream",
     "text": [
      "<class 'numpy.ndarray'>\n",
      "['도둑넘' '1875-05-10' '1930-12-10' 56]\n"
     ]
    }
   ],
   "source": [
    "# values 속성은 시리즈의 데이터를 얻어온다.\n",
    "print(type(row.values)) # 시리즈의 데이터는 넘파이 배열이다.\n",
    "print(row.values)"
   ]
  },
  {
   "cell_type": "code",
   "execution_count": 48,
   "id": "f6340198",
   "metadata": {},
   "outputs": [
    {
     "name": "stdout",
     "output_type": "stream",
     "text": [
      "<class 'numpy.ndarray'>\n",
      "['도적넘' '도둑넘']\n"
     ]
    }
   ],
   "source": [
    "print(type(col.values))\n",
    "print(col.values)"
   ]
  },
  {
   "cell_type": "code",
   "execution_count": 49,
   "id": "2848b6db",
   "metadata": {},
   "outputs": [
    {
     "name": "stdout",
     "output_type": "stream",
     "text": [
      "<class 'pandas.core.indexes.base.Index'>\n",
      "Index(['job', 'born', 'died', 'age'], dtype='object')\n"
     ]
    }
   ],
   "source": [
    "# keys() 메소드는 index 속성과 똑같이 시리즈의 인덱스를 얻어온다.\n",
    "print(type(row.keys()))\n",
    "print(row.keys())"
   ]
  },
  {
   "cell_type": "code",
   "execution_count": 50,
   "id": "96cfa14c",
   "metadata": {},
   "outputs": [
    {
     "name": "stdout",
     "output_type": "stream",
     "text": [
      "<class 'pandas.core.indexes.base.Index'>\n",
      "Index(['홍길동', '임꺽정'], dtype='object')\n"
     ]
    }
   ],
   "source": [
    "print(type(col.keys()))\n",
    "print(col.keys())"
   ]
  },
  {
   "cell_type": "code",
   "execution_count": 53,
   "id": "329bfd29",
   "metadata": {},
   "outputs": [
    {
     "name": "stdout",
     "output_type": "stream",
     "text": [
      "Index(['job', 'born', 'died', 'age'], dtype='object')\n",
      "job\n",
      "Index(['born', 'died'], dtype='object')\n"
     ]
    }
   ],
   "source": [
    "# index, values 속성의 특정 위치의 값 추출하기\n",
    "print(row.index)\n",
    "print(row.index[0])\n",
    "print(row.index[1:3])"
   ]
  },
  {
   "cell_type": "markdown",
   "id": "9799d7c2",
   "metadata": {},
   "source": [
    "시리즈 기초 통계 함수"
   ]
  },
  {
   "cell_type": "code",
   "execution_count": 57,
   "id": "98d4a3b6",
   "metadata": {},
   "outputs": [
    {
     "name": "stdout",
     "output_type": "stream",
     "text": [
      "<class 'pandas.core.frame.DataFrame'>\n"
     ]
    },
    {
     "data": {
      "text/html": [
       "<div>\n",
       "<style scoped>\n",
       "    .dataframe tbody tr th:only-of-type {\n",
       "        vertical-align: middle;\n",
       "    }\n",
       "\n",
       "    .dataframe tbody tr th {\n",
       "        vertical-align: top;\n",
       "    }\n",
       "\n",
       "    .dataframe thead th {\n",
       "        text-align: right;\n",
       "    }\n",
       "</style>\n",
       "<table border=\"1\" class=\"dataframe\">\n",
       "  <thead>\n",
       "    <tr style=\"text-align: right;\">\n",
       "      <th></th>\n",
       "      <th>Name</th>\n",
       "      <th>Born</th>\n",
       "      <th>Died</th>\n",
       "      <th>Age</th>\n",
       "      <th>Occupation</th>\n",
       "    </tr>\n",
       "  </thead>\n",
       "  <tbody>\n",
       "    <tr>\n",
       "      <th>0</th>\n",
       "      <td>Rosaline Franklin</td>\n",
       "      <td>1920-07-25</td>\n",
       "      <td>1958-04-16</td>\n",
       "      <td>37</td>\n",
       "      <td>Chemist</td>\n",
       "    </tr>\n",
       "    <tr>\n",
       "      <th>1</th>\n",
       "      <td>William Gosset</td>\n",
       "      <td>1876-06-13</td>\n",
       "      <td>1937-10-16</td>\n",
       "      <td>61</td>\n",
       "      <td>Statistician</td>\n",
       "    </tr>\n",
       "    <tr>\n",
       "      <th>2</th>\n",
       "      <td>Florence Nightingale</td>\n",
       "      <td>1820-05-12</td>\n",
       "      <td>1910-08-13</td>\n",
       "      <td>90</td>\n",
       "      <td>Nurse</td>\n",
       "    </tr>\n",
       "    <tr>\n",
       "      <th>3</th>\n",
       "      <td>Marie Curie</td>\n",
       "      <td>1867-11-07</td>\n",
       "      <td>1934-07-04</td>\n",
       "      <td>66</td>\n",
       "      <td>Chemist</td>\n",
       "    </tr>\n",
       "    <tr>\n",
       "      <th>4</th>\n",
       "      <td>Rachel Carson</td>\n",
       "      <td>1907-05-27</td>\n",
       "      <td>1964-04-14</td>\n",
       "      <td>56</td>\n",
       "      <td>Biologist</td>\n",
       "    </tr>\n",
       "    <tr>\n",
       "      <th>5</th>\n",
       "      <td>John Snow</td>\n",
       "      <td>1813-03-15</td>\n",
       "      <td>1858-06-16</td>\n",
       "      <td>45</td>\n",
       "      <td>Physician</td>\n",
       "    </tr>\n",
       "    <tr>\n",
       "      <th>6</th>\n",
       "      <td>Alan Turing</td>\n",
       "      <td>1912-06-23</td>\n",
       "      <td>1954-06-07</td>\n",
       "      <td>41</td>\n",
       "      <td>Computer Scientist</td>\n",
       "    </tr>\n",
       "    <tr>\n",
       "      <th>7</th>\n",
       "      <td>Johann Gauss</td>\n",
       "      <td>1777-04-30</td>\n",
       "      <td>1855-02-23</td>\n",
       "      <td>77</td>\n",
       "      <td>Mathematician</td>\n",
       "    </tr>\n",
       "  </tbody>\n",
       "</table>\n",
       "</div>"
      ],
      "text/plain": [
       "                   Name        Born        Died  Age          Occupation\n",
       "0     Rosaline Franklin  1920-07-25  1958-04-16   37             Chemist\n",
       "1        William Gosset  1876-06-13  1937-10-16   61        Statistician\n",
       "2  Florence Nightingale  1820-05-12  1910-08-13   90               Nurse\n",
       "3           Marie Curie  1867-11-07  1934-07-04   66             Chemist\n",
       "4         Rachel Carson  1907-05-27  1964-04-14   56           Biologist\n",
       "5             John Snow  1813-03-15  1858-06-16   45           Physician\n",
       "6           Alan Turing  1912-06-23  1954-06-07   41  Computer Scientist\n",
       "7          Johann Gauss  1777-04-30  1855-02-23   77       Mathematician"
      ]
     },
     "execution_count": 57,
     "metadata": {},
     "output_type": "execute_result"
    }
   ],
   "source": [
    "scientists = pd.read_csv('./data/scientists.csv')\n",
    "print(type(scientists))\n",
    "scientists"
   ]
  },
  {
   "cell_type": "code",
   "execution_count": 65,
   "id": "8b8802af",
   "metadata": {},
   "outputs": [
    {
     "name": "stdout",
     "output_type": "stream",
     "text": [
      "<class 'pandas.core.series.Series'>\n",
      "0    37\n",
      "1    61\n",
      "2    90\n",
      "3    66\n",
      "4    56\n",
      "5    45\n",
      "6    41\n",
      "7    77\n",
      "Name: Age, dtype: int64\n"
     ]
    }
   ],
   "source": [
    "# ages = scientists['Age']\n",
    "# ages = scientists.get('Age')\n",
    "ages = scientists.Age\n",
    "print(type(ages))\n",
    "print(ages)"
   ]
  },
  {
   "cell_type": "code",
   "execution_count": 67,
   "id": "b5c5e34c",
   "metadata": {},
   "outputs": [
    {
     "name": "stdout",
     "output_type": "stream",
     "text": [
      "sum() = 473\n",
      "mean() = 59.125\n",
      "max() = 90\n",
      "min() = 37\n",
      "count() = 8\n",
      "std() = 18.325918413937288\n"
     ]
    }
   ],
   "source": [
    "print('sum() = {}'.format(ages.sum()))\n",
    "print('mean() = {}'.format(ages.mean()))\n",
    "print('max() = {}'.format(ages.max()))\n",
    "print('min() = {}'.format(ages.min()))\n",
    "print('count() = {}'.format(ages.count()))\n",
    "print('std() = {}'.format(ages.std()))"
   ]
  },
  {
   "cell_type": "markdown",
   "id": "35eb43d3",
   "metadata": {},
   "source": [
    "브로드캐스팅  \n",
    "ages > ages.mean()와 같이 시리즈나 데이터프레임의 모든 데이터에 대해 한 번에 연산하는 것을 브로드캐스팅이라 한다.  \n",
    "이 때, 여러개의 값을 가진 데이터를 '벡터'라 하고 단순 크기를 나타내는 데이터를 '스칼라'라 부른다."
   ]
  },
  {
   "cell_type": "code",
   "execution_count": 77,
   "id": "0ecae200",
   "metadata": {},
   "outputs": [
    {
     "name": "stdout",
     "output_type": "stream",
     "text": [
      "0    False\n",
      "1     True\n",
      "2     True\n",
      "3     True\n",
      "4    False\n",
      "5    False\n",
      "6    False\n",
      "7     True\n",
      "Name: Age, dtype: bool\n"
     ]
    }
   ],
   "source": [
    "# print(ages > ages.mean())\n",
    "bool_value = ages > ages.mean()\n",
    "print(bool_value)\n",
    "# print(ages[bool_value])"
   ]
  },
  {
   "cell_type": "code",
   "execution_count": 75,
   "id": "c2d53540",
   "metadata": {},
   "outputs": [
    {
     "name": "stdout",
     "output_type": "stream",
     "text": [
      "1    61\n",
      "2    90\n",
      "3    66\n",
      "7    77\n",
      "Name: Age, dtype: int64\n"
     ]
    }
   ],
   "source": [
    "print(ages[[False, True, True, True, False, False, False, True]])"
   ]
  },
  {
   "cell_type": "code",
   "execution_count": null,
   "id": "8e9c9fb9",
   "metadata": {},
   "outputs": [],
   "source": []
  },
  {
   "cell_type": "code",
   "execution_count": null,
   "id": "2f716761",
   "metadata": {},
   "outputs": [],
   "source": []
  },
  {
   "cell_type": "code",
   "execution_count": null,
   "id": "8086973e",
   "metadata": {},
   "outputs": [],
   "source": []
  },
  {
   "cell_type": "code",
   "execution_count": null,
   "id": "ebe689e9",
   "metadata": {},
   "outputs": [],
   "source": []
  },
  {
   "cell_type": "code",
   "execution_count": null,
   "id": "8be24661",
   "metadata": {},
   "outputs": [],
   "source": []
  }
 ],
 "metadata": {
  "kernelspec": {
   "display_name": "Python 3",
   "language": "python",
   "name": "python3"
  },
  "language_info": {
   "codemirror_mode": {
    "name": "ipython",
    "version": 3
   },
   "file_extension": ".py",
   "mimetype": "text/x-python",
   "name": "python",
   "nbconvert_exporter": "python",
   "pygments_lexer": "ipython3",
   "version": "3.6.8"
  }
 },
 "nbformat": 4,
 "nbformat_minor": 5
}
