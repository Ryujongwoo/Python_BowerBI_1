{
 "cells": [
  {
   "cell_type": "code",
   "execution_count": 1,
   "id": "2576f033",
   "metadata": {},
   "outputs": [],
   "source": [
    "import warnings\n",
    "warnings.filterwarnings('ignore')\n",
    "import numpy as np\n",
    "import pandas as pd"
   ]
  },
  {
   "cell_type": "markdown",
   "id": "8df1882a",
   "metadata": {},
   "source": [
    "데이터에 누락값이 없으면 좋겠지만 누락값은 대부분의 데이터에 존재하고 깔끔한 데이터를 위해 누락값을 처리하는 것은 매우 중요하다.  \n",
    "누락값은 NaN으로 표기되며 누락값을 파이썬에서 사용하려면 넘파이 라이브러리가 필요하다."
   ]
  },
  {
   "cell_type": "code",
   "execution_count": 2,
   "id": "65201813",
   "metadata": {},
   "outputs": [],
   "source": [
    "from numpy import NaN, NAN, nan"
   ]
  },
  {
   "cell_type": "code",
   "execution_count": 6,
   "id": "1fd9a5f4",
   "metadata": {},
   "outputs": [
    {
     "name": "stdout",
     "output_type": "stream",
     "text": [
      "False\n",
      "False\n",
      "False\n",
      "False\n"
     ]
    }
   ],
   "source": [
    "# 누락값은 0, ''과 같은 값과는 다른 개념으로 데치터 자체가 없다는 것을 의미한다. => NULL => '같다'라는 개념도 존재하지 않는다.\n",
    "print(NaN == True)\n",
    "print(NaN == False)\n",
    "print(NaN == 0)\n",
    "print(NaN == '')"
   ]
  },
  {
   "cell_type": "code",
   "execution_count": 10,
   "id": "a8109738",
   "metadata": {},
   "outputs": [
    {
     "name": "stdout",
     "output_type": "stream",
     "text": [
      "False\n",
      "False\n",
      "False\n"
     ]
    }
   ],
   "source": [
    "# 누락값은 값 자체가 없으므로 자기 자신과 비교해도 False가 출력된다.\n",
    "print(NaN == NaN)\n",
    "print(NAN == NAN)\n",
    "print(nan == nan)"
   ]
  },
  {
   "cell_type": "code",
   "execution_count": null,
   "id": "b9aaa915",
   "metadata": {},
   "outputs": [],
   "source": []
  },
  {
   "cell_type": "code",
   "execution_count": null,
   "id": "053622cb",
   "metadata": {},
   "outputs": [],
   "source": []
  },
  {
   "cell_type": "code",
   "execution_count": null,
   "id": "70d87a8d",
   "metadata": {},
   "outputs": [],
   "source": []
  }
 ],
 "metadata": {
  "kernelspec": {
   "display_name": "Python 3",
   "language": "python",
   "name": "python3"
  },
  "language_info": {
   "codemirror_mode": {
    "name": "ipython",
    "version": 3
   },
   "file_extension": ".py",
   "mimetype": "text/x-python",
   "name": "python",
   "nbconvert_exporter": "python",
   "pygments_lexer": "ipython3",
   "version": "3.6.8"
  }
 },
 "nbformat": 4,
 "nbformat_minor": 5
}
