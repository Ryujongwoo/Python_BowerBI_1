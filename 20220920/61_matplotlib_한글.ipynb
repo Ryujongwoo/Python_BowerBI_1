{
 "cells": [
  {
   "cell_type": "code",
   "execution_count": 1,
   "id": "9f12b0aa",
   "metadata": {},
   "outputs": [],
   "source": [
    "import warnings\n",
    "warnings.filterwarnings('ignore')\n",
    "import numpy as np\n",
    "import pandas as pd"
   ]
  },
  {
   "cell_type": "code",
   "execution_count": 2,
   "id": "32617cc5",
   "metadata": {},
   "outputs": [],
   "source": [
    "# 시각화 작업에 필요한 라이브러리를 설치하고 import 한다.\n",
    "# !pip install matplotlib\n",
    "# !pip install seaborn\n",
    "import matplotlib.pyplot as plt # 그래프\n",
    "import matplotlib as mpl\n",
    "import matplotlib.font_manager as fm\n",
    "# 한글 폰트를 사용할 때 마이너스 데이터가 깨져 보이는 문제를 해결한다.\n",
    "mpl.rcParams['axes.unicode_minus'] = False\n",
    "# 그래프를 쥬피터노트북 내부에 표시하기 위해 사용한다.\n",
    "# %matplotlib inline\n",
    "import seaborn as sns"
   ]
  },
  {
   "cell_type": "code",
   "execution_count": 3,
   "id": "94067333",
   "metadata": {},
   "outputs": [
    {
     "data": {
      "text/plain": [
       "array([ -52,  -25,  -51,  -90,  -63,  -22,  -75, -118, -212, -232, -297,\n",
       "       -227, -210, -231, -141,  -59, -153, -127,  -83, -133,  -92,  -67,\n",
       "       -133,  -75, -122,  -78,  -52,    9,   26,   -4, -102, -190, -265,\n",
       "       -174, -100, -196, -291, -306, -375, -466, -522, -579, -572, -527,\n",
       "       -531, -505, -507, -427, -336, -419], dtype=int32)"
      ]
     },
     "execution_count": 3,
     "metadata": {},
     "output_type": "execute_result"
    }
   ],
   "source": [
    "# 그래프를 작성하기 위한 더미 데이터\n",
    "data = np.random.randint(-100, 100, 50).cumsum()\n",
    "data"
   ]
  },
  {
   "cell_type": "code",
   "execution_count": null,
   "id": "2ff6bb07",
   "metadata": {},
   "outputs": [],
   "source": [
    "plt.plot(range(50), data)\n",
    "plt.rcParams['figure.figsize'] = [12, 7] # 차트 크기\n",
    "plt.title('시간별 가격 추이') # 차트 제목\n",
    "plt.xlabel('시간') # x축 제목\n",
    "plt.ylabel('가격') # y축 제목\n",
    "plt.show()"
   ]
  },
  {
   "cell_type": "code",
   "execution_count": null,
   "id": "f3e3795d",
   "metadata": {},
   "outputs": [],
   "source": [
    "# 폰트 설정을 하기에 앞서서 matplotlib의 설정 정보를 확인한다.\n",
    "print('버전: {}'.format(mpl.__version__))\n",
    "print('설치된 위치: {}'.format(mpl.__file__))\n",
    "print('설정 정보 위치: {}'.format(mpl.get_configdir()))\n",
    "print('캐시 위치: {}'.format(mpl.get_cachedir()))\n",
    "print('설정 파일 위치: {}'.format(mpl.matplotlib_fname()))"
   ]
  },
  {
   "cell_type": "code",
   "execution_count": null,
   "id": "97891281",
   "metadata": {},
   "outputs": [],
   "source": [
    "# 컴퓨터에 설치된 폰트 목록을 얻어온다.\n",
    "font_list = fm.findSystemFonts(fontpaths=None, fontext='ttf')\n",
    "print(len(font_list))\n",
    "print(font_list[:10])"
   ]
  },
  {
   "cell_type": "code",
   "execution_count": null,
   "id": "aa9f0009",
   "metadata": {},
   "outputs": [],
   "source": [
    "font_list = [f.name for f in fm.fontManager.ttflist]\n",
    "print(len(font_list))\n",
    "print(font_list[:10])"
   ]
  },
  {
   "cell_type": "code",
   "execution_count": null,
   "id": "f5c2a754",
   "metadata": {},
   "outputs": [],
   "source": [
    "# 나눔 글꼴을 사용할 예정이므로 이름에 'Nanum'이 포함된 폰트만 가져온다.\n",
    "font_list = [(f.name, f.fname) for f in fm.fontManager.ttflist if 'Nanum' in f.name]\n",
    "font_list[:10]"
   ]
  },
  {
   "cell_type": "code",
   "execution_count": null,
   "id": "88be95bd",
   "metadata": {},
   "outputs": [],
   "source": [
    "# 위의 식을 실행한 결과가 []만 나오면 캐시 폴더로 이동해 폴더의 모든 내용을 삭제한 후 다시 실행한다.\n",
    "mpl.font_manager._rebuild()"
   ]
  },
  {
   "cell_type": "markdown",
   "id": "c6f3b986",
   "metadata": {},
   "source": [
    "한글 폰트를 적용하는 방법은 3가지가 있다."
   ]
  },
  {
   "cell_type": "code",
   "execution_count": null,
   "id": "5e3726c6",
   "metadata": {},
   "outputs": [],
   "source": [
    "# 1. FontProperties를 사용하는 방법 => 그래프의 한글 폰트가 필요한 항목마다 지정한다.\n",
    "# 텍스트를 지정하는 항목에 지정해서 사용할 수 있고 지정한 항목에만 해당 폰트가 적용된다.\n",
    "# matplotlib.pyplot => title(), xlabel(), ylabel(), legend(), text()\n",
    "# matplotlib.axes => set_title()\n",
    "font = 'C:\\\\Windows\\\\Fonts\\\\NanumGothicCoding.ttf'\n",
    "fontprop = fm.FontProperties(fname=font, size=15)"
   ]
  },
  {
   "cell_type": "code",
   "execution_count": null,
   "id": "e4d06774",
   "metadata": {},
   "outputs": [],
   "source": [
    "plt.plot(range(50), data, 'm')\n",
    "plt.rcParams['figure.figsize'] = [12, 7]\n",
    "plt.title('시간별 가격 추이', fontproperties=fontprop)\n",
    "plt.xlabel('시간', fontproperties=fontprop)\n",
    "plt.ylabel('가격', fontproperties=fontprop)\n",
    "plt.show()"
   ]
  },
  {
   "cell_type": "code",
   "execution_count": null,
   "id": "2dba44b0",
   "metadata": {},
   "outputs": [],
   "source": [
    "# 2. matplotlib 라이브러리의 rcParams[]로 전역 글꼴로 설정한다. => 쥬피터노트북에서 파일마다 지정해야 한다.\n",
    "print('기본으로 설정된 폰트 이름: {}'.format(plt.rcParams['font.family']))\n",
    "print('기본으로 설정된 폰트 크기: {}'.format(plt.rcParams['font.size']))"
   ]
  },
  {
   "cell_type": "code",
   "execution_count": null,
   "id": "d1ab811a",
   "metadata": {},
   "outputs": [],
   "source": [
    "# 2-1\n",
    "plt.rcParams['font.family'] = 'NanumGothicCoding'\n",
    "plt.rcParams['font.size'] = 15"
   ]
  },
  {
   "cell_type": "code",
   "execution_count": null,
   "id": "e3edda1e",
   "metadata": {},
   "outputs": [],
   "source": [
    "plt.plot(range(50), data, 'm')\n",
    "plt.rcParams['figure.figsize'] = [12, 7]\n",
    "plt.title('시간별 가격 추이')\n",
    "plt.xlabel('시간')\n",
    "plt.ylabel('가격')\n",
    "plt.show()"
   ]
  },
  {
   "cell_type": "code",
   "execution_count": null,
   "id": "fad70984",
   "metadata": {},
   "outputs": [],
   "source": [
    "# 2-2\n",
    "# rcParams[] 대신 FontProperties의 plt.rc를 사용하는 방법\n",
    "font = 'C:\\\\Windows\\\\Fonts\\\\NanumGothicCoding.ttf'\n",
    "font_name = fm.FontProperties(fname=font, size=15).get_name()\n",
    "print(font_name)\n",
    "plt.rc('font', family=font_name)"
   ]
  },
  {
   "cell_type": "code",
   "execution_count": null,
   "id": "b5e6700d",
   "metadata": {},
   "outputs": [],
   "source": [
    "plt.plot(range(50), data, 'm')\n",
    "plt.rcParams['figure.figsize'] = [12, 7]\n",
    "plt.title('시간별 가격 추이')\n",
    "plt.xlabel('시간')\n",
    "plt.ylabel('가격')\n",
    "plt.show()"
   ]
  },
  {
   "cell_type": "code",
   "execution_count": null,
   "id": "20dba927",
   "metadata": {},
   "outputs": [],
   "source": [
    "# 3. rcParams를 matplotlib 설정 파일(matplotlibrc)에 직접 넣어준다. => 현재 컴퓨터의 모든 쥬피터노트북에 적용된다.\n",
    "# 이곳에 폰트를 지정해주면 현재 컴퓨터에서 쥬피터노트북을 실행할 때 마다 바로 글꼴이 로드되록록 할 수 있다.\n",
    "# font.family: sans-serif => NanumGothicCoding"
   ]
  },
  {
   "cell_type": "code",
   "execution_count": 4,
   "id": "be269287",
   "metadata": {},
   "outputs": [
    {
     "data": {
      "image/png": "[encoded data removed]",
      "text/plain": [
       "<Figure size 432x288 with 1 Axes>"
      ]
     },
     "metadata": {
      "needs_background": "light"
     },
     "output_type": "display_data"
    }
   ],
   "source": [
    "plt.plot(range(50), data, 'm')\n",
    "plt.rcParams['figure.figsize'] = [12, 7]\n",
    "plt.title('시간별 가격 추이')\n",
    "plt.xlabel('시간')\n",
    "plt.ylabel('가격')\n",
    "plt.show()"
   ]
  },
  {
   "cell_type": "code",
   "execution_count": null,
   "id": "8a08d40f",
   "metadata": {},
   "outputs": [],
   "source": []
  },
  {
   "cell_type": "code",
   "execution_count": null,
   "id": "00f8de30",
   "metadata": {},
   "outputs": [],
   "source": []
  },
  {
   "cell_type": "code",
   "execution_count": null,
   "id": "fdfd54aa",
   "metadata": {},
   "outputs": [],
   "source": []
  },
  {
   "cell_type": "code",
   "execution_count": null,
   "id": "53c09f8a",
   "metadata": {},
   "outputs": [],
   "source": []
  },
  {
   "cell_type": "code",
   "execution_count": null,
   "id": "a5e20325",
   "metadata": {},
   "outputs": [],
   "source": []
  }
 ],
 "metadata": {
  "kernelspec": {
   "display_name": "Python 3",
   "language": "python",
   "name": "python3"
  },
  "language_info": {
   "codemirror_mode": {
    "name": "ipython",
    "version": 3
   },
   "file_extension": ".py",
   "mimetype": "text/x-python",
   "name": "python",
   "nbconvert_exporter": "python",
   "pygments_lexer": "ipython3",
   "version": "3.6.8"
  }
 },
 "nbformat": 4,
 "nbformat_minor": 5
}
